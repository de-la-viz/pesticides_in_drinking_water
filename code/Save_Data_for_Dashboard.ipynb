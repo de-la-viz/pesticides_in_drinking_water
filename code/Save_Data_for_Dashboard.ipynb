{
 "cells": [
  {
   "cell_type": "markdown",
   "metadata": {},
   "source": [
    "# Reshape Data for Tableau Dashboard\n",
    "\n",
    "Aim: split (explode) the column *cities_served*, so that we can sum the number of violations per city and plot them on a map.  "
   ]
  },
  {
   "cell_type": "code",
   "execution_count": 62,
   "metadata": {},
   "outputs": [],
   "source": [
    "import pandas as pd\n",
    "import numpy as np\n",
    "import matplotlib as plt\n",
    "%matplotlib inline"
   ]
  },
  {
   "cell_type": "code",
   "execution_count": 52,
   "metadata": {},
   "outputs": [
    {
     "data": {
      "text/html": [
       "<div>\n",
       "<style scoped>\n",
       "    .dataframe tbody tr th:only-of-type {\n",
       "        vertical-align: middle;\n",
       "    }\n",
       "\n",
       "    .dataframe tbody tr th {\n",
       "        vertical-align: top;\n",
       "    }\n",
       "\n",
       "    .dataframe thead th {\n",
       "        text-align: right;\n",
       "    }\n",
       "</style>\n",
       "<table border=\"1\" class=\"dataframe\">\n",
       "  <thead>\n",
       "    <tr style=\"text-align: right;\">\n",
       "      <th></th>\n",
       "      <th>pwsid</th>\n",
       "      <th>pws_name</th>\n",
       "      <th>primacy_agency_code</th>\n",
       "      <th>pws_type_code</th>\n",
       "      <th>gw_sw_code</th>\n",
       "      <th>owner_type_code</th>\n",
       "      <th>population_served_count</th>\n",
       "      <th>primary_source_code</th>\n",
       "      <th>is_wholesaler_ind</th>\n",
       "      <th>is_school_or_daycare_ind</th>\n",
       "      <th>...</th>\n",
       "      <th>counties_served</th>\n",
       "      <th>ansi_entity_code</th>\n",
       "      <th>year</th>\n",
       "      <th>n_viol</th>\n",
       "      <th>n_pesticide_viol</th>\n",
       "      <th>had_violation</th>\n",
       "      <th>had_pesticide_violation</th>\n",
       "      <th>had_violation_lastyear</th>\n",
       "      <th>had_pesticide_violation_lastyear</th>\n",
       "      <th>EPEST_LOW_KG</th>\n",
       "    </tr>\n",
       "  </thead>\n",
       "  <tbody>\n",
       "    <tr>\n",
       "      <td>0</td>\n",
       "      <td>CT0010024</td>\n",
       "      <td>ANDOVER TOWN HALL &amp; FIRE DEPARTMENT</td>\n",
       "      <td>CT</td>\n",
       "      <td>TNCWS</td>\n",
       "      <td>GW</td>\n",
       "      <td>P</td>\n",
       "      <td>25</td>\n",
       "      <td>GW</td>\n",
       "      <td>N</td>\n",
       "      <td>N</td>\n",
       "      <td>...</td>\n",
       "      <td>Tolland</td>\n",
       "      <td>13.0</td>\n",
       "      <td>2012</td>\n",
       "      <td>0.0</td>\n",
       "      <td>0.0</td>\n",
       "      <td>0</td>\n",
       "      <td>0</td>\n",
       "      <td>NaN</td>\n",
       "      <td>NaN</td>\n",
       "      <td>12871.8</td>\n",
       "    </tr>\n",
       "    <tr>\n",
       "      <td>1</td>\n",
       "      <td>CT0010024</td>\n",
       "      <td>ANDOVER TOWN HALL &amp; FIRE DEPARTMENT</td>\n",
       "      <td>CT</td>\n",
       "      <td>TNCWS</td>\n",
       "      <td>GW</td>\n",
       "      <td>P</td>\n",
       "      <td>25</td>\n",
       "      <td>GW</td>\n",
       "      <td>N</td>\n",
       "      <td>N</td>\n",
       "      <td>...</td>\n",
       "      <td>Tolland</td>\n",
       "      <td>13.0</td>\n",
       "      <td>2013</td>\n",
       "      <td>0.0</td>\n",
       "      <td>0.0</td>\n",
       "      <td>0</td>\n",
       "      <td>0</td>\n",
       "      <td>0.0</td>\n",
       "      <td>0.0</td>\n",
       "      <td>17060.6</td>\n",
       "    </tr>\n",
       "    <tr>\n",
       "      <td>2</td>\n",
       "      <td>CT0010024</td>\n",
       "      <td>ANDOVER TOWN HALL &amp; FIRE DEPARTMENT</td>\n",
       "      <td>CT</td>\n",
       "      <td>TNCWS</td>\n",
       "      <td>GW</td>\n",
       "      <td>P</td>\n",
       "      <td>25</td>\n",
       "      <td>GW</td>\n",
       "      <td>N</td>\n",
       "      <td>N</td>\n",
       "      <td>...</td>\n",
       "      <td>Tolland</td>\n",
       "      <td>13.0</td>\n",
       "      <td>2014</td>\n",
       "      <td>0.0</td>\n",
       "      <td>0.0</td>\n",
       "      <td>0</td>\n",
       "      <td>0</td>\n",
       "      <td>0.0</td>\n",
       "      <td>0.0</td>\n",
       "      <td>11132.3</td>\n",
       "    </tr>\n",
       "    <tr>\n",
       "      <td>3</td>\n",
       "      <td>CT0010024</td>\n",
       "      <td>ANDOVER TOWN HALL &amp; FIRE DEPARTMENT</td>\n",
       "      <td>CT</td>\n",
       "      <td>TNCWS</td>\n",
       "      <td>GW</td>\n",
       "      <td>P</td>\n",
       "      <td>25</td>\n",
       "      <td>GW</td>\n",
       "      <td>N</td>\n",
       "      <td>N</td>\n",
       "      <td>...</td>\n",
       "      <td>Tolland</td>\n",
       "      <td>13.0</td>\n",
       "      <td>2015</td>\n",
       "      <td>0.0</td>\n",
       "      <td>0.0</td>\n",
       "      <td>0</td>\n",
       "      <td>0</td>\n",
       "      <td>0.0</td>\n",
       "      <td>0.0</td>\n",
       "      <td>14271.5</td>\n",
       "    </tr>\n",
       "    <tr>\n",
       "      <td>4</td>\n",
       "      <td>CT0010024</td>\n",
       "      <td>ANDOVER TOWN HALL &amp; FIRE DEPARTMENT</td>\n",
       "      <td>CT</td>\n",
       "      <td>TNCWS</td>\n",
       "      <td>GW</td>\n",
       "      <td>P</td>\n",
       "      <td>25</td>\n",
       "      <td>GW</td>\n",
       "      <td>N</td>\n",
       "      <td>N</td>\n",
       "      <td>...</td>\n",
       "      <td>Tolland</td>\n",
       "      <td>13.0</td>\n",
       "      <td>2016</td>\n",
       "      <td>0.0</td>\n",
       "      <td>0.0</td>\n",
       "      <td>0</td>\n",
       "      <td>0</td>\n",
       "      <td>0.0</td>\n",
       "      <td>0.0</td>\n",
       "      <td>13550.1</td>\n",
       "    </tr>\n",
       "  </tbody>\n",
       "</table>\n",
       "<p>5 rows × 22 columns</p>\n",
       "</div>"
      ],
      "text/plain": [
       "       pwsid                             pws_name primacy_agency_code  \\\n",
       "0  CT0010024  ANDOVER TOWN HALL & FIRE DEPARTMENT                  CT   \n",
       "1  CT0010024  ANDOVER TOWN HALL & FIRE DEPARTMENT                  CT   \n",
       "2  CT0010024  ANDOVER TOWN HALL & FIRE DEPARTMENT                  CT   \n",
       "3  CT0010024  ANDOVER TOWN HALL & FIRE DEPARTMENT                  CT   \n",
       "4  CT0010024  ANDOVER TOWN HALL & FIRE DEPARTMENT                  CT   \n",
       "\n",
       "  pws_type_code gw_sw_code owner_type_code  population_served_count  \\\n",
       "0         TNCWS         GW               P                       25   \n",
       "1         TNCWS         GW               P                       25   \n",
       "2         TNCWS         GW               P                       25   \n",
       "3         TNCWS         GW               P                       25   \n",
       "4         TNCWS         GW               P                       25   \n",
       "\n",
       "  primary_source_code is_wholesaler_ind is_school_or_daycare_ind  ...  \\\n",
       "0                  GW                 N                        N  ...   \n",
       "1                  GW                 N                        N  ...   \n",
       "2                  GW                 N                        N  ...   \n",
       "3                  GW                 N                        N  ...   \n",
       "4                  GW                 N                        N  ...   \n",
       "\n",
       "   counties_served ansi_entity_code  year  n_viol  n_pesticide_viol  \\\n",
       "0          Tolland             13.0  2012     0.0               0.0   \n",
       "1          Tolland             13.0  2013     0.0               0.0   \n",
       "2          Tolland             13.0  2014     0.0               0.0   \n",
       "3          Tolland             13.0  2015     0.0               0.0   \n",
       "4          Tolland             13.0  2016     0.0               0.0   \n",
       "\n",
       "   had_violation  had_pesticide_violation  had_violation_lastyear  \\\n",
       "0              0                        0                     NaN   \n",
       "1              0                        0                     0.0   \n",
       "2              0                        0                     0.0   \n",
       "3              0                        0                     0.0   \n",
       "4              0                        0                     0.0   \n",
       "\n",
       "   had_pesticide_violation_lastyear  EPEST_LOW_KG  \n",
       "0                               NaN       12871.8  \n",
       "1                               0.0       17060.6  \n",
       "2                               0.0       11132.3  \n",
       "3                               0.0       14271.5  \n",
       "4                               0.0       13550.1  \n",
       "\n",
       "[5 rows x 22 columns]"
      ]
     },
     "execution_count": 52,
     "metadata": {},
     "output_type": "execute_result"
    }
   ],
   "source": [
    "# read data:\n",
    "data = pd.read_csv('../data/data_input_for_model.csv')\n",
    "data.head()"
   ]
  },
  {
   "cell_type": "code",
   "execution_count": 5,
   "metadata": {},
   "outputs": [
    {
     "data": {
      "text/plain": [
       "(62826, 22)"
      ]
     },
     "execution_count": 5,
     "metadata": {},
     "output_type": "execute_result"
    }
   ],
   "source": [
    "data.shape"
   ]
  },
  {
   "cell_type": "code",
   "execution_count": 2,
   "metadata": {},
   "outputs": [
    {
     "data": {
      "text/plain": [
       "WINDHAM                                                                                                                                                                              486\n",
       "BROOKFIELD                                                                                                                                                                           444\n",
       "KILLINGTON                                                                                                                                                                           432\n",
       "CHARLESTOWN                                                                                                                                                                          414\n",
       "PLYMOUTH                                                                                                                                                                             414\n",
       "                                                                                                                                                                                    ... \n",
       "PEPPERELL                                                                                                                                                                              6\n",
       "BINGHAM,MOSCOW                                                                                                                                                                         6\n",
       "BEACON FALLS,BRIDGEPORT,DARIEN,EASTON,FAIRFIELD,GREENWICH,MONROE,NEW CANAAN,NEWTOWN,NORWALK,REDDING,RIDGEFIELD,SEYMOUR,SHELTON,STAMFORD,STRATFORD,TRUMBULL,WESTON,WESTPORT,WILTON      6\n",
       "BRIDPORT                                                                                                                                                                               6\n",
       "COPLIN PLT,EUSTIS                                                                                                                                                                      6\n",
       "Name: cities_served, Length: 1205, dtype: int64"
      ]
     },
     "execution_count": 2,
     "metadata": {},
     "output_type": "execute_result"
    }
   ],
   "source": [
    "data.cities_served.value_counts()"
   ]
  },
  {
   "cell_type": "code",
   "execution_count": 53,
   "metadata": {},
   "outputs": [],
   "source": [
    "# data.cities_served = data.cities_served.apply(lambda x: [x])\n",
    "data.cities_served = data.cities_served.apply(lambda x: x.split(','))"
   ]
  },
  {
   "cell_type": "code",
   "execution_count": 55,
   "metadata": {},
   "outputs": [],
   "source": [
    "data_dashboard = data.explode('cities_served')"
   ]
  },
  {
   "cell_type": "code",
   "execution_count": 56,
   "metadata": {},
   "outputs": [
    {
     "name": "stdout",
     "output_type": "stream",
     "text": [
      "(64482, 22)\n"
     ]
    },
    {
     "data": {
      "text/html": [
       "<div>\n",
       "<style scoped>\n",
       "    .dataframe tbody tr th:only-of-type {\n",
       "        vertical-align: middle;\n",
       "    }\n",
       "\n",
       "    .dataframe tbody tr th {\n",
       "        vertical-align: top;\n",
       "    }\n",
       "\n",
       "    .dataframe thead th {\n",
       "        text-align: right;\n",
       "    }\n",
       "</style>\n",
       "<table border=\"1\" class=\"dataframe\">\n",
       "  <thead>\n",
       "    <tr style=\"text-align: right;\">\n",
       "      <th></th>\n",
       "      <th>pwsid</th>\n",
       "      <th>pws_name</th>\n",
       "      <th>primacy_agency_code</th>\n",
       "      <th>pws_type_code</th>\n",
       "      <th>gw_sw_code</th>\n",
       "      <th>owner_type_code</th>\n",
       "      <th>population_served_count</th>\n",
       "      <th>primary_source_code</th>\n",
       "      <th>is_wholesaler_ind</th>\n",
       "      <th>is_school_or_daycare_ind</th>\n",
       "      <th>...</th>\n",
       "      <th>counties_served</th>\n",
       "      <th>ansi_entity_code</th>\n",
       "      <th>year</th>\n",
       "      <th>n_viol</th>\n",
       "      <th>n_pesticide_viol</th>\n",
       "      <th>had_violation</th>\n",
       "      <th>had_pesticide_violation</th>\n",
       "      <th>had_violation_lastyear</th>\n",
       "      <th>had_pesticide_violation_lastyear</th>\n",
       "      <th>EPEST_LOW_KG</th>\n",
       "    </tr>\n",
       "  </thead>\n",
       "  <tbody>\n",
       "    <tr>\n",
       "      <td>0</td>\n",
       "      <td>CT0010024</td>\n",
       "      <td>ANDOVER TOWN HALL &amp; FIRE DEPARTMENT</td>\n",
       "      <td>CT</td>\n",
       "      <td>TNCWS</td>\n",
       "      <td>GW</td>\n",
       "      <td>P</td>\n",
       "      <td>25</td>\n",
       "      <td>GW</td>\n",
       "      <td>N</td>\n",
       "      <td>N</td>\n",
       "      <td>...</td>\n",
       "      <td>Tolland</td>\n",
       "      <td>13.0</td>\n",
       "      <td>2012</td>\n",
       "      <td>0.0</td>\n",
       "      <td>0.0</td>\n",
       "      <td>0</td>\n",
       "      <td>0</td>\n",
       "      <td>NaN</td>\n",
       "      <td>NaN</td>\n",
       "      <td>12871.8</td>\n",
       "    </tr>\n",
       "    <tr>\n",
       "      <td>1</td>\n",
       "      <td>CT0010024</td>\n",
       "      <td>ANDOVER TOWN HALL &amp; FIRE DEPARTMENT</td>\n",
       "      <td>CT</td>\n",
       "      <td>TNCWS</td>\n",
       "      <td>GW</td>\n",
       "      <td>P</td>\n",
       "      <td>25</td>\n",
       "      <td>GW</td>\n",
       "      <td>N</td>\n",
       "      <td>N</td>\n",
       "      <td>...</td>\n",
       "      <td>Tolland</td>\n",
       "      <td>13.0</td>\n",
       "      <td>2013</td>\n",
       "      <td>0.0</td>\n",
       "      <td>0.0</td>\n",
       "      <td>0</td>\n",
       "      <td>0</td>\n",
       "      <td>0.0</td>\n",
       "      <td>0.0</td>\n",
       "      <td>17060.6</td>\n",
       "    </tr>\n",
       "    <tr>\n",
       "      <td>2</td>\n",
       "      <td>CT0010024</td>\n",
       "      <td>ANDOVER TOWN HALL &amp; FIRE DEPARTMENT</td>\n",
       "      <td>CT</td>\n",
       "      <td>TNCWS</td>\n",
       "      <td>GW</td>\n",
       "      <td>P</td>\n",
       "      <td>25</td>\n",
       "      <td>GW</td>\n",
       "      <td>N</td>\n",
       "      <td>N</td>\n",
       "      <td>...</td>\n",
       "      <td>Tolland</td>\n",
       "      <td>13.0</td>\n",
       "      <td>2014</td>\n",
       "      <td>0.0</td>\n",
       "      <td>0.0</td>\n",
       "      <td>0</td>\n",
       "      <td>0</td>\n",
       "      <td>0.0</td>\n",
       "      <td>0.0</td>\n",
       "      <td>11132.3</td>\n",
       "    </tr>\n",
       "    <tr>\n",
       "      <td>3</td>\n",
       "      <td>CT0010024</td>\n",
       "      <td>ANDOVER TOWN HALL &amp; FIRE DEPARTMENT</td>\n",
       "      <td>CT</td>\n",
       "      <td>TNCWS</td>\n",
       "      <td>GW</td>\n",
       "      <td>P</td>\n",
       "      <td>25</td>\n",
       "      <td>GW</td>\n",
       "      <td>N</td>\n",
       "      <td>N</td>\n",
       "      <td>...</td>\n",
       "      <td>Tolland</td>\n",
       "      <td>13.0</td>\n",
       "      <td>2015</td>\n",
       "      <td>0.0</td>\n",
       "      <td>0.0</td>\n",
       "      <td>0</td>\n",
       "      <td>0</td>\n",
       "      <td>0.0</td>\n",
       "      <td>0.0</td>\n",
       "      <td>14271.5</td>\n",
       "    </tr>\n",
       "    <tr>\n",
       "      <td>4</td>\n",
       "      <td>CT0010024</td>\n",
       "      <td>ANDOVER TOWN HALL &amp; FIRE DEPARTMENT</td>\n",
       "      <td>CT</td>\n",
       "      <td>TNCWS</td>\n",
       "      <td>GW</td>\n",
       "      <td>P</td>\n",
       "      <td>25</td>\n",
       "      <td>GW</td>\n",
       "      <td>N</td>\n",
       "      <td>N</td>\n",
       "      <td>...</td>\n",
       "      <td>Tolland</td>\n",
       "      <td>13.0</td>\n",
       "      <td>2016</td>\n",
       "      <td>0.0</td>\n",
       "      <td>0.0</td>\n",
       "      <td>0</td>\n",
       "      <td>0</td>\n",
       "      <td>0.0</td>\n",
       "      <td>0.0</td>\n",
       "      <td>13550.1</td>\n",
       "    </tr>\n",
       "  </tbody>\n",
       "</table>\n",
       "<p>5 rows × 22 columns</p>\n",
       "</div>"
      ],
      "text/plain": [
       "       pwsid                             pws_name primacy_agency_code  \\\n",
       "0  CT0010024  ANDOVER TOWN HALL & FIRE DEPARTMENT                  CT   \n",
       "1  CT0010024  ANDOVER TOWN HALL & FIRE DEPARTMENT                  CT   \n",
       "2  CT0010024  ANDOVER TOWN HALL & FIRE DEPARTMENT                  CT   \n",
       "3  CT0010024  ANDOVER TOWN HALL & FIRE DEPARTMENT                  CT   \n",
       "4  CT0010024  ANDOVER TOWN HALL & FIRE DEPARTMENT                  CT   \n",
       "\n",
       "  pws_type_code gw_sw_code owner_type_code  population_served_count  \\\n",
       "0         TNCWS         GW               P                       25   \n",
       "1         TNCWS         GW               P                       25   \n",
       "2         TNCWS         GW               P                       25   \n",
       "3         TNCWS         GW               P                       25   \n",
       "4         TNCWS         GW               P                       25   \n",
       "\n",
       "  primary_source_code is_wholesaler_ind is_school_or_daycare_ind  ...  \\\n",
       "0                  GW                 N                        N  ...   \n",
       "1                  GW                 N                        N  ...   \n",
       "2                  GW                 N                        N  ...   \n",
       "3                  GW                 N                        N  ...   \n",
       "4                  GW                 N                        N  ...   \n",
       "\n",
       "   counties_served ansi_entity_code  year  n_viol  n_pesticide_viol  \\\n",
       "0          Tolland             13.0  2012     0.0               0.0   \n",
       "1          Tolland             13.0  2013     0.0               0.0   \n",
       "2          Tolland             13.0  2014     0.0               0.0   \n",
       "3          Tolland             13.0  2015     0.0               0.0   \n",
       "4          Tolland             13.0  2016     0.0               0.0   \n",
       "\n",
       "   had_violation  had_pesticide_violation  had_violation_lastyear  \\\n",
       "0              0                        0                     NaN   \n",
       "1              0                        0                     0.0   \n",
       "2              0                        0                     0.0   \n",
       "3              0                        0                     0.0   \n",
       "4              0                        0                     0.0   \n",
       "\n",
       "   had_pesticide_violation_lastyear  EPEST_LOW_KG  \n",
       "0                               NaN       12871.8  \n",
       "1                               0.0       17060.6  \n",
       "2                               0.0       11132.3  \n",
       "3                               0.0       14271.5  \n",
       "4                               0.0       13550.1  \n",
       "\n",
       "[5 rows x 22 columns]"
      ]
     },
     "execution_count": 56,
     "metadata": {},
     "output_type": "execute_result"
    }
   ],
   "source": [
    "print(data_dashboard.shape)\n",
    "data_dashboard.head()"
   ]
  },
  {
   "cell_type": "code",
   "execution_count": 57,
   "metadata": {},
   "outputs": [
    {
     "data": {
      "text/plain": [
       "WINDHAM            498\n",
       "BROOKFIELD         486\n",
       "KILLINGTON         432\n",
       "PLYMOUTH           426\n",
       "CHARLESTOWN        414\n",
       "                  ... \n",
       "WEST WINDSOR         6\n",
       "LANDAFF              6\n",
       "STETSONTOWN TWP      6\n",
       "NATICK               6\n",
       "PROVINCETOWN         6\n",
       "Name: cities_served, Length: 1126, dtype: int64"
      ]
     },
     "execution_count": 57,
     "metadata": {},
     "output_type": "execute_result"
    }
   ],
   "source": [
    "data_dashboard.cities_served.value_counts()"
   ]
  },
  {
   "cell_type": "code",
   "execution_count": 54,
   "metadata": {},
   "outputs": [
    {
     "data": {
      "text/plain": [
       "[WINDHAM]                          486\n",
       "[BROOKFIELD]                       444\n",
       "[KILLINGTON]                       432\n",
       "[PLYMOUTH]                         414\n",
       "[CHARLESTOWN]                      414\n",
       "                                  ... \n",
       "[T02 R10 WELS]                       6\n",
       "[CHAIN OF PONDS TWP]                 6\n",
       "[TIM POND TWP]                       6\n",
       "[NEW PORTLAND, PIERCE POND TWP]      6\n",
       "[COBURN GORE]                        6\n",
       "Name: cities_served, Length: 1205, dtype: int64"
      ]
     },
     "execution_count": 54,
     "metadata": {},
     "output_type": "execute_result"
    }
   ],
   "source": [
    "data.cities_served.value_counts()"
   ]
  },
  {
   "cell_type": "code",
   "execution_count": 58,
   "metadata": {},
   "outputs": [],
   "source": [
    "# SAVE THE NEWLY CREATED DATA:\n",
    "data_dashboard.to_csv('../data/data_for_dashboard.csv', index=False)"
   ]
  },
  {
   "cell_type": "code",
   "execution_count": 72,
   "metadata": {},
   "outputs": [
    {
     "data": {
      "text/plain": [
       "Index(['pwsid', 'pws_name', 'primacy_agency_code', 'pws_type_code',\n",
       "       'gw_sw_code', 'owner_type_code', 'population_served_count',\n",
       "       'primary_source_code', 'is_wholesaler_ind', 'is_school_or_daycare_ind',\n",
       "       'service_connections_count', 'cities_served', 'counties_served',\n",
       "       'ansi_entity_code', 'year', 'n_viol', 'n_pesticide_viol',\n",
       "       'had_violation', 'had_pesticide_violation', 'had_violation_lastyear',\n",
       "       'had_pesticide_violation_lastyear', 'EPEST_LOW_KG'],\n",
       "      dtype='object')"
      ]
     },
     "execution_count": 72,
     "metadata": {},
     "output_type": "execute_result"
    }
   ],
   "source": [
    "data_dashboard.columns\n"
   ]
  },
  {
   "cell_type": "code",
   "execution_count": 84,
   "metadata": {},
   "outputs": [
    {
     "data": {
      "text/plain": [
       "cities_served\n",
       "ABBOT           0.0\n",
       "ABINGTON        9.0\n",
       "ACTON          40.0\n",
       "ACUSHNET        5.0\n",
       "ACWORTH         0.0\n",
       "               ... \n",
       "WORCESTER       6.0\n",
       "WORTHINGTON    17.0\n",
       "WRENTHAM        0.0\n",
       "YARMOUTH        0.0\n",
       "YORK            8.0\n",
       "Name: n_viol, Length: 1126, dtype: float64"
      ]
     },
     "execution_count": 84,
     "metadata": {},
     "output_type": "execute_result"
    }
   ],
   "source": [
    "n_viol_by_city = data_dashboard.groupby(['cities_served'])['n_viol'].sum()\n",
    "n_viol_by_city"
   ]
  },
  {
   "cell_type": "code",
   "execution_count": 92,
   "metadata": {},
   "outputs": [
    {
     "data": {
      "text/plain": [
       "1    735\n",
       "0    391\n",
       "dtype: int64"
      ]
     },
     "execution_count": 92,
     "metadata": {},
     "output_type": "execute_result"
    }
   ],
   "source": [
    "# NUMBER OF CITIES SERVEED BY A WS WHERE ONE VIOLATION WAS OBSERVED:\n",
    "# (cities are usually served by numerous water systems)\n",
    "pd.Series(np.where(n_viol_by_city>1,1,0)).value_counts()"
   ]
  },
  {
   "cell_type": "code",
   "execution_count": 93,
   "metadata": {},
   "outputs": [
    {
     "data": {
      "text/plain": [
       "2015    10471\n",
       "2014    10471\n",
       "2013    10471\n",
       "2012    10471\n",
       "2017    10471\n",
       "2016    10471\n",
       "Name: year, dtype: int64"
      ]
     },
     "execution_count": 93,
     "metadata": {},
     "output_type": "execute_result"
    }
   ],
   "source": [
    "data.year.value_counts()"
   ]
  },
  {
   "cell_type": "code",
   "execution_count": null,
   "metadata": {},
   "outputs": [],
   "source": []
  }
 ],
 "metadata": {
  "kernelspec": {
   "display_name": "Python 3",
   "language": "python",
   "name": "python3"
  },
  "language_info": {
   "codemirror_mode": {
    "name": "ipython",
    "version": 3
   },
   "file_extension": ".py",
   "mimetype": "text/x-python",
   "name": "python",
   "nbconvert_exporter": "python",
   "pygments_lexer": "ipython3",
   "version": "3.7.4"
  }
 },
 "nbformat": 4,
 "nbformat_minor": 2
}
