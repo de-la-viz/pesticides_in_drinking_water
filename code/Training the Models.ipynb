{
 "cells": [
  {
   "cell_type": "markdown",
   "metadata": {},
   "source": [
    "# Modelling"
   ]
  },
  {
   "cell_type": "code",
   "execution_count": 171,
   "metadata": {},
   "outputs": [],
   "source": [
    "import pandas as pd\n",
    "import numpy as np\n",
    "import datetime\n",
    "import time\n",
    "\n",
    "%matplotlib inline\n",
    "# %matplotlib notebook\n",
    "import matplotlib.pyplot as plt\n",
    "import seaborn as sns\n",
    "\n",
    "import sklearn\n",
    "from sklearn.linear_model import LogisticRegression\n",
    "from sklearn.metrics import roc_curve, roc_auc_score\n",
    "from sklearn.preprocessing import MinMaxScaler, LabelBinarizer\n",
    "from sklearn.model_selection import GridSearchCV, cross_val_score, RandomizedSearchCV\n",
    "from sklearn.metrics import confusion_matrix, classification_report, recall_score\n",
    "from sklearn.utils.multiclass import unique_labels\n",
    "from sklearn.ensemble import GradientBoostingClassifier, RandomForestClassifier\n",
    "\n",
    "from sklearn.utils import resample # to under-sample majority class\n",
    "from imblearn.over_sampling import SMOTE # to over-sample minority class\n"
   ]
  },
  {
   "cell_type": "code",
   "execution_count": 2,
   "metadata": {},
   "outputs": [
    {
     "data": {
      "text/html": [
       "<div>\n",
       "<style scoped>\n",
       "    .dataframe tbody tr th:only-of-type {\n",
       "        vertical-align: middle;\n",
       "    }\n",
       "\n",
       "    .dataframe tbody tr th {\n",
       "        vertical-align: top;\n",
       "    }\n",
       "\n",
       "    .dataframe thead th {\n",
       "        text-align: right;\n",
       "    }\n",
       "</style>\n",
       "<table border=\"1\" class=\"dataframe\">\n",
       "  <thead>\n",
       "    <tr style=\"text-align: right;\">\n",
       "      <th></th>\n",
       "      <th>1</th>\n",
       "      <th>2</th>\n",
       "      <th>3</th>\n",
       "      <th>4</th>\n",
       "      <th>5</th>\n",
       "    </tr>\n",
       "  </thead>\n",
       "  <tbody>\n",
       "    <tr>\n",
       "      <th>pwsid</th>\n",
       "      <td>CT0010024</td>\n",
       "      <td>CT0010024</td>\n",
       "      <td>CT0010024</td>\n",
       "      <td>CT0010024</td>\n",
       "      <td>CT0010024</td>\n",
       "    </tr>\n",
       "    <tr>\n",
       "      <th>pws_name</th>\n",
       "      <td>ANDOVER TOWN HALL &amp; FIRE DEPARTMENT</td>\n",
       "      <td>ANDOVER TOWN HALL &amp; FIRE DEPARTMENT</td>\n",
       "      <td>ANDOVER TOWN HALL &amp; FIRE DEPARTMENT</td>\n",
       "      <td>ANDOVER TOWN HALL &amp; FIRE DEPARTMENT</td>\n",
       "      <td>ANDOVER TOWN HALL &amp; FIRE DEPARTMENT</td>\n",
       "    </tr>\n",
       "    <tr>\n",
       "      <th>primacy_agency_code</th>\n",
       "      <td>CT</td>\n",
       "      <td>CT</td>\n",
       "      <td>CT</td>\n",
       "      <td>CT</td>\n",
       "      <td>CT</td>\n",
       "    </tr>\n",
       "    <tr>\n",
       "      <th>pws_type_code</th>\n",
       "      <td>TNCWS</td>\n",
       "      <td>TNCWS</td>\n",
       "      <td>TNCWS</td>\n",
       "      <td>TNCWS</td>\n",
       "      <td>TNCWS</td>\n",
       "    </tr>\n",
       "    <tr>\n",
       "      <th>gw_sw_code</th>\n",
       "      <td>GW</td>\n",
       "      <td>GW</td>\n",
       "      <td>GW</td>\n",
       "      <td>GW</td>\n",
       "      <td>GW</td>\n",
       "    </tr>\n",
       "    <tr>\n",
       "      <th>owner_type_code</th>\n",
       "      <td>P</td>\n",
       "      <td>P</td>\n",
       "      <td>P</td>\n",
       "      <td>P</td>\n",
       "      <td>P</td>\n",
       "    </tr>\n",
       "    <tr>\n",
       "      <th>population_served_count</th>\n",
       "      <td>25</td>\n",
       "      <td>25</td>\n",
       "      <td>25</td>\n",
       "      <td>25</td>\n",
       "      <td>25</td>\n",
       "    </tr>\n",
       "    <tr>\n",
       "      <th>primary_source_code</th>\n",
       "      <td>GW</td>\n",
       "      <td>GW</td>\n",
       "      <td>GW</td>\n",
       "      <td>GW</td>\n",
       "      <td>GW</td>\n",
       "    </tr>\n",
       "    <tr>\n",
       "      <th>is_wholesaler_ind</th>\n",
       "      <td>N</td>\n",
       "      <td>N</td>\n",
       "      <td>N</td>\n",
       "      <td>N</td>\n",
       "      <td>N</td>\n",
       "    </tr>\n",
       "    <tr>\n",
       "      <th>is_school_or_daycare_ind</th>\n",
       "      <td>N</td>\n",
       "      <td>N</td>\n",
       "      <td>N</td>\n",
       "      <td>N</td>\n",
       "      <td>N</td>\n",
       "    </tr>\n",
       "    <tr>\n",
       "      <th>service_connections_count</th>\n",
       "      <td>2</td>\n",
       "      <td>2</td>\n",
       "      <td>2</td>\n",
       "      <td>2</td>\n",
       "      <td>2</td>\n",
       "    </tr>\n",
       "    <tr>\n",
       "      <th>cities_served</th>\n",
       "      <td>ANDOVER</td>\n",
       "      <td>ANDOVER</td>\n",
       "      <td>ANDOVER</td>\n",
       "      <td>ANDOVER</td>\n",
       "      <td>ANDOVER</td>\n",
       "    </tr>\n",
       "    <tr>\n",
       "      <th>counties_served</th>\n",
       "      <td>Tolland</td>\n",
       "      <td>Tolland</td>\n",
       "      <td>Tolland</td>\n",
       "      <td>Tolland</td>\n",
       "      <td>Tolland</td>\n",
       "    </tr>\n",
       "    <tr>\n",
       "      <th>ansi_entity_code</th>\n",
       "      <td>13</td>\n",
       "      <td>13</td>\n",
       "      <td>13</td>\n",
       "      <td>13</td>\n",
       "      <td>13</td>\n",
       "    </tr>\n",
       "    <tr>\n",
       "      <th>year</th>\n",
       "      <td>2013</td>\n",
       "      <td>2014</td>\n",
       "      <td>2015</td>\n",
       "      <td>2016</td>\n",
       "      <td>2017</td>\n",
       "    </tr>\n",
       "    <tr>\n",
       "      <th>n_viol</th>\n",
       "      <td>0</td>\n",
       "      <td>0</td>\n",
       "      <td>0</td>\n",
       "      <td>0</td>\n",
       "      <td>0</td>\n",
       "    </tr>\n",
       "    <tr>\n",
       "      <th>n_pesticide_viol</th>\n",
       "      <td>0</td>\n",
       "      <td>0</td>\n",
       "      <td>0</td>\n",
       "      <td>0</td>\n",
       "      <td>0</td>\n",
       "    </tr>\n",
       "    <tr>\n",
       "      <th>had_violation</th>\n",
       "      <td>0</td>\n",
       "      <td>0</td>\n",
       "      <td>0</td>\n",
       "      <td>0</td>\n",
       "      <td>0</td>\n",
       "    </tr>\n",
       "    <tr>\n",
       "      <th>had_pesticide_violation</th>\n",
       "      <td>0</td>\n",
       "      <td>0</td>\n",
       "      <td>0</td>\n",
       "      <td>0</td>\n",
       "      <td>0</td>\n",
       "    </tr>\n",
       "    <tr>\n",
       "      <th>had_violation_lastyear</th>\n",
       "      <td>0</td>\n",
       "      <td>0</td>\n",
       "      <td>0</td>\n",
       "      <td>0</td>\n",
       "      <td>0</td>\n",
       "    </tr>\n",
       "    <tr>\n",
       "      <th>had_pesticide_violation_lastyear</th>\n",
       "      <td>0</td>\n",
       "      <td>0</td>\n",
       "      <td>0</td>\n",
       "      <td>0</td>\n",
       "      <td>0</td>\n",
       "    </tr>\n",
       "  </tbody>\n",
       "</table>\n",
       "</div>"
      ],
      "text/plain": [
       "                                                                    1  \\\n",
       "pwsid                                                       CT0010024   \n",
       "pws_name                          ANDOVER TOWN HALL & FIRE DEPARTMENT   \n",
       "primacy_agency_code                                                CT   \n",
       "pws_type_code                                                   TNCWS   \n",
       "gw_sw_code                                                         GW   \n",
       "owner_type_code                                                     P   \n",
       "population_served_count                                            25   \n",
       "primary_source_code                                                GW   \n",
       "is_wholesaler_ind                                                   N   \n",
       "is_school_or_daycare_ind                                            N   \n",
       "service_connections_count                                           2   \n",
       "cities_served                                                 ANDOVER   \n",
       "counties_served                                               Tolland   \n",
       "ansi_entity_code                                                   13   \n",
       "year                                                             2013   \n",
       "n_viol                                                              0   \n",
       "n_pesticide_viol                                                    0   \n",
       "had_violation                                                       0   \n",
       "had_pesticide_violation                                             0   \n",
       "had_violation_lastyear                                              0   \n",
       "had_pesticide_violation_lastyear                                    0   \n",
       "\n",
       "                                                                    2  \\\n",
       "pwsid                                                       CT0010024   \n",
       "pws_name                          ANDOVER TOWN HALL & FIRE DEPARTMENT   \n",
       "primacy_agency_code                                                CT   \n",
       "pws_type_code                                                   TNCWS   \n",
       "gw_sw_code                                                         GW   \n",
       "owner_type_code                                                     P   \n",
       "population_served_count                                            25   \n",
       "primary_source_code                                                GW   \n",
       "is_wholesaler_ind                                                   N   \n",
       "is_school_or_daycare_ind                                            N   \n",
       "service_connections_count                                           2   \n",
       "cities_served                                                 ANDOVER   \n",
       "counties_served                                               Tolland   \n",
       "ansi_entity_code                                                   13   \n",
       "year                                                             2014   \n",
       "n_viol                                                              0   \n",
       "n_pesticide_viol                                                    0   \n",
       "had_violation                                                       0   \n",
       "had_pesticide_violation                                             0   \n",
       "had_violation_lastyear                                              0   \n",
       "had_pesticide_violation_lastyear                                    0   \n",
       "\n",
       "                                                                    3  \\\n",
       "pwsid                                                       CT0010024   \n",
       "pws_name                          ANDOVER TOWN HALL & FIRE DEPARTMENT   \n",
       "primacy_agency_code                                                CT   \n",
       "pws_type_code                                                   TNCWS   \n",
       "gw_sw_code                                                         GW   \n",
       "owner_type_code                                                     P   \n",
       "population_served_count                                            25   \n",
       "primary_source_code                                                GW   \n",
       "is_wholesaler_ind                                                   N   \n",
       "is_school_or_daycare_ind                                            N   \n",
       "service_connections_count                                           2   \n",
       "cities_served                                                 ANDOVER   \n",
       "counties_served                                               Tolland   \n",
       "ansi_entity_code                                                   13   \n",
       "year                                                             2015   \n",
       "n_viol                                                              0   \n",
       "n_pesticide_viol                                                    0   \n",
       "had_violation                                                       0   \n",
       "had_pesticide_violation                                             0   \n",
       "had_violation_lastyear                                              0   \n",
       "had_pesticide_violation_lastyear                                    0   \n",
       "\n",
       "                                                                    4  \\\n",
       "pwsid                                                       CT0010024   \n",
       "pws_name                          ANDOVER TOWN HALL & FIRE DEPARTMENT   \n",
       "primacy_agency_code                                                CT   \n",
       "pws_type_code                                                   TNCWS   \n",
       "gw_sw_code                                                         GW   \n",
       "owner_type_code                                                     P   \n",
       "population_served_count                                            25   \n",
       "primary_source_code                                                GW   \n",
       "is_wholesaler_ind                                                   N   \n",
       "is_school_or_daycare_ind                                            N   \n",
       "service_connections_count                                           2   \n",
       "cities_served                                                 ANDOVER   \n",
       "counties_served                                               Tolland   \n",
       "ansi_entity_code                                                   13   \n",
       "year                                                             2016   \n",
       "n_viol                                                              0   \n",
       "n_pesticide_viol                                                    0   \n",
       "had_violation                                                       0   \n",
       "had_pesticide_violation                                             0   \n",
       "had_violation_lastyear                                              0   \n",
       "had_pesticide_violation_lastyear                                    0   \n",
       "\n",
       "                                                                    5  \n",
       "pwsid                                                       CT0010024  \n",
       "pws_name                          ANDOVER TOWN HALL & FIRE DEPARTMENT  \n",
       "primacy_agency_code                                                CT  \n",
       "pws_type_code                                                   TNCWS  \n",
       "gw_sw_code                                                         GW  \n",
       "owner_type_code                                                     P  \n",
       "population_served_count                                            25  \n",
       "primary_source_code                                                GW  \n",
       "is_wholesaler_ind                                                   N  \n",
       "is_school_or_daycare_ind                                            N  \n",
       "service_connections_count                                           2  \n",
       "cities_served                                                 ANDOVER  \n",
       "counties_served                                               Tolland  \n",
       "ansi_entity_code                                                   13  \n",
       "year                                                             2017  \n",
       "n_viol                                                              0  \n",
       "n_pesticide_viol                                                    0  \n",
       "had_violation                                                       0  \n",
       "had_pesticide_violation                                             0  \n",
       "had_violation_lastyear                                              0  \n",
       "had_pesticide_violation_lastyear                                    0  "
      ]
     },
     "execution_count": 2,
     "metadata": {},
     "output_type": "execute_result"
    }
   ],
   "source": [
    "fulldata = pd.read_csv(\"../data/data_input_for_model.csv\")\n",
    "# fulldata.drop('Unnamed: 0', axis=1, inplace=True)\n",
    "\n",
    "# lets remove 2012, as it is the first year, it has no \"had_violation_lastyear\"\n",
    "fulldata = fulldata[fulldata.year > 2012]\n",
    "\n",
    "fulldata.head().T"
   ]
  },
  {
   "cell_type": "code",
   "execution_count": 3,
   "metadata": {},
   "outputs": [],
   "source": [
    "# select features for modelling\n",
    "features = ['primacy_agency_code', 'pws_type_code',\n",
    "           'gw_sw_code', 'owner_type_code', 'population_served_count',\n",
    "           'primary_source_code', 'is_wholesaler_ind', 'is_school_or_daycare_ind',\n",
    "           'service_connections_count',\n",
    "           'year', \n",
    "            'had_violation_lastyear', \n",
    "            'had_violation', \n",
    "           'had_pesticide_violation',\n",
    "           'had_pesticide_violation_lastyear']\n",
    "data = fulldata[features]"
   ]
  },
  {
   "cell_type": "code",
   "execution_count": 4,
   "metadata": {},
   "outputs": [],
   "source": [
    "# get dummies:\n",
    "# (on the contrary to R, this is needed in python as it is not done automatically by the fitting function)\n",
    "data = pd.get_dummies(data)"
   ]
  },
  {
   "cell_type": "markdown",
   "metadata": {},
   "source": [
    "Only three variables seem to have a some correlation with the outcome (*had_violation* or *had_pesticide_violation*): *pws_type_code*, *year* and especially *had_violation_lastyear*."
   ]
  },
  {
   "cell_type": "code",
   "execution_count": 5,
   "metadata": {
    "scrolled": false
   },
   "outputs": [
    {
     "data": {
      "image/png": "[encoded data removed]",
      "text/plain": [
       "<Figure size 792x648 with 2 Axes>"
      ]
     },
     "metadata": {
      "needs_background": "light"
     },
     "output_type": "display_data"
    }
   ],
   "source": [
    "corr = data.corr() \n",
    "\n",
    "# heatmap of correlations:\n",
    "f, ax = plt.subplots(figsize=(11, 9))\n",
    "cmap = sns.diverging_palette(220, 10, as_cmap=True) # Generate a custom diverging colormap\n",
    "# Draw the heatmap with the correct aspect ratio:\n",
    "sns.heatmap(corr, cmap=cmap, vmax=1, center=0,\n",
    "            square=True, linewidths=.5, cbar_kws={\"shrink\": .5})\n",
    "plt.show()"
   ]
  },
  {
   "cell_type": "markdown",
   "metadata": {},
   "source": [
    "We can get rid of some variables that are autocorrelated:"
   ]
  },
  {
   "cell_type": "code",
   "execution_count": 6,
   "metadata": {},
   "outputs": [],
   "source": [
    "# gw_sw_code_GW and gw_sw_code_SW, as they are highly correlated with primary_source_code and less precise,\n",
    "\n",
    "# and is_wholesaler_ind_N and is_school_or_daycare_ind_N, as they are binary and thus\n",
    "# highly correlated with their Y complement,\n",
    "\n",
    "# TODO: ? remove year, remove service_connections_count\n",
    "\n",
    "data.drop(['gw_sw_code_GW', 'gw_sw_code_SW', 'is_wholesaler_ind_N', 'is_school_or_daycare_ind_N',\n",
    "          'year', 'service_connections_count'], \n",
    "          axis=1, inplace=True)\n"
   ]
  },
  {
   "cell_type": "markdown",
   "metadata": {},
   "source": [
    "## Standardizing the Data\n",
    "\n",
    "We will do a _0-1 scaling_: 0-1 scaling: (Value - min Value)/(max Value - min Value).\n"
   ]
  },
  {
   "cell_type": "code",
   "execution_count": 7,
   "metadata": {},
   "outputs": [],
   "source": [
    "data_std = (data - data.min(axis=0)) / (data.max(axis=0) - data.min(axis=0))"
   ]
  },
  {
   "cell_type": "code",
   "execution_count": 8,
   "metadata": {},
   "outputs": [
    {
     "data": {
      "text/plain": [
       "array([0. , 0.2, 0.4, 0.6, 0.8, 1. ])"
      ]
     },
     "execution_count": 8,
     "metadata": {},
     "output_type": "execute_result"
    }
   ],
   "source": [
    "data_std.year.unique()"
   ]
  },
  {
   "cell_type": "markdown",
   "metadata": {},
   "source": [
    "## Trying First a Model to Predict All Violations (no focus on pesticides)\n",
    "\n",
    "Using *had_violation* as outcome variable.  \n",
    "\n"
   ]
  },
  {
   "cell_type": "markdown",
   "metadata": {},
   "source": [
    "### Splitting in Train, Validation and Test Sets\n",
    "We use the years 2013 to 2016 as train set, the year 2017 as validation set and the year 2018 as test set."
   ]
  },
  {
   "cell_type": "code",
   "execution_count": 9,
   "metadata": {},
   "outputs": [],
   "source": [
    "# SPLITTING IN TRAIN AND TEST:\n",
    "\n",
    "# let's train to test data on 2013-2017 and predict 2017:\n",
    "data_train = data_std[data_std.year < 0.8] # 2013, 2014, 2015, 2016\n",
    "data_valid = data_std[data_std.year == 0.8] # 2017\n",
    "data_test = data_std[data_std.year > 0.8] # 2018\n",
    "\n",
    "X_train = data_train.drop('had_violation', axis=1)\n",
    "X_valid = data_valid.drop('had_violation', axis=1)\n",
    "X_test = data_test.drop('had_violation', axis=1)\n",
    "\n",
    "y_train = data_train.had_violation\n",
    "y_valid = data_valid.had_violation\n",
    "y_test = data_test.had_violation\n"
   ]
  },
  {
   "cell_type": "markdown",
   "metadata": {},
   "source": [
    "### First Training a Logistic Regression with Ridge Regularization (L2)\n",
    "\n",
    "This is a first try to evaluate if the model has some accuracy and what are the potential issues and important features."
   ]
  },
  {
   "cell_type": "code",
   "execution_count": 10,
   "metadata": {},
   "outputs": [
    {
     "name": "stdout",
     "output_type": "stream",
     "text": [
      "Best C: 0.1\n",
      "The mean cross-validated score of the best_estimator on X_train: 0.7431238659153854\n",
      "Accuracy on (full) X_train: 0.8690669468054627\n"
     ]
    }
   ],
   "source": [
    "# first grid search to optimize C (lambda)\n",
    "ridge = LogisticRegression(penalty='l2', solver='liblinear', class_weight='balanced') # tries to handle class imbalance \n",
    "parameter = {'C':[0.1, 1, 10, 100, 1000, 10000]} \n",
    "# 5-fold CV and grid search to find the best C:\n",
    "ridge_f = GridSearchCV(estimator=ridge, scoring='accuracy', param_grid=parameter, cv=5)\n",
    "ridge_f.fit(X_train, y_train) # this is done -implicitely- with the best_estimator_ found with GridSearchCV\n",
    "print('Best C:',ridge_f.best_estimator_.C) \n",
    "print('The mean cross-validated score of the best_estimator on X_train:', ridge_f.best_score_)\n",
    "print('Accuracy on (full) X_train: ' + str(ridge_f.score(X_train, y_train)))\n"
   ]
  },
  {
   "cell_type": "code",
   "execution_count": 11,
   "metadata": {},
   "outputs": [
    {
     "name": "stdout",
     "output_type": "stream",
     "text": [
      "Best C: 0.001\n",
      "The mean cross-validated score of the best_estimator on X_train: 0.8494890650367682\n",
      "Accuracy on (full) X_train: 0.8558399388788082\n"
     ]
    }
   ],
   "source": [
    "# second grid search based on previous best C:\n",
    "parameter = {'C':[0.0001, 0.001, 0.01, 0.1, 0.5]} \n",
    "# 5-fold CV and grid search to find the best C:\n",
    "ridge_f = GridSearchCV(estimator=ridge, scoring='accuracy', param_grid=parameter, cv=5)\n",
    "ridge_f.fit(X_train, y_train) # this is done -implicitely- with the best_estimator_ found with GridSearchCV\n",
    "print('Best C:',ridge_f.best_estimator_.C) \n",
    "print('The mean cross-validated score of the best_estimator on X_train:', ridge_f.best_score_)\n",
    "print('Accuracy on (full) X_train: ' + str(ridge_f.score(X_train, y_train)))\n"
   ]
  },
  {
   "cell_type": "markdown",
   "metadata": {},
   "source": [
    "I will continue with C = 0.001. Overfitting seems to be ok. Let's evaluate this model a bit more in detail:  "
   ]
  },
  {
   "cell_type": "code",
   "execution_count": 12,
   "metadata": {
    "scrolled": true
   },
   "outputs": [
    {
     "name": "stdout",
     "output_type": "stream",
     "text": [
      "[[0.99998048 0.99992447 0.97304134 1.52430393 1.0048285  1.00103029\n",
      "  0.99462521 0.98021975 1.02385621 0.9462929  0.98291721 1.03630745\n",
      "  1.06360594 0.96939963 0.91650211 0.99712331 0.97417105 0.99993525\n",
      "  1.00004929 0.97571392 1.00664218 1.00050192 0.99994357 0.99441983\n",
      "  0.99362139 1.00148962 0.99252612 0.99973587 0.99210071]]\n"
     ]
    }
   ],
   "source": [
    "# Fitting the model with the chosen regularization:\n",
    "logit_ridge = LogisticRegression(penalty='l2', solver='liblinear', class_weight='balanced', C=0.001)\n",
    "logit_ridge.fit(X_train, y_train)\n",
    "\n",
    "# A way to estimate the most important features:\n",
    "print(np.exp([np.std(X_train, 0)]*logit_ridge.coef_)) # \"standardized\" odds ratios. \n",
    "# They are around 1, but there is not confidence interval\n",
    "# The fourth is high and is likely a very important feature.\n",
    "# Without surprise, it is: had_violation_lastyear"
   ]
  },
  {
   "cell_type": "markdown",
   "metadata": {},
   "source": [
    "#### Model Evaluation\n",
    "\n",
    "Is the model overfitting? Is the accuracy obtained any good? What are the precision and recall?"
   ]
  },
  {
   "cell_type": "code",
   "execution_count": 13,
   "metadata": {},
   "outputs": [
    {
     "data": {
      "text/plain": [
       "array([0.87610408, 0.88827883, 0.86846503, 0.86369062, 0.67319169,\n",
       "       0.89159503, 0.85864374, 0.87726839, 0.88753582, 0.65082398])"
      ]
     },
     "execution_count": 13,
     "metadata": {},
     "output_type": "execute_result"
    }
   ],
   "source": [
    "# Overfitting:\n",
    "cross_val_score(logit_ridge, X_train, y_train, cv=10) \n",
    "# ==> There is some overfitting apparently as the scores are varying"
   ]
  },
  {
   "cell_type": "code",
   "execution_count": 14,
   "metadata": {
    "scrolled": false
   },
   "outputs": [
    {
     "name": "stdout",
     "output_type": "stream",
     "text": [
      "              precision    recall  f1-score   support\n",
      "\n",
      "         0.0       0.93      0.90      0.92     37355\n",
      "         1.0       0.37      0.48      0.42      4529\n",
      "\n",
      "    accuracy                           0.86     41884\n",
      "   macro avg       0.65      0.69      0.67     41884\n",
      "weighted avg       0.87      0.86      0.86     41884\n",
      "\n"
     ]
    }
   ],
   "source": [
    "y_pred = logit_ridge.predict(X_train)\n",
    "print(classification_report(y_train, y_pred))\n",
    "# precision: the ability of the classifier not to label as positive a sample that is negative: tp / (tp + fp)\n",
    "# recall: the ability of the classifier to find all the positive samples, \n",
    "#         is the same as True positive rate (TPR) or Sensitivity: tp / (tp + fn)"
   ]
  },
  {
   "cell_type": "markdown",
   "metadata": {},
   "source": [
    "We can see that the classifier is good at identifying water systems that did not have any violations, but is bad at identifying water systems that had violations (recall = 0.48, should be ideally close to 1, and precision = 0.37, should also be ideally close to 1).  \n",
    "Is an accuracy around 86% impressive in this case?"
   ]
  },
  {
   "cell_type": "code",
   "execution_count": 15,
   "metadata": {
    "scrolled": true
   },
   "outputs": [
    {
     "name": "stdout",
     "output_type": "stream",
     "text": [
      "0.0    56697\n",
      "1.0     6129\n",
      "Name: had_violation, dtype: int64\n",
      "baseline performance (across years) = percentage of WS without violations: 0.9024448476745297%\n"
     ]
    }
   ],
   "source": [
    "n = data_std.had_violation.value_counts()\n",
    "print(n)\n",
    "print('baseline performance (across years) = percentage of WS without violations: ' + str(n[0]/(n[0]+n[1])) + '%')\n"
   ]
  },
  {
   "cell_type": "markdown",
   "metadata": {},
   "source": [
    "Not at all! As around 10% of the samples never had any violations, thus it is expected that the baseline performance of any classification algorithm is around 90% (not on one year, but all the years). The current algorithm is even less good... \n",
    "\n",
    "The model is bad at identifying the \"new\" water systems that will have a violation in the current year (except for those that add a violation in previous year)."
   ]
  },
  {
   "cell_type": "code",
   "execution_count": 16,
   "metadata": {},
   "outputs": [
    {
     "data": {
      "image/png": "[encoded data removed]",
      "text/plain": [
       "<Figure size 432x288 with 1 Axes>"
      ]
     },
     "metadata": {
      "needs_background": "light"
     },
     "output_type": "display_data"
    }
   ],
   "source": [
    "# one more way of evaluating the model, the ROC curve:\n",
    "\n",
    "y_scores = logit_ridge.decision_function(X_train)\n",
    "fpr, tpr, thresholds = roc_curve(y_train, y_scores)\n",
    "\n",
    "def plot_roc_curve(fpr, tpr, label=None):\n",
    "    plt.plot(fpr, tpr, linewidth=2, label=label)\n",
    "    plt.plot([0, 1], [0, 1], 'k--')\n",
    "    plt.axis([0, 1, 0, 1])\n",
    "    plt.xlabel('False Positive Rate')\n",
    "    plt.ylabel('True Positive Rate')\n",
    "    \n",
    "plot_roc_curve(fpr, tpr)\n",
    "plt.show()"
   ]
  },
  {
   "cell_type": "code",
   "execution_count": 17,
   "metadata": {},
   "outputs": [
    {
     "data": {
      "text/plain": [
       "0.7264232148808616"
      ]
     },
     "execution_count": 17,
     "metadata": {},
     "output_type": "execute_result"
    }
   ],
   "source": [
    "# Area Under the Receiver Operating Characteristic Curve (ROC AUC) from prediction scores:\n",
    "roc_auc_score(y_train, y_scores) # to be compared with other models.\n"
   ]
  },
  {
   "cell_type": "markdown",
   "metadata": {},
   "source": [
    "### Handling Class Imbalance\n",
    "\n",
    "Before trying different models and select one and trying to perfect our prediction (especially recall), we have to handle the large class imbalance in the data. It has to be done before model selection, as it can have a different influence on the model that we will test after.   \n",
    "\n",
    "There are several ways of addressing class imbalance that I will try:  \n",
    "\n",
    "* Over-sampling of minority class; and even \"synthetic\" over-sampling, using SMOTE\n",
    "* Under-sampling of majority class\n",
    "* Use another metrics that accuracy to evaluate the model. I will try the Area Under Roc Curve (AUROC); it represents the likelihood of your model distinguishing observations from two classes\n",
    "* Penalize the algorithm by increasing the cost of classification mistakes on the minority class. I already tried this by using the argument *class_weight='balanced'* when fitting the logistic regression.\n",
    "\n",
    "#### SMOTE\n",
    "\n",
    "I will try SMOTE to balance the data. Oversampling has to be done on training data alone ([see comment](https://beckernick.github.io/oversampling-modeling)). Oversampling can lead to bad generalization, that is why we will test the generalizibility on a validation set."
   ]
  },
  {
   "cell_type": "code",
   "execution_count": 18,
   "metadata": {},
   "outputs": [
    {
     "name": "stdout",
     "output_type": "stream",
     "text": [
      "Number of water systems in X_train dataset:  (41884, 29)\n",
      "Number of water systems in y_train dataset:  (41884,)\n",
      "Number of water systems in X_valid dataset:  (10471, 29)\n",
      "Number of water systems in y_valid dataset:  (10471,)\n",
      "Number of water systems in X_test dataset:  (10471, 29)\n",
      "Number of water systems in y_test dataset:  (10471,)\n"
     ]
    }
   ],
   "source": [
    "# adapted from this: https://www.kaggle.com/qianchao/smote-with-imbalance-data\n",
    "\n",
    "print(\"Number of water systems in X_train dataset: \", X_train.shape)\n",
    "print(\"Number of water systems in y_train dataset: \", y_train.shape)\n",
    "print(\"Number of water systems in X_valid dataset: \", X_valid.shape)\n",
    "print(\"Number of water systems in y_valid dataset: \", y_valid.shape)\n",
    "print(\"Number of water systems in X_test dataset: \", X_test.shape)\n",
    "print(\"Number of water systems in y_test dataset: \", y_test.shape)"
   ]
  },
  {
   "cell_type": "code",
   "execution_count": 19,
   "metadata": {
    "scrolled": false
   },
   "outputs": [
    {
     "name": "stdout",
     "output_type": "stream",
     "text": [
      "Before OverSampling, counts of label '1': 4529\n",
      "Before OverSampling, counts of label '0': 37355 \n",
      "\n",
      "After OverSampling, the shape of X_train: (74710, 29)\n",
      "After OverSampling, the shape of y_train: (74710,) \n",
      "\n",
      "After OverSampling, counts of label '1': 37355\n",
      "After OverSampling, counts of label '0': 37355\n"
     ]
    }
   ],
   "source": [
    "print(\"Before OverSampling, counts of label '1': {}\".format(sum(y_train==1)))\n",
    "print(\"Before OverSampling, counts of label '0': {} \\n\".format(sum(y_train==0)))\n",
    "\n",
    "sm = SMOTE(random_state=51) \n",
    "X_train_res, y_train_res = sm.fit_resample(X_train, y_train.ravel()) # oversampling\n",
    "# SMOTE is about oversampling minority class, BUT while SMOTE still oversamples the minority class, \n",
    "# it does not rely on reusing previously existing observations. \n",
    "# Instead, SMOTE creates new (synthetic) observations based on the observations in your data.\n",
    "# see https://towardsdatascience.com/a-deep-dive-into-imbalanced-data-over-sampling-f1167ed74b5\n",
    "\n",
    "print('After OverSampling, the shape of X_train: {}'.format(X_train_res.shape))\n",
    "print('After OverSampling, the shape of y_train: {} \\n'.format(y_train_res.shape))\n",
    "\n",
    "print(\"After OverSampling, counts of label '1': {}\".format(sum(y_train_res==1)))\n",
    "print(\"After OverSampling, counts of label '0': {}\".format(sum(y_train_res==0)))"
   ]
  },
  {
   "cell_type": "markdown",
   "metadata": {},
   "source": [
    "I will now use *X_train_res* and *y_train_res* to train the model. Let's quickly try again with the previous logistic regression model."
   ]
  },
  {
   "cell_type": "code",
   "execution_count": 20,
   "metadata": {},
   "outputs": [
    {
     "name": "stdout",
     "output_type": "stream",
     "text": [
      "              precision    recall  f1-score   support\n",
      "\n",
      "         0.0       0.63      0.90      0.74     37355\n",
      "         1.0       0.83      0.48      0.60     37355\n",
      "\n",
      "    accuracy                           0.69     74710\n",
      "   macro avg       0.73      0.69      0.67     74710\n",
      "weighted avg       0.73      0.69      0.67     74710\n",
      "\n"
     ]
    }
   ],
   "source": [
    "# Fitting the model with the chosen regularization:\n",
    "logit_ridge = LogisticRegression(penalty='l2', solver='liblinear', C=0.001)\n",
    "logit_ridge.fit(X_train_res, y_train_res)\n",
    "y_pred = logit_ridge.predict(X_train_res)\n",
    "print(classification_report(y_train_res, y_pred))\n"
   ]
  },
  {
   "cell_type": "code",
   "execution_count": 21,
   "metadata": {},
   "outputs": [
    {
     "data": {
      "image/png": "[encoded data removed]",
      "text/plain": [
       "<Figure size 432x288 with 1 Axes>"
      ]
     },
     "metadata": {
      "needs_background": "light"
     },
     "output_type": "display_data"
    },
    {
     "name": "stdout",
     "output_type": "stream",
     "text": [
      "AUROC: 0.7292161291630453\n"
     ]
    }
   ],
   "source": [
    "y_scores = logit_ridge.decision_function(X_train_res)\n",
    "AUROC = roc_auc_score(y_train_res, y_scores)\n",
    "fpr, tpr, thresholds = roc_curve(y_train_res, y_scores)\n",
    "\n",
    "def plot_roc_curve(fpr, tpr, label=None):\n",
    "    plt.plot(fpr, tpr, linewidth=2, label=label)\n",
    "    plt.plot([0, 1], [0, 1], 'k--')\n",
    "    plt.axis([0, 1, 0, 1])\n",
    "    plt.xlabel('False Positive Rate')\n",
    "    plt.ylabel('True Positive Rate')\n",
    "    \n",
    "plot_roc_curve(fpr, tpr)\n",
    "plt.show()\n",
    "print('AUROC: ' + str(AUROC))"
   ]
  },
  {
   "cell_type": "markdown",
   "metadata": {},
   "source": [
    "So we lost general accuracy (from 0.86 to 0.69), but the precision was improved for the positive samples. The AUC is very similar."
   ]
  },
  {
   "cell_type": "markdown",
   "metadata": {},
   "source": [
    "#### Under-sampling Majority Class\n",
    "\n",
    "We sample without replacement the majority class until obtaining the same number of rows as the minority class. Disadvantage: you lose some data."
   ]
  },
  {
   "cell_type": "code",
   "execution_count": 22,
   "metadata": {},
   "outputs": [
    {
     "data": {
      "text/plain": [
       "1.0    4529\n",
       "0.0    4529\n",
       "Name: had_violation, dtype: int64"
      ]
     },
     "execution_count": 22,
     "metadata": {},
     "output_type": "execute_result"
    }
   ],
   "source": [
    "# Separate majority and minority classes\n",
    "df_majority = data_train[data_train.had_violation==0]\n",
    "df_minority = data_train[data_train.had_violation==1]\n",
    " \n",
    "# Downsample majority class\n",
    "df_majority_downsampled = resample(df_majority, \n",
    "                                 replace=False,    # sample without replacement\n",
    "                                 n_samples=4529,     # to match minority class\n",
    "                                 random_state=51) # reproducible results\n",
    " \n",
    "# Combine minority class with downsampled majority class\n",
    "df_downsampled = pd.concat([df_majority_downsampled, df_minority])\n",
    " \n",
    "# Display new class counts\n",
    "df_downsampled.had_violation.value_counts()"
   ]
  },
  {
   "cell_type": "code",
   "execution_count": 23,
   "metadata": {},
   "outputs": [
    {
     "name": "stdout",
     "output_type": "stream",
     "text": [
      "              precision    recall  f1-score   support\n",
      "\n",
      "         0.0       0.64      0.85      0.73      4529\n",
      "         1.0       0.77      0.51      0.62      4529\n",
      "\n",
      "    accuracy                           0.68      9058\n",
      "   macro avg       0.70      0.68      0.67      9058\n",
      "weighted avg       0.70      0.68      0.67      9058\n",
      "\n"
     ]
    }
   ],
   "source": [
    "# Let's try to fit the logistic regression again:\n",
    "\n",
    "X_train_down = df_downsampled.drop('had_violation', axis=1)\n",
    "y_train_down = df_downsampled.had_violation\n",
    "\n",
    "logit_ridge = LogisticRegression(penalty='l2', solver='liblinear', C=0.001)\n",
    "logit_ridge.fit(X_train_down, y_train_down)\n",
    "y_pred = logit_ridge.predict(X_train_down)\n",
    "print(classification_report(y_train_down, y_pred))\n",
    "\n"
   ]
  },
  {
   "cell_type": "code",
   "execution_count": 24,
   "metadata": {
    "scrolled": false
   },
   "outputs": [
    {
     "data": {
      "image/png": "[encoded data removed]",
      "text/plain": [
       "<Figure size 432x288 with 1 Axes>"
      ]
     },
     "metadata": {
      "needs_background": "light"
     },
     "output_type": "display_data"
    },
    {
     "name": "stdout",
     "output_type": "stream",
     "text": [
      "AUROC: 0.7245120513560924\n"
     ]
    }
   ],
   "source": [
    "y_scores = logit_ridge.decision_function(X_train_down)\n",
    "AUROC = roc_auc_score(y_train_down, y_scores)\n",
    "fpr, tpr, thresholds = roc_curve(y_train_down, y_scores)\n",
    "\n",
    "def plot_roc_curve(fpr, tpr, label=None):\n",
    "    plt.plot(fpr, tpr, linewidth=2, label=label)\n",
    "    plt.plot([0, 1], [0, 1], 'k--')\n",
    "    plt.axis([0, 1, 0, 1])\n",
    "    plt.xlabel('False Positive Rate')\n",
    "    plt.ylabel('True Positive Rate')\n",
    "    \n",
    "plot_roc_curve(fpr, tpr)\n",
    "plt.show()\n",
    "print('AUROC: ' + str(AUROC))"
   ]
  },
  {
   "cell_type": "markdown",
   "metadata": {},
   "source": [
    "The results are similare to SMOTE...\n",
    "\n",
    "**Summary and decision:**\n",
    "\n",
    "AUROC obtained:\n",
    "\n",
    "1. Cost-Sensitive Training (class_weight='balanced'):   0.7264\n",
    "2. Over-sampling minority class (SMOTE):                0.7292\n",
    "3. Under-sampling majority class:                       0.7245\n",
    "\n",
    "**I will use SMOTE as strategy to handle class imbalance and use AUROC to compare and select my models (instead of accuracy).**  "
   ]
  },
  {
   "cell_type": "markdown",
   "metadata": {},
   "source": [
    "### Training and Model Selection\n",
    "\n",
    "I will compare _logistic regression_, _gradient boosting_ and _random forest_ abilitity to classify the water systems that had a violation of drinking water quality.  \n",
    "\n",
    "#### Training the Logistic Regression\n"
   ]
  },
  {
   "cell_type": "code",
   "execution_count": 36,
   "metadata": {
    "scrolled": false
   },
   "outputs": [
    {
     "name": "stdout",
     "output_type": "stream",
     "text": [
      "Best C: 1e-05\n",
      "The mean cross-validated score of the best_estimator on X_train: 0.38238522286173204\n",
      "Accuracy on (full) X_train: 0.6739392316958908\n"
     ]
    }
   ],
   "source": [
    "# find the desired parameters\n",
    "logistic = LogisticRegression(solver='liblinear')  \n",
    "parameters_grid = {'C':[0.00001, 0.0001, 0.001, 0.01, 0.1, 1, 10]}\n",
    "logistic_search = GridSearchCV(estimator=logistic, scoring='au_roc', param_grid=parameters_grid, cv=5)\n",
    "logistic_search.fit(X_train_res, y_train_res) # using the SMOTE resampled training set\n",
    "\n",
    "print('Best C:',logistic_search.best_estimator_.C)\n",
    "print('The mean cross-validated score of the best_estimator on X_train:', logistic_search.best_score_)\n",
    "print('Accuracy on (full) X_train: ' + str(logistic_search.score(X_train_res, y_train_res)))"
   ]
  },
  {
   "cell_type": "markdown",
   "metadata": {},
   "source": [
    "I choose a parameter C of 0.00001, the CV would prefer the smallest possible (without much gain), but I think that it is already reasonably small."
   ]
  },
  {
   "cell_type": "code",
   "execution_count": 39,
   "metadata": {},
   "outputs": [
    {
     "data": {
      "text/plain": [
       "LogisticRegression(C=1e-05, class_weight=None, dual=False, fit_intercept=True,\n",
       "                   intercept_scaling=1, l1_ratio=None, max_iter=100,\n",
       "                   multi_class='warn', n_jobs=None, penalty='l2',\n",
       "                   random_state=None, solver='liblinear', tol=0.0001, verbose=0,\n",
       "                   warm_start=False)"
      ]
     },
     "execution_count": 39,
     "metadata": {},
     "output_type": "execute_result"
    }
   ],
   "source": [
    "# train chosen model:\n",
    "logistic = LogisticRegression(solver='liblinear', C=0.00001)\n",
    "logistic.fit(X_train_res, y_train_res)\n"
   ]
  },
  {
   "cell_type": "code",
   "execution_count": 70,
   "metadata": {},
   "outputs": [
    {
     "name": "stdout",
     "output_type": "stream",
     "text": [
      "              precision    recall  f1-score   support\n",
      "\n",
      "         0.0       0.66      0.73      0.69     37355\n",
      "         1.0       0.69      0.62      0.66     37355\n",
      "\n",
      "    accuracy                           0.67     74710\n",
      "   macro avg       0.68      0.67      0.67     74710\n",
      "weighted avg       0.68      0.67      0.67     74710\n",
      "\n",
      "AUROC: 0.7253639654018651\n"
     ]
    }
   ],
   "source": [
    "# Evaluating the model:\n",
    "\n",
    "y_pred = logistic.predict(X_train_res)\n",
    "print(classification_report(y_train_res, y_pred))\n",
    "\n",
    "y_scores = logistic.decision_function(X_train_res)\n",
    "AUROC_logistic = roc_auc_score(y_train_res, y_scores) # store AUROC to compare with the other models\n",
    "print(\"AUROC: \" + str(AUROC_logistic))"
   ]
  },
  {
   "cell_type": "code",
   "execution_count": 99,
   "metadata": {},
   "outputs": [],
   "source": [
    "def plot_confusion_matrix(y_true, y_pred,\n",
    "                          normalize=False,\n",
    "                          title=None,\n",
    "                          cmap=plt.cm.Blues):\n",
    "    \"\"\"\n",
    "    This function prints and plots the confusion matrix.\n",
    "    Normalization can be applied by setting `normalize=True`.\n",
    "    adapted from https://scikit-learn.org/stable/auto_examples/model_selection/plot_confusion_matrix.html\n",
    "    \"\"\"\n",
    "    if not title:\n",
    "        if normalize:\n",
    "            title = 'Normalized confusion matrix'\n",
    "        else:\n",
    "            title = 'Confusion matrix, without normalization'\n",
    "\n",
    "    # Compute confusion matrix\n",
    "    cm = confusion_matrix(y_true, y_pred)\n",
    "\n",
    "    if normalize:\n",
    "        cm = cm.astype('float') / cm.sum(axis=1)[:, np.newaxis]\n",
    "        print(\"Normalized confusion matrix\")\n",
    "    else:\n",
    "        print('Confusion matrix, without normalization')\n",
    "\n",
    "    print(cm)\n",
    "\n",
    "    fig, ax = plt.subplots()\n",
    "    im = ax.imshow(cm, interpolation='nearest', cmap=cmap)\n",
    "    ax.figure.colorbar(im, ax=ax)\n",
    "    # We want to show all ticks...\n",
    "    ax.set(xticks=np.arange(cm.shape[1]),\n",
    "           yticks=np.arange(cm.shape[0]),\n",
    "           title=title,\n",
    "           ylabel='True label',\n",
    "           xlabel='Predicted label')\n",
    "\n",
    "    # Loop over data dimensions and create text annotations.\n",
    "    fmt = '.2f' if normalize else 'd'\n",
    "    thresh = cm.max() / 2.\n",
    "    for i in range(cm.shape[0]):\n",
    "        for j in range(cm.shape[1]):\n",
    "            ax.text(j, i, format(cm[i, j], fmt),\n",
    "                    ha=\"center\", va=\"center\",\n",
    "                    color=\"white\" if cm[i, j] > thresh else \"black\")\n",
    "    fig.tight_layout()\n",
    "    return ax"
   ]
  },
  {
   "cell_type": "code",
   "execution_count": 100,
   "metadata": {},
   "outputs": [
    {
     "name": "stdout",
     "output_type": "stream",
     "text": [
      "Confusion matrix, without normalization\n",
      "[[27134 10221]\n",
      " [14139 23216]]\n",
      "Normalized confusion matrix\n",
      "[[0.73 0.27]\n",
      " [0.38 0.62]]\n"
     ]
    },
    {
     "data": {
      "image/png": "[encoded data removed]",
      "text/plain": [
       "<Figure size 432x288 with 2 Axes>"
      ]
     },
     "metadata": {
      "needs_background": "light"
     },
     "output_type": "display_data"
    },
    {
     "data": {
      "image/png": "[encoded data removed]",
      "text/plain": [
       "<Figure size 432x288 with 2 Axes>"
      ]
     },
     "metadata": {
      "needs_background": "light"
     },
     "output_type": "display_data"
    }
   ],
   "source": [
    "plot_confusion_matrix(y_train_res, y_pred, normalize=False,\n",
    "                      title='Confusion matrix, without normalization')\n",
    "\n",
    "plot_confusion_matrix(y_train_res, y_pred, normalize=True,\n",
    "                      title='Confusion matrix, with normalization')\n",
    "\n",
    "plt.show()"
   ]
  },
  {
   "cell_type": "markdown",
   "metadata": {},
   "source": [
    "#### Training the Gradient Boosting"
   ]
  },
  {
   "cell_type": "code",
   "execution_count": 119,
   "metadata": {},
   "outputs": [
    {
     "name": "stdout",
     "output_type": "stream",
     "text": [
      "time needed: -107.43925786018372\n",
      "Best n_estimators: 100\n",
      "The mean cross-validated score of the best_estimator on X_train: 0.3704805092876769\n",
      "Accuracy on (full) X_train: 0.8670137952413903\n"
     ]
    }
   ],
   "source": [
    "# Fix learning rate and number of estimators before tuning tree-based parameters\n",
    "# first we find right learning rate for the number of estimators\n",
    "\n",
    "# see this: https://www.analyticsvidhya.com/blog/2016/02/complete-guide-parameter-tuning-gradient-boosting-gbm-python/\n",
    "\n",
    "# note: after a first run, I increase the learning rate to 0.2, as the best n_estimators was the upper limit\n",
    "\n",
    "t0 = time.time()\n",
    "# define parameters grid:\n",
    "param_grid = {'n_estimators': range(60,101,10)}\n",
    "\n",
    "# Initialize and fit the model.\n",
    "grad_boost = GradientBoostingClassifier(learning_rate=0.2, min_samples_split=500, \n",
    "                                        min_samples_leaf=50, max_depth=8, \n",
    "                                        max_features='sqrt', subsample=0.8, \n",
    "                                        random_state=10)\n",
    "# min_samples_split good if 05-1% of sample size.\n",
    "search_grad_boost = GridSearchCV(grad_boost, param_grid, cv=5,\n",
    "                                scoring='roc_auc') # AND NOT THE ACCURACY!\n",
    "\n",
    "search_grad_boost.fit(X_train_res, y_train_res)\n",
    "\n",
    "print(\"time needed: \" + str(t0 - time.time()))\n",
    "\n",
    "print('Best n_estimators:', search_grad_boost.best_estimator_.n_estimators)\n",
    "print('The mean cross-validated score of the best_estimator on X_train:', search_grad_boost.best_score_)\n",
    "print('AUROC on (full) X_train: ' + str(search_grad_boost.score(X_train_res, y_train_res)))\n"
   ]
  },
  {
   "cell_type": "markdown",
   "metadata": {},
   "source": [
    "I will stick with a learning rate of 0.2 and 100 estimators. By increasung the number of estimators it will just get too long to train the model and search for the best paramaters."
   ]
  },
  {
   "cell_type": "code",
   "execution_count": 120,
   "metadata": {
    "scrolled": true
   },
   "outputs": [
    {
     "name": "stdout",
     "output_type": "stream",
     "text": [
      "time needed: -584.7222900390625\n",
      "Best max_depth: 15\n",
      "Best min_samples_split: 100\n",
      "The mean cross-validated score of the best_estimator on X_train: 0.399514687953909\n",
      "Accuracy on (full) X_train: 0.9179259794723866\n"
     ]
    }
   ],
   "source": [
    "### Tuning tree-specific parameters\n",
    "# The most important first:  max_depth and min_samples_split\n",
    "\n",
    "t0 = time.time()\n",
    "# define parameters grid:\n",
    "param_grid = {'max_depth':range(12,22,3), \n",
    "              'min_samples_split':range(100,301,100)\n",
    "             }\n",
    "\n",
    "# Initialize and fit the model.\n",
    "grad_boost = GradientBoostingClassifier(learning_rate=0.2, n_estimators = 100,\n",
    "                                        min_samples_leaf=50,  \n",
    "                                        max_features='sqrt', subsample=0.8, \n",
    "                                        random_state=10)\n",
    "search_grad_boost = GridSearchCV(grad_boost, param_grid, cv=5,\n",
    "                                scoring='roc_auc')\n",
    "\n",
    "search_grad_boost.fit(X_train_res, y_train_res)\n",
    "\n",
    "print(\"time needed: \" + str(t0 - time.time()))\n",
    "\n",
    "print('Best max_depth:', search_grad_boost.best_estimator_.max_depth)\n",
    "print('Best min_samples_split:', search_grad_boost.best_estimator_.min_samples_split)\n",
    "print('The mean cross-validated score of the best_estimator on X_train:', search_grad_boost.best_score_)\n",
    "print('AUROC on (full) X_train: ' + str(search_grad_boost.score(X_train_res, y_train_res)))"
   ]
  },
  {
   "cell_type": "markdown",
   "metadata": {},
   "source": [
    "The best max depth is 15. I will stay with a min_samples_split of 100, not going below as usually it should be around 0.5-1% of the sample size (74000). It is probably an indication of overfitting. If I have more time, I might consider a second iteration of this GridSearchCV."
   ]
  },
  {
   "cell_type": "code",
   "execution_count": 121,
   "metadata": {},
   "outputs": [
    {
     "name": "stdout",
     "output_type": "stream",
     "text": [
      "time needed: -276.45716404914856\n",
      "Best min_samples_leaf: 30\n",
      "The mean cross-validated score of the best_estimator on X_train: 0.40150508168460636\n",
      "AUROC on (full) X_train: 0.9249017288837411\n"
     ]
    }
   ],
   "source": [
    "### Tuning tree-specific parameters\n",
    "# Then min_samples_leaf\n",
    "\n",
    "t0 = time.time()\n",
    "# define parameters grid:\n",
    "param_grid = {'min_samples_leaf': range(30,71,10)}\n",
    "\n",
    "# Initialize and fit the model.\n",
    "grad_boost = GradientBoostingClassifier(learning_rate=0.2, n_estimators = 100,\n",
    "                                        max_depth=15, min_samples_split=100,\n",
    "                                        max_features='sqrt', subsample=0.8, \n",
    "                                        random_state=10)\n",
    "search_grad_boost = GridSearchCV(grad_boost, param_grid, cv=5,\n",
    "                                scoring='roc_auc')\n",
    "\n",
    "search_grad_boost.fit(X_train_res, y_train_res)\n",
    "\n",
    "print(\"time needed: \" + str(t0 - time.time()))\n",
    "\n",
    "print('Best min_samples_leaf:', search_grad_boost.best_estimator_.min_samples_leaf)\n",
    "print('The mean cross-validated score of the best_estimator on X_train:', search_grad_boost.best_score_)\n",
    "print('AUROC on (full) X_train: ' + str(search_grad_boost.score(X_train_res, y_train_res)))\n"
   ]
  },
  {
   "cell_type": "markdown",
   "metadata": {},
   "source": [
    "**TO DO: 2nd iteration for min_samples_leaf, and tune the other parameters.**"
   ]
  },
  {
   "cell_type": "code",
   "execution_count": null,
   "metadata": {},
   "outputs": [],
   "source": []
  },
  {
   "cell_type": "code",
   "execution_count": 123,
   "metadata": {},
   "outputs": [
    {
     "data": {
      "text/plain": [
       "GradientBoostingClassifier(criterion='friedman_mse', init=None,\n",
       "                           learning_rate=0.2, loss='deviance', max_depth=15,\n",
       "                           max_features='sqrt', max_leaf_nodes=None,\n",
       "                           min_impurity_decrease=0.0, min_impurity_split=None,\n",
       "                           min_samples_leaf=30, min_samples_split=100,\n",
       "                           min_weight_fraction_leaf=0.0, n_estimators=100,\n",
       "                           n_iter_no_change=None, presort='auto',\n",
       "                           random_state=None, subsample=0.8, tol=0.0001,\n",
       "                           validation_fraction=0.1, verbose=0,\n",
       "                           warm_start=False)"
      ]
     },
     "execution_count": 123,
     "metadata": {},
     "output_type": "execute_result"
    }
   ],
   "source": [
    "# train chosen model:\n",
    "grad_boost = GradientBoostingClassifier(learning_rate=0.2, n_estimators = 100,\n",
    "                                        max_depth=15, min_samples_split=100,\n",
    "                                        min_samples_leaf=30,\n",
    "                                        max_features='sqrt', subsample=0.8)\n",
    "grad_boost.fit(X_train_res, y_train_res)\n"
   ]
  },
  {
   "cell_type": "code",
   "execution_count": 144,
   "metadata": {
    "scrolled": false
   },
   "outputs": [
    {
     "data": {
      "image/png": "[encoded data removed]",
      "text/plain": [
       "<Figure size 720x504 with 1 Axes>"
      ]
     },
     "metadata": {
      "needs_background": "light"
     },
     "output_type": "display_data"
    }
   ],
   "source": [
    "feature_importance = grad_boost.feature_importances_\n",
    "\n",
    "# Make importances relative to max importance.\n",
    "feature_importance = 100.0 * (feature_importance / feature_importance.max())\n",
    "sorted_idx = np.argsort(feature_importance)\n",
    "pos = np.arange(sorted_idx.shape[0]) + .5\n",
    "plt.figure(figsize=(10,7))\n",
    "plt.barh(pos, feature_importance[sorted_idx], align='center')\n",
    "plt.yticks(pos, data_train.drop('had_violation', axis=1).columns[sorted_idx])\n",
    "plt.xlabel('Relative Importance')\n",
    "plt.title('Variable Importance')\n",
    "plt.show()"
   ]
  },
  {
   "cell_type": "markdown",
   "metadata": {},
   "source": [
    "**Evaluating the Gradient Boosting on the train set**:"
   ]
  },
  {
   "cell_type": "code",
   "execution_count": 133,
   "metadata": {},
   "outputs": [
    {
     "name": "stdout",
     "output_type": "stream",
     "text": [
      "              precision    recall  f1-score   support\n",
      "\n",
      "         0.0       0.81      0.90      0.85     37355\n",
      "         1.0       0.88      0.79      0.84     37355\n",
      "\n",
      "    accuracy                           0.84     74710\n",
      "   macro avg       0.85      0.84      0.84     74710\n",
      "weighted avg       0.85      0.84      0.84     74710\n",
      "\n",
      "AUROC: 0.9252275005584883\n"
     ]
    }
   ],
   "source": [
    "# Evaluating the model:\n",
    "\n",
    "y_pred = grad_boost.predict(X_train_res)\n",
    "print(classification_report(y_train_res, y_pred))\n",
    "\n",
    "y_scores = grad_boost.decision_function(X_train_res)\n",
    "AUROC_gradboost = roc_auc_score(y_train_res, y_scores) # store AUROC to compare with the other models\n",
    "print(\"AUROC: \" + str(AUROC_gradboost))"
   ]
  },
  {
   "cell_type": "code",
   "execution_count": 134,
   "metadata": {
    "scrolled": false
   },
   "outputs": [
    {
     "name": "stdout",
     "output_type": "stream",
     "text": [
      "Confusion matrix, without normalization\n",
      "[[33467  3888]\n",
      " [ 7781 29574]]\n",
      "Normalized confusion matrix\n",
      "[[0.9  0.1 ]\n",
      " [0.21 0.79]]\n"
     ]
    },
    {
     "data": {
      "image/png": "[encoded data removed]",
      "text/plain": [
       "<Figure size 432x288 with 2 Axes>"
      ]
     },
     "metadata": {
      "needs_background": "light"
     },
     "output_type": "display_data"
    },
    {
     "data": {
      "image/png": "[encoded data removed]",
      "text/plain": [
       "<Figure size 432x288 with 2 Axes>"
      ]
     },
     "metadata": {
      "needs_background": "light"
     },
     "output_type": "display_data"
    }
   ],
   "source": [
    "plot_confusion_matrix(y_train_res, y_pred, normalize=False,\n",
    "                      title='Confusion matrix, without normalization')\n",
    "\n",
    "plot_confusion_matrix(y_train_res, y_pred, normalize=True,\n",
    "                      title='Confusion matrix, with normalization')\n",
    "\n",
    "plt.show()"
   ]
  },
  {
   "cell_type": "code",
   "execution_count": 145,
   "metadata": {},
   "outputs": [
    {
     "data": {
      "text/plain": [
       "array([0.68, 0.76, 0.77, 0.69, 0.58, 0.67, 0.77, 0.77, 0.58, 0.5 ])"
      ]
     },
     "execution_count": 145,
     "metadata": {},
     "output_type": "execute_result"
    }
   ],
   "source": [
    "# Overfitting? (here the accuracy)\n",
    "cross_val_score(grad_boost, X_train_res, y_train_res, cv=10) \n",
    "# ==> There is some overfitting apparently as the scores are varying"
   ]
  },
  {
   "cell_type": "markdown",
   "metadata": {},
   "source": [
    "It will be important to evaluate these models with their performance on the validation set."
   ]
  },
  {
   "cell_type": "markdown",
   "metadata": {},
   "source": [
    "### Random Forest\n",
    "\n",
    "Disadvantage: harder to interpret the results.  \n",
    "I use RandomizedSearchCV instead of GridSearchCV, to gain time."
   ]
  },
  {
   "cell_type": "code",
   "execution_count": 157,
   "metadata": {},
   "outputs": [
    {
     "name": "stdout",
     "output_type": "stream",
     "text": [
      "{'n_estimators': [200, 400, 600, 800, 1000, 1200, 1400, 1600, 1800, 2000], 'max_features': ['auto', 'sqrt'], 'max_depth': [10, 20, 30, 40, 50, 60, 70, 80, 90, 100, 110, None], 'min_samples_split': [2, 5, 10], 'min_samples_leaf': [1, 2, 4], 'bootstrap': [True, False]}\n",
      "Fitting 3 folds for each of 100 candidates, totalling 300 fits\n"
     ]
    },
    {
     "name": "stderr",
     "output_type": "stream",
     "text": [
      "[Parallel(n_jobs=-1)]: Using backend LokyBackend with 12 concurrent workers.\n",
      "[Parallel(n_jobs=-1)]: Done  17 tasks      | elapsed:  4.6min\n",
      "[Parallel(n_jobs=-1)]: Done 138 tasks      | elapsed: 26.6min\n",
      "[Parallel(n_jobs=-1)]: Done 300 out of 300 | elapsed: 57.8min finished\n"
     ]
    },
    {
     "name": "stdout",
     "output_type": "stream",
     "text": [
      "tuned in 3597.9461708068848seconds\n",
      "best params: {'n_estimators': 1400, 'min_samples_split': 2, 'min_samples_leaf': 1, 'max_features': 'auto', 'max_depth': 40, 'bootstrap': False}\n",
      "The mean cross-validated AUROC of the best_estimator on X_train: 0.5328558140916086\n",
      "AUROC on (full) X_train: 0.9894741827862094\n"
     ]
    }
   ],
   "source": [
    "# Use the random grid to search for best hyperparameters\n",
    "\n",
    "# Number of trees in random forest\n",
    "n_estimators = [int(x) for x in np.linspace(start = 200, stop = 2000, num = 10)]\n",
    "# Number of features to consider at every split\n",
    "max_features = ['auto', 'sqrt']\n",
    "# Maximum number of levels in tree\n",
    "max_depth = [int(x) for x in np.linspace(10, 110, num = 11)]\n",
    "max_depth.append(None)\n",
    "# Minimum number of samples required to split a node\n",
    "min_samples_split = [2, 5, 10]\n",
    "# Minimum number of samples required at each leaf node\n",
    "min_samples_leaf = [1, 2, 4]\n",
    "# Method of selecting samples for training each tree\n",
    "bootstrap = [True, False]\n",
    "# Create the random grid\n",
    "random_grid = {'n_estimators': n_estimators,\n",
    "               'max_features': max_features,\n",
    "               'max_depth': max_depth,\n",
    "               'min_samples_split': min_samples_split,\n",
    "               'min_samples_leaf': min_samples_leaf,\n",
    "               'bootstrap': bootstrap}\n",
    "print(random_grid)\n",
    "\n",
    "\n",
    "t0 = time.time()\n",
    "# First create the base model to tune\n",
    "rf = RandomForestClassifier()\n",
    "# Random search of parameters, using 3 fold cross validation, \n",
    "# search across 100 different combinations, and use all available cores\n",
    "rf_random = RandomizedSearchCV(estimator = rf, param_distributions = random_grid, \n",
    "                               n_iter = 100, cv = 3, verbose=2, random_state=42, n_jobs = -1,\n",
    "                              scoring='roc_auc')\n",
    "# Fit the random search model\n",
    "rf_random.fit(X_train_res, y_train_res)\n",
    "\n",
    "print(\"tuned in \" + str(time.time() - t0) + 'seconds')\n",
    "\n",
    "print('best params: ' + str(rf_random.best_params_))\n",
    "print('The mean cross-validated AUROC of the best_estimator on X_train:', rf_random.best_score_)\n",
    "print('AUROC on (full) X_train: ' + str(rf_random.score(X_train_res, y_train_res)))\n"
   ]
  },
  {
   "cell_type": "markdown",
   "metadata": {},
   "source": [
    "Let's quickly evaluate the performance of this model on the train set:"
   ]
  },
  {
   "cell_type": "code",
   "execution_count": 159,
   "metadata": {},
   "outputs": [
    {
     "data": {
      "text/plain": [
       "RandomForestClassifier(bootstrap=False, class_weight=None, criterion='gini',\n",
       "                       max_depth=40, max_features='auto', max_leaf_nodes=None,\n",
       "                       min_impurity_decrease=0.0, min_impurity_split=None,\n",
       "                       min_samples_leaf=1, min_samples_split=2,\n",
       "                       min_weight_fraction_leaf=0.0, n_estimators=1400,\n",
       "                       n_jobs=None, oob_score=False, random_state=None,\n",
       "                       verbose=0, warm_start=False)"
      ]
     },
     "execution_count": 159,
     "metadata": {},
     "output_type": "execute_result"
    }
   ],
   "source": [
    "# train chosen model: ! take 5 min\n",
    "rf = RandomForestClassifier(n_estimators=1400, min_samples_split=2, min_samples_leaf=1, \n",
    "                            max_features='auto', max_depth=40, bootstrap=False)\n",
    "rf.fit(X_train_res, y_train_res)"
   ]
  },
  {
   "cell_type": "code",
   "execution_count": 162,
   "metadata": {},
   "outputs": [
    {
     "name": "stdout",
     "output_type": "stream",
     "text": [
      "              precision    recall  f1-score   support\n",
      "\n",
      "         0.0       0.92      0.97      0.94     37355\n",
      "         1.0       0.96      0.91      0.94     37355\n",
      "\n",
      "    accuracy                           0.94     74710\n",
      "   macro avg       0.94      0.94      0.94     74710\n",
      "weighted avg       0.94      0.94      0.94     74710\n",
      "\n"
     ]
    }
   ],
   "source": [
    "y_pred = rf.predict(X_train_res)\n",
    "print(classification_report(y_train_res, y_pred))\n",
    "\n",
    "# This code does not work for random forest, I will compute this on the validation set later\n",
    "# y_scores = rf.decision_function(X_train_res)\n",
    "# AUROC_randomforest = roc_auc_score(y_train_res, y_scores) # store AUROC to compare with the other models\n",
    "# print(\"AUROC: \" + str(AUROC_randomforest))"
   ]
  },
  {
   "cell_type": "code",
   "execution_count": 161,
   "metadata": {},
   "outputs": [
    {
     "name": "stdout",
     "output_type": "stream",
     "text": [
      "Confusion matrix, without normalization\n",
      "[[36078  1277]\n",
      " [ 3252 34103]]\n",
      "Normalized confusion matrix\n",
      "[[0.97 0.03]\n",
      " [0.09 0.91]]\n"
     ]
    },
    {
     "data": {
      "image/png": "[encoded data removed]",
      "text/plain": [
       "<Figure size 432x288 with 2 Axes>"
      ]
     },
     "metadata": {
      "needs_background": "light"
     },
     "output_type": "display_data"
    },
    {
     "data": {
      "image/png": "[encoded data removed]",
      "text/plain": [
       "<Figure size 432x288 with 2 Axes>"
      ]
     },
     "metadata": {
      "needs_background": "light"
     },
     "output_type": "display_data"
    }
   ],
   "source": [
    "plot_confusion_matrix(y_train_res, y_pred, normalize=False,\n",
    "                      title='Confusion matrix, without normalization')\n",
    "plot_confusion_matrix(y_train_res, y_pred, normalize=True,\n",
    "                      title='Confusion matrix, with normalization')\n",
    "plt.show()"
   ]
  },
  {
   "cell_type": "code",
   "execution_count": null,
   "metadata": {},
   "outputs": [],
   "source": [
    "# Maybe run this if have time\n",
    "# # Overfitting? (here the accuracy) \n",
    "# cross_val_score(fit, X_train_res, y_train_res, cv=10) \n",
    "# # ==> There is some overfitting apparently as the scores are varying"
   ]
  },
  {
   "cell_type": "markdown",
   "metadata": {},
   "source": [
    "The model looks promising as it has a good AUROC (0.98), a good recall and precision. However, I am afraid that it might be overfitting.  \n"
   ]
  },
  {
   "cell_type": "markdown",
   "metadata": {},
   "source": [
    "### Testing the Models on the Validation Set\n",
    "\n",
    "I test the generalizability of the 3 trained models on the validation set. The AUROC will be my main criterion to choose a model.   \n",
    "\n",
    "I will then pick my favorite model, maybe fine-tune it a bit more, and then finally test it on the test set."
   ]
  },
  {
   "cell_type": "code",
   "execution_count": 220,
   "metadata": {},
   "outputs": [
    {
     "name": "stdout",
     "output_type": "stream",
     "text": [
      "Logistic regression with ridge regularization\n",
      "\n",
      "Accuracy on train set: 0.6739392316958908\n",
      "AUROC on train set: 0.7253639654018651\n",
      "recall on train set: 0.6214964529514121\n",
      "\n",
      "Accuracy on validation set: 0.7412854550663738\n",
      "AUROC on validation set: 0.6804825155099374\n",
      "recall on validation set: 0.54178145087236\n",
      "\n",
      "\n",
      "\n",
      "Gradient Boosting\n",
      "\n",
      "Accuracy on train set: 0.8450140543434613\n",
      "AUROC on train set: 0.9257717360202457\n",
      "recall on train set: 0.7908981394726275\n",
      "\n",
      "Accuracy on validation set: 0.834877280106962\n",
      "AUROC on validation set: 0.6940191238169959\n",
      "recall on validation set: 0.43709825528007346\n",
      "\n",
      "\n",
      "\n",
      "Random Forest\n",
      "\n",
      "Accuracy on train set: 0.9393923169589078\n",
      "AUROC on train set: 0.9894722607512086\n",
      "recall on train set: 0.9128630705394191\n",
      "\n",
      "Accuracy on validation set: 0.874606054818069\n",
      "AUROC on validation set: 0.6973966325529279\n",
      "recall on validation set: 0.3682277318640955\n",
      "\n",
      "\n",
      "\n"
     ]
    }
   ],
   "source": [
    "# TAKES 3min.\n",
    "# Fitting the 3 models and evalutating them on the train and validation set:\n",
    "\n",
    "def model_evaluation(model_name, model, X_train, y_train, X_test, y_test):\n",
    "    # a function that fits the desired models on the train set, \n",
    "    # and evaluate them both and train and validation or test set.\n",
    "    \n",
    "    training_fit = model.fit(X_train, y_train) # the training. fit is stored and reused below\n",
    "    \n",
    "    # evaluation on train set:\n",
    "    y_pred_train = training_fit.predict(X_train)\n",
    "    y_predproba_train = training_fit.predict_proba(X_train)\n",
    "    Accuracy_train = training_fit.score(X_train, y_train)\n",
    "    AUROC_train = roc_auc_score(y_train, y_predproba_train[:,1])\n",
    "    recall_train = recall_score(y_train, y_pred_train)\n",
    "    \n",
    "    # evaluation on validation set:\n",
    "    y_pred_valid = training_fit.predict(X_valid) # predicted y on validation set using model trained on train set\n",
    "    y_predproba_valid = training_fit.predict_proba(X_valid)\n",
    "    Accuracy_valid = training_fit.score(X_valid, y_valid)\n",
    "    AUROC_valid = roc_auc_score(y_valid, y_predproba_valid[:,1])\n",
    "    recall_valid = recall_score(y_valid, y_pred_valid)\n",
    "    \n",
    "    # printing results:\n",
    "    print(model_name)\n",
    "    print('')\n",
    "    print(\"Accuracy on train set: \" + str(Accuracy_train))\n",
    "    print(\"AUROC on train set: \" + str(AUROC_train))\n",
    "    print(\"recall on train set: \" + str(recall_train))\n",
    "    print('')\n",
    "    print(\"Accuracy on validation set: \" + str(Accuracy_valid))\n",
    "    print(\"AUROC on validation set: \" + str(AUROC_valid))\n",
    "    print(\"recall on validation set: \" + str(recall_valid))\n",
    "    print('\\n\\n')\n",
    "\n",
    "# Logistic Regression with Ridge Regularization\n",
    "log = LogisticRegression(solver='liblinear', C=0.00001, penalty='l2')\n",
    "model_evaluation(\"Logistic regression with ridge regularization\", log, \n",
    "                 X_train_res, y_train_res, X_valid, y_valid)\n",
    "\n",
    "# Gradient boosting\n",
    "gb = GradientBoostingClassifier(learning_rate=0.2, n_estimators = 100,\n",
    "                                        max_depth=15, min_samples_split=100,\n",
    "                                        min_samples_leaf=30,\n",
    "                                        max_features='sqrt', subsample=0.8)\n",
    "model_evaluation(\"Gradient Boosting\", gb, \n",
    "                 X_train_res, y_train_res, X_valid, y_valid)\n",
    "\n",
    "rf = RandomForestClassifier(n_estimators=1400, min_samples_split=2, min_samples_leaf=1, \n",
    "                            max_features='auto', max_depth=40, bootstrap=False, n_jobs = -1)\n",
    "model_evaluation(\"Random Forest\", rf, \n",
    "                 X_train_res, y_train_res, X_valid, y_valid)\n",
    "\n",
    "\n"
   ]
  },
  {
   "cell_type": "markdown",
   "metadata": {},
   "source": [
    "There is a large drop in AUROC for all models, particularly in gradient boosting and random forest, between the train set and the validation set: **The models are overfitting.**  \n",
    "\n",
    "I will try to reduce the max_depth and n_estimator in the gradient boosting and randome forest (as a first priority), and try to reduce the C in the ridge regression.  \n",
    "\n",
    "### New Training Iteration with the Aim to Reduce Overfitting\n",
    "\n",
    "**Logistic Regression with Ridge Regularization**"
   ]
  },
  {
   "cell_type": "code",
   "execution_count": 229,
   "metadata": {
    "scrolled": true
   },
   "outputs": [
    {
     "name": "stdout",
     "output_type": "stream",
     "text": [
      "Best C: 1e-12\n",
      "The mean cross-validated score of the best_estimator on X_train: 0.5315422839235824\n",
      "Accuracy on (full) X_train: 0.7256745589482384\n"
     ]
    }
   ],
   "source": [
    "# Logistic regression\n",
    "logistic = LogisticRegression(solver='liblinear', penalty='l2')  \n",
    "parameters_grid = {'C':[1e-20, 1e-17, 1e-15, 1e-13, 1e-12, 1e-11, 1e-10, 1e-8, 1e-5]}\n",
    "logistic_search = GridSearchCV(estimator=logistic, scoring='roc_auc', param_grid=parameters_grid, cv=3) # 3 folds\n",
    "logistic_search.fit(X_train_res, y_train_res) # using the SMOTE resampled training set\n",
    "\n",
    "print('Best C:',logistic_search.best_estimator_.C)\n",
    "print('The mean cross-validated score of the best_estimator on X_train:', logistic_search.best_score_)\n",
    "print('Accuracy on (full) X_train: ' + str(logistic_search.score(X_train_res, y_train_res)))"
   ]
  },
  {
   "cell_type": "markdown",
   "metadata": {},
   "source": [
    "I choose a C regalurization parameter of 1e-12, knowing that a smaller C means more regularization thus potentially less risk of overfitting. It was the best C with a 3- and 5-folds CV. A 10-folds CV give a best parameter of 1e-11. Let's test the generalization on the validation set:"
   ]
  },
  {
   "cell_type": "code",
   "execution_count": 230,
   "metadata": {},
   "outputs": [
    {
     "name": "stdout",
     "output_type": "stream",
     "text": [
      "Logistic regression with ridge regularization\n",
      "\n",
      "Accuracy on train set: 0.6622406639004149\n",
      "AUROC on train set: 0.7256849015318071\n",
      "recall on train set: 0.6580377459510106\n",
      "\n",
      "Accuracy on validation set: 0.6735746347053767\n",
      "AUROC on validation set: 0.6813106452599874\n",
      "recall on validation set: 0.5711662075298439\n",
      "\n",
      "\n",
      "\n"
     ]
    }
   ],
   "source": [
    "# evaluation on validation set:\n",
    "log = LogisticRegression(solver='liblinear', C=1e-12, penalty='l2')\n",
    "model_evaluation(\"Logistic regression with ridge regularization\", log, \n",
    "                 X_train_res, y_train_res, X_valid, y_valid)\n",
    "# WAS PREVIOUSLY:\n",
    "# Accuracy on validation set: 0.7412854550663738\n",
    "# AUROC on validation set: 0.6804825155099374\n",
    "# recall on validation set: 0.54178145087236"
   ]
  },
  {
   "cell_type": "markdown",
   "metadata": {},
   "source": [
    "The accuracy is worse than before, the AUROC is similar and the recall is a bit better.  \n",
    "\n",
    "**Gradient Boosting:**"
   ]
  },
  {
   "cell_type": "code",
   "execution_count": 232,
   "metadata": {},
   "outputs": [
    {
     "name": "stdout",
     "output_type": "stream",
     "text": [
      "Gradient Boosting\n",
      "\n",
      "Accuracy on train set: 0.7622406639004149\n",
      "AUROC on train set: 0.8484110512641025\n",
      "recall on train set: 0.6358452683710347\n",
      "\n",
      "Accuracy on validation set: 0.8442364626110209\n",
      "AUROC on validation set: 0.7001735734899821\n",
      "recall on validation set: 0.4490358126721763\n",
      "\n",
      "\n",
      "\n"
     ]
    }
   ],
   "source": [
    "# Gradient Boosting\n",
    "# The most important to control for overfitting:  max_depth and n_estimator\n",
    "# the max parameter values are smaller than before.\n",
    "\n",
    "smaller_n_estimators = 50 # instead of 100\n",
    "smaller_max_depth = 8 # instead of 15\n",
    "\n",
    "gb = GradientBoostingClassifier(n_estimators = smaller_n_estimators,\n",
    "                                max_depth=smaller_max_depth, \n",
    "                                learning_rate=0.2, min_samples_split=100, min_samples_leaf=30,\n",
    "                                max_features='sqrt', subsample=0.8)\n",
    "\n",
    "model_evaluation(\"Gradient Boosting\", gb, \n",
    "                 X_train_res, y_train_res, X_valid, y_valid)\n",
    "# WAS PREVIOUSLY (that is want we want to beat):\n",
    "# Accuracy on validation set: 0.834877280106962\n",
    "# AUROC on validation set: 0.6940191238169959\n",
    "# recall on validation set: 0.43709825528007346"
   ]
  },
  {
   "cell_type": "markdown",
   "metadata": {},
   "source": [
    "The AUROC and recall were only slightly improved. Let's try to reduce them more:"
   ]
  },
  {
   "cell_type": "code",
   "execution_count": 240,
   "metadata": {},
   "outputs": [
    {
     "name": "stdout",
     "output_type": "stream",
     "text": [
      "Gradient Boosting\n",
      "\n",
      "Accuracy on train set: 0.7622808191674475\n",
      "AUROC on train set: 0.8503376183116187\n",
      "recall on train set: 0.6381207335028778\n",
      "\n",
      "Accuracy on validation set: 0.8353547894183937\n",
      "AUROC on validation set: 0.696925456968867\n",
      "recall on validation set: 0.4554637281910009\n",
      "\n",
      "\n",
      "\n"
     ]
    }
   ],
   "source": [
    "smaller_n_estimators = 50 # instead of 100\n",
    "smaller_max_depth = 8 # instead of 15\n",
    "\n",
    "gb = GradientBoostingClassifier(n_estimators = smaller_n_estimators,\n",
    "                                max_depth=smaller_max_depth, \n",
    "                                learning_rate=0.2, min_samples_split=100, min_samples_leaf=30,\n",
    "                                max_features='sqrt', subsample=0.8)\n",
    "\n",
    "model_evaluation(\"Gradient Boosting\", gb, \n",
    "                 X_train_res, y_train_res, X_valid, y_valid)\n",
    "# WAS PREVIOUSLY (that is want we want to beat):\n",
    "# Accuracy on validation set: 0.834877280106962\n",
    "# AUROC on validation set: 0.6940191238169959\n",
    "# recall on validation set: 0.43709825528007346"
   ]
  },
  {
   "cell_type": "code",
   "execution_count": null,
   "metadata": {},
   "outputs": [],
   "source": []
  },
  {
   "cell_type": "markdown",
   "metadata": {},
   "source": [
    "# TO DO\n",
    "\n",
    "1. train random forest\n",
    "2. (eventually fine tune gradient boosting even more)\n",
    "3. compare AUROC of models on train set, just one sentence\n",
    "4. fit models on validation set, compute ROC, AUROC\n",
    "5. Choose best model, fit it on test set\n",
    "6. Discuss. Propose how to make it better\n",
    "7. eventually try with had_pesticides and add pesticide use by county in the model."
   ]
  },
  {
   "cell_type": "code",
   "execution_count": null,
   "metadata": {},
   "outputs": [],
   "source": []
  },
  {
   "cell_type": "code",
   "execution_count": null,
   "metadata": {},
   "outputs": [],
   "source": []
  },
  {
   "cell_type": "code",
   "execution_count": 156,
   "metadata": {},
   "outputs": [
    {
     "data": {
      "text/plain": [
       "GridSearchCV(cv=5, error_score='raise-deprecating',\n",
       "             estimator=GradientBoostingClassifier(criterion='friedman_mse',\n",
       "                                                  init=None, learning_rate=0.2,\n",
       "                                                  loss='deviance', max_depth=15,\n",
       "                                                  max_features='sqrt',\n",
       "                                                  max_leaf_nodes=None,\n",
       "                                                  min_impurity_decrease=0.0,\n",
       "                                                  min_impurity_split=None,\n",
       "                                                  min_samples_leaf=1,\n",
       "                                                  min_samples_split=100,\n",
       "                                                  min_weight_fraction_leaf=0.0,\n",
       "                                                  n_estimators=100,\n",
       "                                                  n_iter_no_change=None,\n",
       "                                                  presort='auto',\n",
       "                                                  random_state=10,\n",
       "                                                  subsample=0.8, tol=0.0001,\n",
       "                                                  validation_fraction=0.1,\n",
       "                                                  verbose=0, warm_start=False),\n",
       "             iid='warn', n_jobs=None,\n",
       "             param_grid={'min_samples_leaf': range(30, 71, 10)},\n",
       "             pre_dispatch='2*n_jobs', refit=True, return_train_score=False,\n",
       "             scoring='roc_auc', verbose=0)"
      ]
     },
     "execution_count": 156,
     "metadata": {},
     "output_type": "execute_result"
    }
   ],
   "source": []
  },
  {
   "cell_type": "code",
   "execution_count": null,
   "metadata": {},
   "outputs": [],
   "source": []
  },
  {
   "cell_type": "code",
   "execution_count": null,
   "metadata": {},
   "outputs": [],
   "source": []
  }
 ],
 "metadata": {
  "kernelspec": {
   "display_name": "Python 3",
   "language": "python",
   "name": "python3"
  },
  "language_info": {
   "codemirror_mode": {
    "name": "ipython",
    "version": 3
   },
   "file_extension": ".py",
   "mimetype": "text/x-python",
   "name": "python",
   "nbconvert_exporter": "python",
   "pygments_lexer": "ipython3",
   "version": "3.7.4"
  }
 },
 "nbformat": 4,
 "nbformat_minor": 2
}
