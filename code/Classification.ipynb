{
 "cells": [
  {
   "cell_type": "markdown",
   "metadata": {},
   "source": [
    "# Classification"
   ]
  },
  {
   "cell_type": "code",
   "execution_count": 200,
   "metadata": {},
   "outputs": [],
   "source": [
    "import pandas as pd\n",
    "import numpy as np\n",
    "import datetime\n",
    "import time\n",
    "\n",
    "%matplotlib inline\n",
    "# %matplotlib notebook\n",
    "import matplotlib.pyplot as plt\n",
    "import seaborn as sns\n",
    "\n",
    "import sklearn\n",
    "from sklearn.linear_model import LogisticRegression\n",
    "from sklearn.metrics import roc_curve, roc_auc_score, auc\n",
    "from sklearn.preprocessing import MinMaxScaler, LabelBinarizer\n",
    "from sklearn.model_selection import GridSearchCV, cross_val_score, RandomizedSearchCV, PredefinedSplit\n",
    "from sklearn.metrics import confusion_matrix, classification_report, recall_score\n",
    "from sklearn.utils.multiclass import unique_labels\n",
    "from sklearn.ensemble import GradientBoostingClassifier, RandomForestClassifier\n",
    "\n",
    "from sklearn.utils import resample # to under-sample majority class\n",
    "from imblearn.over_sampling import SMOTE # to over-sample minority class\n"
   ]
  },
  {
   "cell_type": "code",
   "execution_count": 70,
   "metadata": {
    "scrolled": false
   },
   "outputs": [
    {
     "data": {
      "text/html": [
       "<div>\n",
       "<style scoped>\n",
       "    .dataframe tbody tr th:only-of-type {\n",
       "        vertical-align: middle;\n",
       "    }\n",
       "\n",
       "    .dataframe tbody tr th {\n",
       "        vertical-align: top;\n",
       "    }\n",
       "\n",
       "    .dataframe thead th {\n",
       "        text-align: right;\n",
       "    }\n",
       "</style>\n",
       "<table border=\"1\" class=\"dataframe\">\n",
       "  <thead>\n",
       "    <tr style=\"text-align: right;\">\n",
       "      <th></th>\n",
       "      <th>1</th>\n",
       "      <th>2</th>\n",
       "      <th>3</th>\n",
       "      <th>4</th>\n",
       "      <th>5</th>\n",
       "    </tr>\n",
       "  </thead>\n",
       "  <tbody>\n",
       "    <tr>\n",
       "      <th>pwsid</th>\n",
       "      <td>CT0010024</td>\n",
       "      <td>CT0010024</td>\n",
       "      <td>CT0010024</td>\n",
       "      <td>CT0010024</td>\n",
       "      <td>CT0010024</td>\n",
       "    </tr>\n",
       "    <tr>\n",
       "      <th>pws_name</th>\n",
       "      <td>ANDOVER TOWN HALL &amp; FIRE DEPARTMENT</td>\n",
       "      <td>ANDOVER TOWN HALL &amp; FIRE DEPARTMENT</td>\n",
       "      <td>ANDOVER TOWN HALL &amp; FIRE DEPARTMENT</td>\n",
       "      <td>ANDOVER TOWN HALL &amp; FIRE DEPARTMENT</td>\n",
       "      <td>ANDOVER TOWN HALL &amp; FIRE DEPARTMENT</td>\n",
       "    </tr>\n",
       "    <tr>\n",
       "      <th>primacy_agency_code</th>\n",
       "      <td>CT</td>\n",
       "      <td>CT</td>\n",
       "      <td>CT</td>\n",
       "      <td>CT</td>\n",
       "      <td>CT</td>\n",
       "    </tr>\n",
       "    <tr>\n",
       "      <th>pws_type_code</th>\n",
       "      <td>TNCWS</td>\n",
       "      <td>TNCWS</td>\n",
       "      <td>TNCWS</td>\n",
       "      <td>TNCWS</td>\n",
       "      <td>TNCWS</td>\n",
       "    </tr>\n",
       "    <tr>\n",
       "      <th>gw_sw_code</th>\n",
       "      <td>GW</td>\n",
       "      <td>GW</td>\n",
       "      <td>GW</td>\n",
       "      <td>GW</td>\n",
       "      <td>GW</td>\n",
       "    </tr>\n",
       "    <tr>\n",
       "      <th>owner_type_code</th>\n",
       "      <td>P</td>\n",
       "      <td>P</td>\n",
       "      <td>P</td>\n",
       "      <td>P</td>\n",
       "      <td>P</td>\n",
       "    </tr>\n",
       "    <tr>\n",
       "      <th>population_served_count</th>\n",
       "      <td>25</td>\n",
       "      <td>25</td>\n",
       "      <td>25</td>\n",
       "      <td>25</td>\n",
       "      <td>25</td>\n",
       "    </tr>\n",
       "    <tr>\n",
       "      <th>primary_source_code</th>\n",
       "      <td>GW</td>\n",
       "      <td>GW</td>\n",
       "      <td>GW</td>\n",
       "      <td>GW</td>\n",
       "      <td>GW</td>\n",
       "    </tr>\n",
       "    <tr>\n",
       "      <th>is_wholesaler_ind</th>\n",
       "      <td>N</td>\n",
       "      <td>N</td>\n",
       "      <td>N</td>\n",
       "      <td>N</td>\n",
       "      <td>N</td>\n",
       "    </tr>\n",
       "    <tr>\n",
       "      <th>is_school_or_daycare_ind</th>\n",
       "      <td>N</td>\n",
       "      <td>N</td>\n",
       "      <td>N</td>\n",
       "      <td>N</td>\n",
       "      <td>N</td>\n",
       "    </tr>\n",
       "    <tr>\n",
       "      <th>service_connections_count</th>\n",
       "      <td>2</td>\n",
       "      <td>2</td>\n",
       "      <td>2</td>\n",
       "      <td>2</td>\n",
       "      <td>2</td>\n",
       "    </tr>\n",
       "    <tr>\n",
       "      <th>cities_served</th>\n",
       "      <td>ANDOVER</td>\n",
       "      <td>ANDOVER</td>\n",
       "      <td>ANDOVER</td>\n",
       "      <td>ANDOVER</td>\n",
       "      <td>ANDOVER</td>\n",
       "    </tr>\n",
       "    <tr>\n",
       "      <th>counties_served</th>\n",
       "      <td>Tolland</td>\n",
       "      <td>Tolland</td>\n",
       "      <td>Tolland</td>\n",
       "      <td>Tolland</td>\n",
       "      <td>Tolland</td>\n",
       "    </tr>\n",
       "    <tr>\n",
       "      <th>ansi_entity_code</th>\n",
       "      <td>13</td>\n",
       "      <td>13</td>\n",
       "      <td>13</td>\n",
       "      <td>13</td>\n",
       "      <td>13</td>\n",
       "    </tr>\n",
       "    <tr>\n",
       "      <th>year</th>\n",
       "      <td>2013</td>\n",
       "      <td>2014</td>\n",
       "      <td>2015</td>\n",
       "      <td>2016</td>\n",
       "      <td>2017</td>\n",
       "    </tr>\n",
       "    <tr>\n",
       "      <th>n_viol</th>\n",
       "      <td>0</td>\n",
       "      <td>0</td>\n",
       "      <td>0</td>\n",
       "      <td>0</td>\n",
       "      <td>0</td>\n",
       "    </tr>\n",
       "    <tr>\n",
       "      <th>n_pesticide_viol</th>\n",
       "      <td>0</td>\n",
       "      <td>0</td>\n",
       "      <td>0</td>\n",
       "      <td>0</td>\n",
       "      <td>0</td>\n",
       "    </tr>\n",
       "    <tr>\n",
       "      <th>had_violation</th>\n",
       "      <td>0</td>\n",
       "      <td>0</td>\n",
       "      <td>0</td>\n",
       "      <td>0</td>\n",
       "      <td>0</td>\n",
       "    </tr>\n",
       "    <tr>\n",
       "      <th>had_pesticide_violation</th>\n",
       "      <td>0</td>\n",
       "      <td>0</td>\n",
       "      <td>0</td>\n",
       "      <td>0</td>\n",
       "      <td>0</td>\n",
       "    </tr>\n",
       "    <tr>\n",
       "      <th>had_violation_lastyear</th>\n",
       "      <td>0</td>\n",
       "      <td>0</td>\n",
       "      <td>0</td>\n",
       "      <td>0</td>\n",
       "      <td>0</td>\n",
       "    </tr>\n",
       "    <tr>\n",
       "      <th>had_pesticide_violation_lastyear</th>\n",
       "      <td>0</td>\n",
       "      <td>0</td>\n",
       "      <td>0</td>\n",
       "      <td>0</td>\n",
       "      <td>0</td>\n",
       "    </tr>\n",
       "    <tr>\n",
       "      <th>EPEST_LOW_KG</th>\n",
       "      <td>17060.6</td>\n",
       "      <td>11132.3</td>\n",
       "      <td>14271.5</td>\n",
       "      <td>13550.1</td>\n",
       "      <td>14679.7</td>\n",
       "    </tr>\n",
       "  </tbody>\n",
       "</table>\n",
       "</div>"
      ],
      "text/plain": [
       "                                                                    1  \\\n",
       "pwsid                                                       CT0010024   \n",
       "pws_name                          ANDOVER TOWN HALL & FIRE DEPARTMENT   \n",
       "primacy_agency_code                                                CT   \n",
       "pws_type_code                                                   TNCWS   \n",
       "gw_sw_code                                                         GW   \n",
       "owner_type_code                                                     P   \n",
       "population_served_count                                            25   \n",
       "primary_source_code                                                GW   \n",
       "is_wholesaler_ind                                                   N   \n",
       "is_school_or_daycare_ind                                            N   \n",
       "service_connections_count                                           2   \n",
       "cities_served                                                 ANDOVER   \n",
       "counties_served                                               Tolland   \n",
       "ansi_entity_code                                                   13   \n",
       "year                                                             2013   \n",
       "n_viol                                                              0   \n",
       "n_pesticide_viol                                                    0   \n",
       "had_violation                                                       0   \n",
       "had_pesticide_violation                                             0   \n",
       "had_violation_lastyear                                              0   \n",
       "had_pesticide_violation_lastyear                                    0   \n",
       "EPEST_LOW_KG                                                  17060.6   \n",
       "\n",
       "                                                                    2  \\\n",
       "pwsid                                                       CT0010024   \n",
       "pws_name                          ANDOVER TOWN HALL & FIRE DEPARTMENT   \n",
       "primacy_agency_code                                                CT   \n",
       "pws_type_code                                                   TNCWS   \n",
       "gw_sw_code                                                         GW   \n",
       "owner_type_code                                                     P   \n",
       "population_served_count                                            25   \n",
       "primary_source_code                                                GW   \n",
       "is_wholesaler_ind                                                   N   \n",
       "is_school_or_daycare_ind                                            N   \n",
       "service_connections_count                                           2   \n",
       "cities_served                                                 ANDOVER   \n",
       "counties_served                                               Tolland   \n",
       "ansi_entity_code                                                   13   \n",
       "year                                                             2014   \n",
       "n_viol                                                              0   \n",
       "n_pesticide_viol                                                    0   \n",
       "had_violation                                                       0   \n",
       "had_pesticide_violation                                             0   \n",
       "had_violation_lastyear                                              0   \n",
       "had_pesticide_violation_lastyear                                    0   \n",
       "EPEST_LOW_KG                                                  11132.3   \n",
       "\n",
       "                                                                    3  \\\n",
       "pwsid                                                       CT0010024   \n",
       "pws_name                          ANDOVER TOWN HALL & FIRE DEPARTMENT   \n",
       "primacy_agency_code                                                CT   \n",
       "pws_type_code                                                   TNCWS   \n",
       "gw_sw_code                                                         GW   \n",
       "owner_type_code                                                     P   \n",
       "population_served_count                                            25   \n",
       "primary_source_code                                                GW   \n",
       "is_wholesaler_ind                                                   N   \n",
       "is_school_or_daycare_ind                                            N   \n",
       "service_connections_count                                           2   \n",
       "cities_served                                                 ANDOVER   \n",
       "counties_served                                               Tolland   \n",
       "ansi_entity_code                                                   13   \n",
       "year                                                             2015   \n",
       "n_viol                                                              0   \n",
       "n_pesticide_viol                                                    0   \n",
       "had_violation                                                       0   \n",
       "had_pesticide_violation                                             0   \n",
       "had_violation_lastyear                                              0   \n",
       "had_pesticide_violation_lastyear                                    0   \n",
       "EPEST_LOW_KG                                                  14271.5   \n",
       "\n",
       "                                                                    4  \\\n",
       "pwsid                                                       CT0010024   \n",
       "pws_name                          ANDOVER TOWN HALL & FIRE DEPARTMENT   \n",
       "primacy_agency_code                                                CT   \n",
       "pws_type_code                                                   TNCWS   \n",
       "gw_sw_code                                                         GW   \n",
       "owner_type_code                                                     P   \n",
       "population_served_count                                            25   \n",
       "primary_source_code                                                GW   \n",
       "is_wholesaler_ind                                                   N   \n",
       "is_school_or_daycare_ind                                            N   \n",
       "service_connections_count                                           2   \n",
       "cities_served                                                 ANDOVER   \n",
       "counties_served                                               Tolland   \n",
       "ansi_entity_code                                                   13   \n",
       "year                                                             2016   \n",
       "n_viol                                                              0   \n",
       "n_pesticide_viol                                                    0   \n",
       "had_violation                                                       0   \n",
       "had_pesticide_violation                                             0   \n",
       "had_violation_lastyear                                              0   \n",
       "had_pesticide_violation_lastyear                                    0   \n",
       "EPEST_LOW_KG                                                  13550.1   \n",
       "\n",
       "                                                                    5  \n",
       "pwsid                                                       CT0010024  \n",
       "pws_name                          ANDOVER TOWN HALL & FIRE DEPARTMENT  \n",
       "primacy_agency_code                                                CT  \n",
       "pws_type_code                                                   TNCWS  \n",
       "gw_sw_code                                                         GW  \n",
       "owner_type_code                                                     P  \n",
       "population_served_count                                            25  \n",
       "primary_source_code                                                GW  \n",
       "is_wholesaler_ind                                                   N  \n",
       "is_school_or_daycare_ind                                            N  \n",
       "service_connections_count                                           2  \n",
       "cities_served                                                 ANDOVER  \n",
       "counties_served                                               Tolland  \n",
       "ansi_entity_code                                                   13  \n",
       "year                                                             2017  \n",
       "n_viol                                                              0  \n",
       "n_pesticide_viol                                                    0  \n",
       "had_violation                                                       0  \n",
       "had_pesticide_violation                                             0  \n",
       "had_violation_lastyear                                              0  \n",
       "had_pesticide_violation_lastyear                                    0  \n",
       "EPEST_LOW_KG                                                  14679.7  "
      ]
     },
     "execution_count": 70,
     "metadata": {},
     "output_type": "execute_result"
    }
   ],
   "source": [
    "fulldata = pd.read_csv(\"../data/data_input_for_model.csv\")\n",
    "# fulldata.drop('Unnamed: 0', axis=1, inplace=True)\n",
    "\n",
    "fulldata = fulldata[fulldata['year'] > 2012]\n",
    "\n",
    "fulldata.head().T"
   ]
  },
  {
   "cell_type": "code",
   "execution_count": 71,
   "metadata": {},
   "outputs": [
    {
     "data": {
      "text/plain": [
       "array([2013, 2014, 2015, 2016, 2017])"
      ]
     },
     "execution_count": 71,
     "metadata": {},
     "output_type": "execute_result"
    }
   ],
   "source": [
    "fulldata.year.unique()"
   ]
  },
  {
   "cell_type": "code",
   "execution_count": 72,
   "metadata": {},
   "outputs": [],
   "source": [
    "# select features for modelling\n",
    "features = ['primacy_agency_code', 'pws_type_code',\n",
    "           'gw_sw_code', 'owner_type_code', 'population_served_count',\n",
    "           'primary_source_code', 'is_wholesaler_ind', 'is_school_or_daycare_ind',\n",
    "           'service_connections_count',\n",
    "           'year', \n",
    "            'had_violation', 'had_violation_lastyear', \n",
    "            'had_pesticide_violation', 'had_pesticide_violation_lastyear',\n",
    "           'EPEST_LOW_KG']\n",
    "data = fulldata[features]"
   ]
  },
  {
   "cell_type": "code",
   "execution_count": 73,
   "metadata": {},
   "outputs": [],
   "source": [
    "# get dummies:\n",
    "# (on the contrary to R, this is needed in python as it is not done automatically by the fitting function)\n",
    "data = pd.get_dummies(data)"
   ]
  },
  {
   "cell_type": "markdown",
   "metadata": {},
   "source": [
    "Not many variable seem to be correlated with the outcome (*had_violation* or *had_pesticide_violation*), so the classification task will probably be hard... Only two of them: *pws_type_code*, *year* and especially *had_violation_lastyear*, show some correlation."
   ]
  },
  {
   "cell_type": "code",
   "execution_count": 74,
   "metadata": {},
   "outputs": [
    {
     "data": {
      "image/png": "[encoded data removed]",
      "text/plain": [
       "<Figure size 792x648 with 2 Axes>"
      ]
     },
     "metadata": {
      "needs_background": "light"
     },
     "output_type": "display_data"
    }
   ],
   "source": [
    "corr = data.corr() \n",
    "\n",
    "# heatmap of correlations:\n",
    "f, ax = plt.subplots(figsize=(11, 9))\n",
    "cmap = sns.diverging_palette(220, 10, as_cmap=True) # Generate a custom diverging colormap\n",
    "# Draw the heatmap with the correct aspect ratio:\n",
    "sns.heatmap(corr, cmap=cmap, vmax=1, center=0,\n",
    "            square=True, linewidths=.5, cbar_kws={\"shrink\": .5})\n",
    "plt.show()"
   ]
  },
  {
   "cell_type": "markdown",
   "metadata": {},
   "source": [
    "We can get rid of some variables that are autocorrelated:"
   ]
  },
  {
   "cell_type": "code",
   "execution_count": 75,
   "metadata": {},
   "outputs": [],
   "source": [
    "# gw_sw_code_GW and gw_sw_code_SW, as they are highly correlated with primary_source_code and less precise,\n",
    "\n",
    "# and is_wholesaler_ind_N and is_school_or_daycare_ind_N, as they are binary and thus\n",
    "# highly correlated with their Y complement,\n",
    "\n",
    "# service_connections_count as correlated with population_served_count\n",
    "\n",
    "data.drop(['gw_sw_code_GW', 'gw_sw_code_SW', 'is_wholesaler_ind_N', 'is_school_or_daycare_ind_N',\n",
    "          'service_connections_count'], \n",
    "          axis=1, inplace=True)"
   ]
  },
  {
   "cell_type": "markdown",
   "metadata": {},
   "source": [
    "## Standardizing the Data\n",
    "\n",
    "I will do a _0-1 scaling_: 0-1 scaling: (Value - min Value)/(max Value - min Value).\n"
   ]
  },
  {
   "cell_type": "code",
   "execution_count": 76,
   "metadata": {},
   "outputs": [
    {
     "data": {
      "text/plain": [
       "array([0.  , 0.25, 0.5 , 0.75, 1.  ])"
      ]
     },
     "execution_count": 76,
     "metadata": {},
     "output_type": "execute_result"
    }
   ],
   "source": [
    "data_std = (data - data.min(axis=0)) / (data.max(axis=0) - data.min(axis=0))\n",
    "data_std.year.unique()"
   ]
  },
  {
   "cell_type": "markdown",
   "metadata": {},
   "source": [
    "## Training a Model to Classify All Violations (no focus on pesticides)\n",
    "\n",
    "Using *had_violation* as outcome variable.  \n",
    "\n"
   ]
  },
  {
   "cell_type": "markdown",
   "metadata": {},
   "source": [
    "### Splitting in Train, Validation and Test Sets\n",
    "\n",
    "I use the years 2013 to 2015 as train set, the year 2016 as validation set and the year 2017 as test set."
   ]
  },
  {
   "cell_type": "code",
   "execution_count": 77,
   "metadata": {},
   "outputs": [],
   "source": [
    "# SPLITTING IN TRAIN AND TEST:\n",
    "\n",
    "# let's train to test data on 2013-2017 and predict 2017:\n",
    "data_train = data_std[data_std.year < 0.75].drop(['had_pesticide_violation', \n",
    "                                                 'had_pesticide_violation_lastyear'], axis=1) # 2013, 2014, 2015\n",
    "data_valid = data_std[data_std.year == 0.75].drop(['had_pesticide_violation', \n",
    "                                                  'had_pesticide_violation_lastyear'], axis=1) # 2016\n",
    "data_test = data_std[data_std.year > 0.75].drop(['had_pesticide_violation', \n",
    "                                                'had_pesticide_violation_lastyear'], axis=1) # 2017\n",
    "\n",
    "X_train = data_train.drop('had_violation', axis=1)\n",
    "X_valid = data_valid.drop('had_violation', axis=1)\n",
    "X_test = data_test.drop('had_violation', axis=1)\n",
    "\n",
    "y_train = data_train.had_violation\n",
    "y_valid = data_valid.had_violation\n",
    "y_test = data_test.had_violation\n"
   ]
  },
  {
   "cell_type": "markdown",
   "metadata": {},
   "source": [
    "### Handling Class Imbalance\n",
    "\n",
    "There are largely much water systems that never had any violations of the drinking water. Across all years included, 89% of the water systems never had a violation.  \n",
    "Thus, it is expected that the baseline performance of any classification algorithm is around 90%."
   ]
  },
  {
   "cell_type": "code",
   "execution_count": 78,
   "metadata": {},
   "outputs": [
    {
     "name": "stdout",
     "output_type": "stream",
     "text": [
      "0.0    46737\n",
      "1.0     5618\n",
      "Name: had_violation, dtype: int64\n",
      "baseline performance (across years) = percentage of WS without violations: 0.8926941075350969%\n",
      "by year:\n"
     ]
    },
    {
     "data": {
      "text/plain": [
       "year  had_violation\n",
       "0.00  0.0              9226\n",
       "      1.0              1245\n",
       "0.25  0.0              9292\n",
       "      1.0              1179\n",
       "0.50  0.0              9418\n",
       "      1.0              1053\n",
       "0.75  0.0              9419\n",
       "      1.0              1052\n",
       "1.00  0.0              9382\n",
       "      1.0              1089\n",
       "Name: had_violation, dtype: int64"
      ]
     },
     "execution_count": 78,
     "metadata": {},
     "output_type": "execute_result"
    }
   ],
   "source": [
    "n = data_std.had_violation.value_counts()\n",
    "print(n)\n",
    "print('baseline performance (across years) = percentage of WS without violations: ' + str(n[0]/(n[0]+n[1])) + '%')\n",
    "print('by year:')\n",
    "data_std.groupby(['year']).had_violation.value_counts()"
   ]
  },
  {
   "cell_type": "markdown",
   "metadata": {},
   "source": [
    "Handling class imbalance has to be done before model selection, as it can have a different influence on the model that we will train after.   \n",
    "\n",
    "There are several ways of addressing class imbalance that I will try:  \n",
    "\n",
    "* Over-sampling of minority class; in this case even \"synthetic\" over-sampling, using SMOTE\n",
    "* Under-sampling of majority class\n",
    "* Use another metrics that accuracy to evaluate the model. I will try the Area Under Roc Curve (AUROC); it represents the likelihood of your model distinguishing observations from two classes.\n",
    "* Penalize the algorithm by increasing the cost of classification mistakes on the minority class, using for instance the argument *class_weight='balanced'* when fitting the logistic regression.\n",
    "\n",
    "__As the performance of those methods might vary from data set to data set, and from algorithm used to algorithm used, I will first try to use SMOTE while using AUROC as performance metric.__  \n",
    "If the algorithms would not perform well or generalize well, I would go back the other methods."
   ]
  },
  {
   "cell_type": "markdown",
   "metadata": {},
   "source": [
    "#### SMOTE\n",
    "\n",
    "I will try SMOTE to balance the data. Oversampling has to be done on training data alone ([see comment](https://beckernick.github.io/oversampling-modeling)). Oversampling can lead to bad generalization, that is why we will test the generalizibility on a validation set."
   ]
  },
  {
   "cell_type": "code",
   "execution_count": 79,
   "metadata": {},
   "outputs": [
    {
     "name": "stdout",
     "output_type": "stream",
     "text": [
      "Number of water systems in X_train dataset:  (31413, 27)\n",
      "Number of water systems in y_train dataset:  (31413,)\n",
      "Number of water systems in X_valid dataset:  (10471, 27)\n",
      "Number of water systems in y_valid dataset:  (10471,)\n",
      "Number of water systems in X_test dataset:  (10471, 27)\n",
      "Number of water systems in y_test dataset:  (10471,)\n"
     ]
    }
   ],
   "source": [
    "# adapted from this: https://www.kaggle.com/qianchao/smote-with-imbalance-data\n",
    "\n",
    "print(\"Number of water systems in X_train dataset: \", X_train.shape)\n",
    "print(\"Number of water systems in y_train dataset: \", y_train.shape)\n",
    "print(\"Number of water systems in X_valid dataset: \", X_valid.shape)\n",
    "print(\"Number of water systems in y_valid dataset: \", y_valid.shape)\n",
    "print(\"Number of water systems in X_test dataset: \", X_test.shape)\n",
    "print(\"Number of water systems in y_test dataset: \", y_test.shape)"
   ]
  },
  {
   "cell_type": "code",
   "execution_count": 80,
   "metadata": {},
   "outputs": [
    {
     "name": "stdout",
     "output_type": "stream",
     "text": [
      "Before OverSampling, counts of label '1': 3477\n",
      "Before OverSampling, counts of label '0': 27936 \n",
      "\n",
      "After OverSampling, the shape of X_train: (55872, 27)\n",
      "After OverSampling, the shape of y_train: (55872,) \n",
      "\n",
      "After OverSampling, counts of label '1': 27936\n",
      "After OverSampling, counts of label '0': 27936\n"
     ]
    }
   ],
   "source": [
    "print(\"Before OverSampling, counts of label '1': {}\".format(sum(y_train==1)))\n",
    "print(\"Before OverSampling, counts of label '0': {} \\n\".format(sum(y_train==0)))\n",
    "\n",
    "sm = SMOTE(random_state=51) \n",
    "X_train_res, y_train_res = sm.fit_resample(X_train, y_train.ravel()) # oversampling\n",
    "# SMOTE is about oversampling minority class, BUT while SMOTE still oversamples the minority class, \n",
    "# it does not rely on reusing previously existing observations. \n",
    "# Instead, SMOTE creates new (synthetic) observations based on the observations in your data.\n",
    "# see https://towardsdatascience.com/a-deep-dive-into-imbalanced-data-over-sampling-f1167ed74b5\n",
    "\n",
    "print('After OverSampling, the shape of X_train: {}'.format(X_train_res.shape))\n",
    "print('After OverSampling, the shape of y_train: {} \\n'.format(y_train_res.shape))\n",
    "\n",
    "print(\"After OverSampling, counts of label '1': {}\".format(sum(y_train_res==1)))\n",
    "print(\"After OverSampling, counts of label '0': {}\".format(sum(y_train_res==0)))"
   ]
  },
  {
   "cell_type": "markdown",
   "metadata": {},
   "source": [
    "**As from now, we should use *X_train_res* and *y_train_res*, where the minority class (had_violation=1 was over-sampled) to train the models.**"
   ]
  },
  {
   "cell_type": "markdown",
   "metadata": {},
   "source": [
    "### Training and Model Selection - First Iteration\n",
    "\n",
    "I will compare **_logistic regression_**, **_gradient boosting_** and **_random forest_** abilitity to classify the water systems that had a violation of drinking water quality.  \n",
    "\n",
    "The models are trained on the train set, cross-validation with a grid search is used to optimize the parameters. The generalizability of the classifiers is then evaluated on the validation set.  \n",
    "\n",
    "To evaluate the model, specific attention will be payed to the AUROC, the difference of the AUROC between the train and validation set, the confusion matrices and the precision and recall.\n"
   ]
  },
  {
   "cell_type": "code",
   "execution_count": 121,
   "metadata": {},
   "outputs": [],
   "source": [
    "# some functions for model evaluation:\n",
    "\n",
    "def plot_confusion_matrix(y_true, y_pred,\n",
    "                          normalize=False,\n",
    "                          title=None,\n",
    "                          cmap=plt.cm.Blues):\n",
    "    \"\"\"\n",
    "    This function prints and plots the confusion matrix.\n",
    "    Normalization can be applied by setting `normalize=True`.\n",
    "    adapted from https://scikit-learn.org/stable/auto_examples/model_selection/plot_confusion_matrix.html\n",
    "    \"\"\"\n",
    "    if not title:\n",
    "        if normalize:\n",
    "            title = 'Normalized confusion matrix'\n",
    "        else:\n",
    "            title = 'Confusion matrix, without normalization'\n",
    "\n",
    "    # Compute confusion matrix\n",
    "    cm = confusion_matrix(y_true, y_pred)\n",
    "\n",
    "    if normalize:\n",
    "        cm = cm.astype('float') / cm.sum(axis=1)[:, np.newaxis]\n",
    "        print(\"Normalized confusion matrix\")\n",
    "    else:\n",
    "        print('Confusion matrix, without normalization')\n",
    "\n",
    "    print(cm)\n",
    "\n",
    "    fig, ax = plt.subplots()\n",
    "    im = ax.imshow(cm, interpolation='nearest', cmap=cmap)\n",
    "    ax.figure.colorbar(im, ax=ax, shrink =0.5)\n",
    "    \n",
    "    # We want to show all ticks...\n",
    "    ax.set(xticks=np.arange(cm.shape[1]),\n",
    "           yticks=np.arange(cm.shape[0]),\n",
    "           title=title,\n",
    "           ylabel='True label',\n",
    "           xlabel='Predicted label')\n",
    "\n",
    "    # Loop over data dimensions and create text annotations.\n",
    "    fmt = '.2f' if normalize else 'd'\n",
    "    thresh = cm.max() / 2.\n",
    "    for i in range(cm.shape[0]):\n",
    "        for j in range(cm.shape[1]):\n",
    "            ax.text(j, i, format(cm[i, j], fmt),\n",
    "                    horizontalalignment='center',\n",
    "                    verticalalignment='center',\n",
    "                    color=\"black\" if cm[i, j] > thresh else \"black\")\n",
    "    fig.tight_layout()\n",
    "    return ax\n",
    "\n",
    "def model_evaluation(model_name, model, my_X_train, my_y_train, my_X_test, my_y_test):\n",
    "    # a function that fits the desired models on the train set, \n",
    "    # and evaluate them both and train and (validation or test) set.\n",
    "    \n",
    "    training_fit = model.fit(my_X_train, my_y_train) # the training. fit is stored and reused below\n",
    "    \n",
    "    # evaluation on train set:\n",
    "    y_pred_train = training_fit.predict(my_X_train)\n",
    "    y_predproba_train = training_fit.predict_proba(my_X_train)\n",
    "    Accuracy_train = training_fit.score(my_X_train, my_y_train)\n",
    "    AUROC_train = roc_auc_score(my_y_train, y_predproba_train[:,1])\n",
    "    recall_train = recall_score(my_y_train, y_pred_train)\n",
    "    \n",
    "    # evaluation on validation set:\n",
    "    y_pred_valid = training_fit.predict(my_X_test) # predicted y on validation set using model trained on train set\n",
    "    y_predproba_valid = training_fit.predict_proba(my_X_test)\n",
    "    Accuracy_valid = training_fit.score(my_X_test, my_y_test)\n",
    "    AUROC_valid = roc_auc_score(my_y_test, y_predproba_valid[:,1])\n",
    "    recall_valid = recall_score(my_y_test, y_pred_valid)\n",
    "    \n",
    "    # printing results:\n",
    "    print(model_name)\n",
    "    print('')\n",
    "    print(\"Accuracy on train set: \" + str(Accuracy_train))\n",
    "    print(\"AUROC on train set: \" + str(AUROC_train))\n",
    "    print(\"recall on train set: \" + str(recall_train))\n",
    "    print('')\n",
    "    print(\"Accuracy on validation set: \" + str(Accuracy_valid))\n",
    "    print(\"AUROC on validation set: \" + str(AUROC_valid))\n",
    "    print(\"recall on validation set: \" + str(recall_valid))\n",
    "    print('\\n\\n')\n",
    "    \n",
    "# TO DO HERE:       A FUNCTION TO PLOT ROC CURVES\n"
   ]
  },
  {
   "cell_type": "markdown",
   "metadata": {},
   "source": [
    "#### Training the Logistic Regression\n",
    "\n",
    "I will use a ridge regression, and tune the regularization parameter lambda. "
   ]
  },
  {
   "cell_type": "code",
   "execution_count": 124,
   "metadata": {},
   "outputs": [
    {
     "name": "stdout",
     "output_type": "stream",
     "text": [
      "Best C: 1e-14\n",
      "The mean cross-validated score of the best_estimator on X_train: 0.5072204625433643\n",
      "Accuracy on (full) X_train: 0.7298277138419562\n",
      "Running time: 3.155222177505493\n"
     ]
    }
   ],
   "source": [
    "t0 = time.time()\n",
    "# find the desired parameter (C = 1/lambda)\n",
    "logistic = LogisticRegression(solver='liblinear', penalty = 'l2')  \n",
    "parameters_grid = {'C':[1e-14, 1e-12, 1e-11, 1e-10, 1e-5, 0.01, 0.1, 1, 10]}\n",
    "logistic_search = GridSearchCV(estimator=logistic, scoring='roc_auc', # SCORE = AUROC and not accuracy !\n",
    "                               param_grid=parameters_grid, cv=5)\n",
    "logistic_search.fit(X_train_res, y_train_res) # using the SMOTE resampled training set\n",
    "\n",
    "print('Best C:',logistic_search.best_estimator_.C)\n",
    "print('The mean cross-validated score of the best_estimator on X_train:', logistic_search.best_score_)\n",
    "print('Accuracy on (full) X_train: ' + str(logistic_search.score(X_train_res, y_train_res)))\n",
    "print('Running time: ' + str(time.time() - t0))"
   ]
  },
  {
   "cell_type": "code",
   "execution_count": 130,
   "metadata": {},
   "outputs": [
    {
     "name": "stdout",
     "output_type": "stream",
     "text": [
      "              precision    recall  f1-score   support\n",
      "\n",
      "         0.0       0.66      0.71      0.68     27936\n",
      "         1.0       0.69      0.64      0.66     27936\n",
      "\n",
      "    accuracy                           0.67     55872\n",
      "   macro avg       0.67      0.67      0.67     55872\n",
      "weighted avg       0.67      0.67      0.67     55872\n",
      "\n",
      "AUROC: 0.7298277138419562\n",
      "\n",
      "Confusion matrix, without normalization\n",
      "[[19791  8145]\n",
      " [10183 17753]]\n",
      "Normalized confusion matrix\n",
      "[[0.70844072 0.29155928]\n",
      " [0.36451174 0.63548826]]\n"
     ]
    },
    {
     "data": {
      "image/png": "[encoded data removed]",
      "text/plain": [
       "<Figure size 432x288 with 2 Axes>"
      ]
     },
     "metadata": {
      "needs_background": "light"
     },
     "output_type": "display_data"
    },
    {
     "data": {
      "image/png": "[encoded data removed]",
      "text/plain": [
       "<Figure size 432x288 with 2 Axes>"
      ]
     },
     "metadata": {
      "needs_background": "light"
     },
     "output_type": "display_data"
    }
   ],
   "source": [
    "# train chosen model:\n",
    "logistic_train = LogisticRegression(solver='liblinear', C=1e-14)\n",
    "logistic_train.fit(X_train_res, y_train_res)\n",
    "\n",
    "# Evaluating the model on train set:\n",
    "y_pred = logistic_train.predict(X_train_res)\n",
    "print(classification_report(y_train_res, y_pred))\n",
    "\n",
    "y_scores = logistic_train.decision_function(X_train_res)\n",
    "AUROC = roc_auc_score(y_train_res, y_scores) # store AUROC to compare with the other models\n",
    "print(\"AUROC: \" + str(AUROC))\n",
    "print('')\n",
    "\n",
    "plot_confusion_matrix(y_train_res, y_pred, normalize=False,\n",
    "                      title='Confusion matrix, without normalization')\n",
    "\n",
    "plot_confusion_matrix(y_train_res, y_pred, normalize=True,\n",
    "                      title='Confusion matrix, with normalization')\n",
    "\n",
    "plt.show()"
   ]
  },
  {
   "cell_type": "markdown",
   "metadata": {},
   "source": [
    "This is not excessevely brillant... Let's try the other models."
   ]
  },
  {
   "cell_type": "markdown",
   "metadata": {},
   "source": [
    "#### Training the Gradient Boosting\n",
    "\n",
    "I will use _RandomizedSearchCV_ instead of a full grid search with _GridSearchCV_ in order to improve the speed of the parameter tuning. At least in a first step."
   ]
  },
  {
   "cell_type": "code",
   "execution_count": 126,
   "metadata": {},
   "outputs": [
    {
     "name": "stderr",
     "output_type": "stream",
     "text": [
      "/usr/local/lib/python3.7/site-packages/sklearn/model_selection/_search.py:266: UserWarning: The total space of parameters 3 is smaller than n_iter=10. Running 3 iterations. For exhaustive searches, use GridSearchCV.\n",
      "  % (grid_size, self.n_iter, grid_size), UserWarning)\n"
     ]
    },
    {
     "name": "stdout",
     "output_type": "stream",
     "text": [
      "time needed: 34.18504238128662\n",
      "Best n_estimators: 80\n",
      "The mean cross-validated score of the best_estimator on X_train: 0.3585561627071565\n",
      "AUROC on (full) X_train: 0.86913895794913\n"
     ]
    }
   ],
   "source": [
    "# Fix learning rate and number of estimators before tuning tree-based parameters\n",
    "# first we find right learning rate for the number of estimators\n",
    "\n",
    "# see this: https://www.analyticsvidhya.com/blog/2016/02/complete-guide-parameter-tuning-gradient-boosting-gbm-python/\n",
    "\n",
    "# note: after a first run, I increase the learning rate to 0.2, as the best n_estimators was the upper limit\n",
    "\n",
    "t0 = time.time()\n",
    "# define parameters grid:\n",
    "param_grid = {'n_estimators': range(40,81,20)}\n",
    "\n",
    "# Initialize and fit the model.\n",
    "grad_boost = GradientBoostingClassifier(learning_rate=0.2, min_samples_split=500, \n",
    "                                        min_samples_leaf=50, max_depth=8, \n",
    "                                        max_features='sqrt', subsample=0.8, \n",
    "                                        random_state=10)\n",
    "# min_samples_split good if 05-1% of sample size.\n",
    "search_grad_boost = RandomizedSearchCV(grad_boost, param_grid, cv=5,\n",
    "                                scoring='roc_auc') # AND NOT THE ACCURACY!\n",
    "\n",
    "search_grad_boost.fit(X_train_res, y_train_res)\n",
    "RandomizedSearchCV\n",
    "print(\"time needed: \" + str(time.time() - t0))\n",
    "\n",
    "print('Best n_estimators:', search_grad_boost.best_estimator_.n_estimators)\n",
    "print('The mean cross-validated score of the best_estimator on X_train:', search_grad_boost.best_score_)\n",
    "print('AUROC on (full) X_train: ' + str(search_grad_boost.score(X_train_res, y_train_res)))\n"
   ]
  },
  {
   "cell_type": "markdown",
   "metadata": {},
   "source": [
    "I am afraid that the model will not generalize well so I will stick to 80 estimators and not go higher."
   ]
  },
  {
   "cell_type": "code",
   "execution_count": 44,
   "metadata": {},
   "outputs": [
    {
     "name": "stderr",
     "output_type": "stream",
     "text": [
      "/usr/local/lib/python3.7/site-packages/sklearn/model_selection/_search.py:266: UserWarning: The total space of parameters 9 is smaller than n_iter=10. Running 9 iterations. For exhaustive searches, use GridSearchCV.\n",
      "  % (grid_size, self.n_iter, grid_size), UserWarning)\n"
     ]
    },
    {
     "name": "stdout",
     "output_type": "stream",
     "text": [
      "time needed: 325.83254623413086\n",
      "Best max_depth: 18\n",
      "Best min_samples_split: 100\n",
      "The mean cross-validated score of the best_estimator on X_train: 0.41197595015982535\n",
      "AUROC on (full) X_train: 0.9395620823428924\n"
     ]
    }
   ],
   "source": [
    "### Tuning tree-specific parameters\n",
    "# The most important first:  max_depth and min_samples_split\n",
    "\n",
    "t0 = time.time()\n",
    "# define parameters grid:\n",
    "param_grid = {'max_depth':range(12,18,3), \n",
    "              'min_samples_split':range(100,300,100)\n",
    "             }\n",
    "\n",
    "# Initialize and fit the model.\n",
    "grad_boost = GradientBoostingClassifier(learning_rate=0.2, n_estimators = 100,\n",
    "                                        min_samples_leaf=50,  \n",
    "                                        max_features='sqrt', subsample=0.8, \n",
    "                                        random_state=10)\n",
    "search_grad_boost = RandomizedSearchCV(grad_boost, param_grid, cv=5,\n",
    "                                scoring='roc_auc')\n",
    "\n",
    "search_grad_boost.fit(X_train_res, y_train_res)\n",
    "\n",
    "print(\"time needed: \" + str(time.time() - t0))\n",
    "\n",
    "print('Best max_depth:', search_grad_boost.best_estimator_.max_depth)\n",
    "print('Best min_samples_split:', search_grad_boost.best_estimator_.min_samples_split)\n",
    "print('The mean cross-validated score of the best_estimator on X_train:', search_grad_boost.best_score_)\n",
    "print('AUROC on (full) X_train: ' + str(search_grad_boost.score(X_train_res, y_train_res)))"
   ]
  },
  {
   "cell_type": "markdown",
   "metadata": {},
   "source": [
    "Similarly, to avoid probable overfitting, I will stick with a max depth of 18 for now and not go higher. I will stay with a min_samples_split of 100, not going below as usually it should be around 0.5-1% of the sample size (52355). It is probably an indication of overfitting. If I have more time, I might consider a second iteration of this GridSearchCV."
   ]
  },
  {
   "cell_type": "code",
   "execution_count": 127,
   "metadata": {},
   "outputs": [
    {
     "name": "stdout",
     "output_type": "stream",
     "text": [
      "              precision    recall  f1-score   support\n",
      "\n",
      "         0.0       0.86      0.89      0.87     27936\n",
      "         1.0       0.88      0.85      0.87     27936\n",
      "\n",
      "    accuracy                           0.87     55872\n",
      "   macro avg       0.87      0.87      0.87     55872\n",
      "weighted avg       0.87      0.87      0.87     55872\n",
      "\n",
      "AUROC: 0.9460595425261833\n",
      "\n",
      "Confusion matrix, without normalization\n",
      "[[24832  3104]\n",
      " [ 4160 23776]]\n",
      "Normalized confusion matrix\n",
      "[[0.88888889 0.11111111]\n",
      " [0.1489118  0.8510882 ]]\n"
     ]
    },
    {
     "data": {
      "image/png": "[encoded data removed]",
      "text/plain": [
       "<Figure size 432x288 with 2 Axes>"
      ]
     },
     "metadata": {
      "needs_background": "light"
     },
     "output_type": "display_data"
    },
    {
     "data": {
      "image/png": "[encoded data removed]",
      "text/plain": [
       "<Figure size 432x288 with 2 Axes>"
      ]
     },
     "metadata": {
      "needs_background": "light"
     },
     "output_type": "display_data"
    }
   ],
   "source": [
    "# train chosen model:\n",
    "grad_boost_train = GradientBoostingClassifier(learning_rate=0.2, n_estimators = 80,\n",
    "                                        max_depth=18, min_samples_split=100,\n",
    "                                        min_samples_leaf=30,\n",
    "                                        max_features='sqrt', subsample=0.8)\n",
    "grad_boost_train.fit(X_train_res, y_train_res)\n",
    "\n",
    "# Evaluating the model on train set:\n",
    "y_pred = grad_boost_train.predict(X_train_res)\n",
    "print(classification_report(y_train_res, y_pred))\n",
    "\n",
    "y_scores = grad_boost_train.decision_function(X_train_res)\n",
    "AUROC = roc_auc_score(y_train_res, y_scores) # store AUROC to compare with the other models\n",
    "print(\"AUROC: \" + str(AUROC))\n",
    "print('')\n",
    "\n",
    "plot_confusion_matrix(y_train_res, y_pred, normalize=False,\n",
    "                      title='Confusion matrix, without normalization')\n",
    "\n",
    "plot_confusion_matrix(y_train_res, y_pred, normalize=True,\n",
    "                      title='Confusion matrix, with normalization')\n",
    "\n",
    "plt.show()"
   ]
  },
  {
   "cell_type": "markdown",
   "metadata": {},
   "source": [
    "It already looks much better than the logistic regression, let's hope that the model is not overfitting too much and generalize well.  \n",
    "We can have a look at the relative importance of the features use by gradient boosting:"
   ]
  },
  {
   "cell_type": "code",
   "execution_count": 131,
   "metadata": {},
   "outputs": [
    {
     "data": {
      "image/png": "[encoded data removed]",
      "text/plain": [
       "<Figure size 720x504 with 1 Axes>"
      ]
     },
     "metadata": {
      "needs_background": "light"
     },
     "output_type": "display_data"
    }
   ],
   "source": [
    "feature_importance = grad_boost_train.feature_importances_\n",
    "\n",
    "# Make importances relative to max importance.\n",
    "feature_importance = 100.0 * (feature_importance / feature_importance.max())\n",
    "sorted_idx = np.argsort(feature_importance)\n",
    "pos = np.arange(sorted_idx.shape[0]) + .5\n",
    "plt.figure(figsize=(10,7))\n",
    "plt.barh(pos, feature_importance[sorted_idx], align='center')\n",
    "plt.yticks(pos, data_train.drop('had_violation', axis=1).columns[sorted_idx])\n",
    "plt.xlabel('Relative Importance')\n",
    "plt.title('Variable Importance')\n",
    "plt.show()"
   ]
  },
  {
   "cell_type": "markdown",
   "metadata": {},
   "source": [
    "#### Training the Random Forest\n",
    " \n",
    "Again, I use RandomizedSearchCV instead of GridSearchCV, to gain time."
   ]
  },
  {
   "cell_type": "code",
   "execution_count": 62,
   "metadata": {},
   "outputs": [
    {
     "name": "stdout",
     "output_type": "stream",
     "text": [
      "{'n_estimators': [200, 500, 800, 1100, 1400, 1700, 2000], 'max_features': ['auto', 'sqrt'], 'max_depth': [10, 26, 43, 60, 76, 93, 110], 'min_samples_split': [2, 5, 10], 'min_samples_leaf': [1, 2, 4], 'bootstrap': [True, False]}\n",
      "Fitting 3 folds for each of 100 candidates, totalling 300 fits\n"
     ]
    },
    {
     "name": "stderr",
     "output_type": "stream",
     "text": [
      "[Parallel(n_jobs=-1)]: Using backend LokyBackend with 12 concurrent workers.\n",
      "[Parallel(n_jobs=-1)]: Done  17 tasks      | elapsed:  1.9min\n",
      "[Parallel(n_jobs=-1)]: Done 138 tasks      | elapsed: 16.2min\n",
      "[Parallel(n_jobs=-1)]: Done 300 out of 300 | elapsed: 33.4min finished\n"
     ]
    },
    {
     "name": "stdout",
     "output_type": "stream",
     "text": [
      "tuned in 2120.0889990329742seconds\n",
      "best params: {'n_estimators': 1700, 'min_samples_split': 2, 'min_samples_leaf': 1, 'max_features': 'auto', 'max_depth': 60, 'bootstrap': False}\n",
      "The mean cross-validated AUROC of the best_estimator on X_train: 0.5268636105188147\n",
      "AUROC on (full) X_train: 0.9963785824910383\n"
     ]
    }
   ],
   "source": [
    "# Use the randomized grid to search for best hyperparameters\n",
    "\n",
    "# Number of trees in random forest\n",
    "n_estimators = [int(x) for x in np.linspace(start = 200, stop = 2000, num = 7)]\n",
    "# Number of features to consider at every split\n",
    "max_features = ['auto', 'sqrt']\n",
    "# Maximum number of levels in tree\n",
    "max_depth = [int(x) for x in np.linspace(10, 110, num = 7)]\n",
    "# max_depth.append(None) # need to avoid overfitting.\n",
    "# Minimum number of samples required to split a node\n",
    "min_samples_split = [2, 5, 10]\n",
    "# Minimum number of samples required at each leaf node\n",
    "min_samples_leaf = [1, 2, 4]\n",
    "# Method of selecting samples for training each tree\n",
    "bootstrap = [True, False]\n",
    "# Create the random grid\n",
    "random_grid = {'n_estimators': n_estimators,\n",
    "               'max_features': max_features,\n",
    "               'max_depth': max_depth,\n",
    "               'min_samples_split': min_samples_split,\n",
    "               'min_samples_leaf': min_samples_leaf,\n",
    "               'bootstrap': bootstrap}\n",
    "print(random_grid)\n",
    "\n",
    "\n",
    "t0 = time.time()\n",
    "# First create the base model to tune\n",
    "rf = RandomForestClassifier()\n",
    "# Random search of parameters, using 3 fold cross validation, \n",
    "# search across 100 different combinations, and use all available cores\n",
    "rf_random = RandomizedSearchCV(estimator = rf, param_distributions = random_grid, \n",
    "                               n_iter = 100, cv = 3, verbose=2, random_state=42, n_jobs = -1,\n",
    "                              scoring='roc_auc')\n",
    "# Fit the random search model\n",
    "rf_random.fit(X_train_res, y_train_res)\n",
    "\n",
    "print(\"tuned in \" + str(time.time() - t0) + 'seconds')\n",
    "\n",
    "print('best params: ' + str(rf_random.best_params_))\n",
    "print('The mean cross-validated AUROC of the best_estimator on X_train:', rf_random.best_score_)\n",
    "print('AUROC on (full) X_train: ' + str(rf_random.score(X_train_res, y_train_res)))"
   ]
  },
  {
   "cell_type": "code",
   "execution_count": 67,
   "metadata": {
    "scrolled": false
   },
   "outputs": [
    {
     "name": "stdout",
     "output_type": "stream",
     "text": [
      "              precision    recall  f1-score   support\n",
      "\n",
      "         0.0       0.95      0.98      0.96     27936\n",
      "         1.0       0.98      0.95      0.96     27936\n",
      "\n",
      "    accuracy                           0.96     55872\n",
      "   macro avg       0.96      0.96      0.96     55872\n",
      "weighted avg       0.96      0.96      0.96     55872\n",
      "\n",
      "AUROC: 0.9963727830504253\n",
      "\n",
      "Confusion matrix, without normalization\n",
      "[[27321   615]\n",
      " [ 1490 26446]]\n",
      "Normalized confusion matrix\n",
      "[[0.9779854 0.0220146]\n",
      " [0.0533362 0.9466638]]\n"
     ]
    },
    {
     "data": {
      "image/png": "[encoded data removed]",
      "text/plain": [
       "<Figure size 432x288 with 2 Axes>"
      ]
     },
     "metadata": {
      "needs_background": "light"
     },
     "output_type": "display_data"
    },
    {
     "data": {
      "image/png": "[encoded data removed]",
      "text/plain": [
       "<Figure size 432x288 with 2 Axes>"
      ]
     },
     "metadata": {
      "needs_background": "light"
     },
     "output_type": "display_data"
    }
   ],
   "source": [
    "# train chosen model: ! take 5 min\n",
    "rf_train = RandomForestClassifier(n_estimators=1700, min_samples_split=2, min_samples_leaf=1, \n",
    "                            max_features='auto', max_depth=60, bootstrap=False)\n",
    "rf_train.fit(X_train_res, y_train_res)\n",
    "\n",
    "y_pred = rf_train.predict(X_train_res)\n",
    "print(classification_report(y_train_res, y_pred))\n",
    "\n",
    "y_predproba = rf_train.predict_proba(X_train_res)\n",
    "AUROC = roc_auc_score(y_train_res, y_predproba[:,1])\n",
    "print(\"AUROC: \" + str(AUROC))\n",
    "print('')\n",
    "\n",
    "plot_confusion_matrix(y_train_res, y_pred, normalize=False,\n",
    "                      title='Confusion matrix, without normalization')\n",
    "\n",
    "plot_confusion_matrix(y_train_res, y_pred, normalize=True,\n",
    "                      title='Confusion matrix, with normalization')\n",
    "\n",
    "plt.show()"
   ]
  },
  {
   "cell_type": "markdown",
   "metadata": {},
   "source": [
    "That looks great! But I am afraid that the model overfits..."
   ]
  },
  {
   "cell_type": "markdown",
   "metadata": {},
   "source": [
    "### Testing the Generalizability of the Classifiers on the Validation Set\n",
    "\n",
    "I test the generalizability of the 3 trained models on the validation set. The AUROC will be my main criterion to choose a model.   \n",
    "\n",
    "I will then hopefully pick a favorite model, maybe fine-tune it a bit more, and then finally test it on the test set."
   ]
  },
  {
   "cell_type": "code",
   "execution_count": 137,
   "metadata": {
    "scrolled": false
   },
   "outputs": [
    {
     "name": "stdout",
     "output_type": "stream",
     "text": [
      "Logistic regression with ridge regularization\n",
      "\n",
      "Accuracy on train set: 0.6719644902634594\n",
      "AUROC on train set: 0.7298644555918766\n",
      "recall on train set: 0.6354882588774341\n",
      "\n",
      "Accuracy on validation set: 0.7066182790564416\n",
      "AUROC on validation set: 0.7009629230133898\n",
      "recall on validation set: 0.6083650190114068\n",
      "\n",
      "\n",
      "\n",
      "Gradient Boosting\n",
      "\n",
      "Accuracy on train set: 0.8669100801832761\n",
      "AUROC on train set: 0.9446725914397776\n",
      "recall on train set: 0.8474012027491409\n",
      "\n",
      "Accuracy on validation set: 0.6847483525928756\n",
      "AUROC on validation set: 0.6745900709551966\n",
      "recall on validation set: 0.5475285171102662\n",
      "\n",
      "\n",
      "\n",
      "Random Forest\n",
      "\n",
      "Accuracy on train set: 0.9618592497136311\n",
      "AUROC on train set: 0.9962903626971694\n",
      "recall on train set: 0.9461626575028637\n",
      "\n",
      "Accuracy on validation set: 0.6772992073345431\n",
      "AUROC on validation set: 0.6370001053610189\n",
      "recall on validation set: 0.5047528517110266\n",
      "\n",
      "\n",
      "\n"
     ]
    }
   ],
   "source": [
    "# TAKES 3min.\n",
    "# Fitting the 3 models and evalutating them on the train and validation set:\n",
    "\n",
    "# Logistic Regression with Ridge Regularization\n",
    "log = LogisticRegression(solver='liblinear', C=1e-14, penalty='l2')\n",
    "model_evaluation(\"Logistic regression with ridge regularization\", log, \n",
    "                 X_train_res, y_train_res, X_valid, y_valid)\n",
    "\n",
    "# Gradient boosting\n",
    "gb = GradientBoostingClassifier(learning_rate=0.2, n_estimators = 80,\n",
    "                                        max_depth=18, min_samples_split=100,\n",
    "                                        min_samples_leaf=30,\n",
    "                                        max_features='sqrt', subsample=0.8)\n",
    "model_evaluation(\"Gradient Boosting\", gb, \n",
    "                 X_train_res, y_train_res, X_valid, y_valid)\n",
    "\n",
    "# random forest:\n",
    "rf = RandomForestClassifier(n_estimators=1700, min_samples_split=2, min_samples_leaf=1, \n",
    "                            max_features='auto', max_depth=60, bootstrap=False, n_jobs = -1)\n",
    "model_evaluation(\"Random Forest\", rf, \n",
    "                 X_train_res, y_train_res, X_valid, y_valid)\n"
   ]
  },
  {
   "cell_type": "markdown",
   "metadata": {},
   "source": [
    "There is a large drop in AUROC for the gradient boosting and random forest between the train set and the validation set: **The classifiers are overfitting.**   \n",
    "\n",
    "I will try to reduce the max_depth and n_estimator in the gradient boosting and random forest, as a first priority. If it is not working sufficiently well, I will try another method to handle class imbalance.  \n",
    "\n",
    "### New Training Iteration with the Aim to Reduce Overfitting\n",
    "\n",
    "#### Gradient Boosting\n"
   ]
  },
  {
   "cell_type": "code",
   "execution_count": 136,
   "metadata": {},
   "outputs": [
    {
     "name": "stdout",
     "output_type": "stream",
     "text": [
      "Gradient Boosting\n",
      "\n",
      "Accuracy on train set: 0.7339096506300115\n",
      "AUROC on train set: 0.8239636393217635\n",
      "recall on train set: 0.5877362542955327\n",
      "\n",
      "Accuracy on validation set: 0.8235125584948907\n",
      "AUROC on validation set: 0.70857873838859\n",
      "recall on validation set: 0.5047528517110266\n",
      "\n",
      "\n",
      "\n"
     ]
    }
   ],
   "source": [
    "#### Gradient Boosting\n",
    "# The most important to control for overfitting:  max_depth and n_estimator\n",
    "# the max parameter values are smaller than before.\n",
    "# I also try to reduce the learning rate and the subsampling\n",
    "\n",
    "# Try various values below to get a sense of how the model behaves and generalizes:\n",
    "# smaller_n_estimators = 20 # instead of 80\n",
    "# smaller_max_depth = 4 # instead of 18\n",
    "# smaller_learning_rate = 0.01 # instead of 0.2 \n",
    "# smaller_subsample=0.6 # instead of 0.8\n",
    "\n",
    "smaller_n_estimators = 20 # instead of 80\n",
    "smaller_max_depth = 8 # instead of 18\n",
    "smaller_learning_rate = 0.075 # instead of 0.2 \n",
    "smaller_subsample=0.6 # instead of 0.8\n",
    "\n",
    "\n",
    "gb = GradientBoostingClassifier(n_estimators = smaller_n_estimators,\n",
    "                                max_depth=smaller_max_depth, \n",
    "                                learning_rate=0.2, min_samples_split=100, min_samples_leaf=30,\n",
    "                                max_features='sqrt', subsample=smaller_subsample, \n",
    "                                random_state = 51)\n",
    "\n",
    "model_evaluation(\"Gradient Boosting\", gb, \n",
    "                 X_train_res, y_train_res, X_valid, y_valid)\n",
    "# WAS PREVIOUSLY (that is want we want to beat):\n",
    "# Accuracy on validation set: 0.6611593926081558\n",
    "# AUROC on validation set: 0.6790887543461419\n",
    "# recall on validation set: 0.5712927756653993"
   ]
  },
  {
   "cell_type": "markdown",
   "metadata": {},
   "source": [
    "The model is better equilibrated now, as the difference between the training and validation set is smaller.  \n",
    "\n",
    "Unfortunately, after trying various combination of paramters, it looks like it won't be possible to build a better gradient boosting classifier using the data that we have. Nonetheless, through these iterations used to reduce overfitting, we gain a slightly better area under curve on the validation set. "
   ]
  },
  {
   "cell_type": "markdown",
   "metadata": {},
   "source": [
    "#### Random Forest"
   ]
  },
  {
   "cell_type": "code",
   "execution_count": 147,
   "metadata": {
    "scrolled": true
   },
   "outputs": [
    {
     "name": "stdout",
     "output_type": "stream",
     "text": [
      "Random Forest\n",
      "\n",
      "Accuracy on train set: 0.7049863974799542\n",
      "AUROC on train set: 0.7639323097338591\n",
      "recall on train set: 0.5097365406643757\n",
      "\n",
      "Accuracy on validation set: 0.8692579505300353\n",
      "AUROC on validation set: 0.7043745410639526\n",
      "recall on validation set: 0.4306083650190114\n",
      "\n",
      "\n",
      "\n"
     ]
    }
   ],
   "source": [
    "# Use the randomized grid to search for best hyperparameters\n",
    "\n",
    "# reducing the grid for parameters useful for overfitting:\n",
    "\n",
    "higher_n_estimators = 2500 # instead of 1700\n",
    "smaller_max_depth = 4 # instead of 60\n",
    "other_min_samples_split = 5 # instead of 2\n",
    "higher_min_samples_leaf = 50 # instead of 1\n",
    "\n",
    "# re-evaluating the classifier:\n",
    "rf = RandomForestClassifier(n_estimators=smaller_n_estimators,\n",
    "                            max_depth=smaller_max_depth,\n",
    "                            min_samples_split=other_min_samples_split, \n",
    "                            min_samples_leaf=higher_min_samples_leaf, \n",
    "                            max_features='auto', bootstrap=False, n_jobs = -1)\n",
    "\n",
    "model_evaluation(\"Random Forest\", rf, \n",
    "                 X_train_res, y_train_res, X_valid, y_valid)\n",
    "# What we want to beat:\n",
    "# Accuracy on validation set: 0.6802597650654187\n",
    "# AUROC on validation set: 0.6397494325239373\n",
    "# recall on validation set: 0.4990494296577947"
   ]
  },
  {
   "cell_type": "markdown",
   "metadata": {},
   "source": [
    "An AUROC of 0.7 on the validation set definitely seems to be the best I can do...\n",
    "\n",
    "Could it be than the SMOTE is particularly bad in this case for generability? I could try another method for handling class imbalance. \n",
    "\n",
    "**Let's try not using SMOTE, but adjusting the class weight in the classifers** (not implemented for _GradientBoostingClassifier_ yet):"
   ]
  },
  {
   "cell_type": "code",
   "execution_count": 187,
   "metadata": {},
   "outputs": [
    {
     "name": "stdout",
     "output_type": "stream",
     "text": [
      "Logistic regression with ridge regularization\n",
      "\n",
      "Accuracy on train set: 0.702002355712603\n",
      "AUROC on train set: 0.7295544166278747\n",
      "recall on train set: 0.632729364394593\n",
      "\n",
      "Accuracy on validation set: 0.7074777958170184\n",
      "AUROC on validation set: 0.700995318499094\n",
      "recall on validation set: 0.6083650190114068\n",
      "\n",
      "\n",
      "\n",
      "Random Forest\n",
      "\n",
      "Accuracy on train set: 0.8330945786776175\n",
      "AUROC on train set: 0.7482426603673757\n",
      "recall on train set: 0.5243025596778832\n",
      "\n",
      "Accuracy on validation set: 0.8397478750835641\n",
      "AUROC on validation set: 0.7053343456333914\n",
      "recall on validation set: 0.4619771863117871\n",
      "\n",
      "\n",
      "\n"
     ]
    }
   ],
   "source": [
    "# Logistic Regression with Ridge Regularization - adjusting the class weight in the classifier\n",
    "log = LogisticRegression(solver='liblinear', C=1e-14, penalty='l2',\n",
    "                        class_weight='balanced')\n",
    "model_evaluation(\"Logistic regression with ridge regularization\", log, \n",
    "                 X_train, y_train, X_valid, y_valid) # NEW: not X_train_res and y_train_res\n",
    "\n",
    "# Random Forest - adjusting the class weight in the classifier\n",
    "rf = RandomForestClassifier(n_estimators=2500, min_samples_split=5, max_depth=4, min_samples_leaf=50, \n",
    "                            max_features='auto', bootstrap=False, n_jobs = -1,\n",
    "                           class_weight='balanced') # NEW \n",
    "\n",
    "model_evaluation(\"Random Forest\", rf, \n",
    "                 X_train, y_train, X_valid, y_valid) # NEW: not X_train_res and y_train_res"
   ]
  },
  {
   "cell_type": "markdown",
   "metadata": {},
   "source": [
    "Conclusion, we arrive at a similar result a lot faster...\n",
    "\n",
    "Let's quickly **try with undersampling the majority class (_had no violation_)** instead:"
   ]
  },
  {
   "cell_type": "code",
   "execution_count": 149,
   "metadata": {},
   "outputs": [
    {
     "name": "stdout",
     "output_type": "stream",
     "text": [
      "1.0    3477\n",
      "0.0    3477\n",
      "Name: had_violation, dtype: int64\n"
     ]
    }
   ],
   "source": [
    "# Separate majority and minority classes\n",
    "df_majority = data_train[data_train.had_violation==0]\n",
    "df_minority = data_train[data_train.had_violation==1]\n",
    " \n",
    "# Downsample majority class\n",
    "df_majority_downsampled = resample(df_majority, \n",
    "                                 replace=False,    # sample without replacement\n",
    "                                 n_samples=3477,     # to match minority class\n",
    "                                 random_state=51) # reproducible results\n",
    " \n",
    "# Combine minority class with downsampled majority class\n",
    "df_downsampled = pd.concat([df_majority_downsampled, df_minority])\n",
    " \n",
    "# Display new class counts\n",
    "print(df_downsampled.had_violation.value_counts())\n",
    "\n",
    "# New under_sampled majority class train sets:\n",
    "X_train_down = df_downsampled.drop('had_violation', axis=1)\n",
    "y_train_down = df_downsampled.had_violation"
   ]
  },
  {
   "cell_type": "code",
   "execution_count": 188,
   "metadata": {},
   "outputs": [
    {
     "name": "stdout",
     "output_type": "stream",
     "text": [
      "Logistic regression with ridge regularization\n",
      "\n",
      "Accuracy on train set: 0.6662352602818522\n",
      "AUROC on train set: 0.7323732793891309\n",
      "recall on train set: 0.6471095772217429\n",
      "\n",
      "Accuracy on validation set: 0.6914334829529176\n",
      "AUROC on validation set: 0.7020305106941434\n",
      "recall on validation set: 0.6159695817490495\n",
      "\n",
      "\n",
      "\n",
      "Gradient Boosting\n",
      "\n",
      "Accuracy on train set: 0.7001725625539258\n",
      "AUROC on train set: 0.7523483338350071\n",
      "recall on train set: 0.5130859936727064\n",
      "\n",
      "Accuracy on validation set: 0.8402253843949957\n",
      "AUROC on validation set: 0.7053637639638672\n",
      "recall on validation set: 0.4600760456273764\n",
      "\n",
      "\n",
      "\n",
      "Random Forest\n",
      "\n",
      "Accuracy on train set: 0.6984469370146679\n",
      "AUROC on train set: 0.7520402986749939\n",
      "recall on train set: 0.5260281852171412\n",
      "\n",
      "Accuracy on validation set: 0.8328717409989495\n",
      "AUROC on validation set: 0.7054964239824286\n",
      "recall on validation set: 0.4667300380228137\n",
      "\n",
      "\n",
      "\n"
     ]
    }
   ],
   "source": [
    "# Logistic Regression with Ridge Regularization - on data where the majority class was undersampled\n",
    "log = LogisticRegression(solver='liblinear', C=1e-14, penalty='l2')\n",
    "model_evaluation(\"Logistic regression with ridge regularization\", log, \n",
    "                 X_train_down, y_train_down, X_valid, y_valid) # NEW: not X_train_res and y_train_res\n",
    "\n",
    "# Gradient Boosting - on data where the majority class was undersampled\n",
    "gb = GradientBoostingClassifier(n_estimators = 20,\n",
    "                                max_depth=8, \n",
    "                                learning_rate=0.075, min_samples_split=700, min_samples_leaf=80,\n",
    "                                max_features='sqrt', subsample=0.6, \n",
    "                                random_state = 51)\n",
    "model_evaluation(\"Gradient Boosting\", gb, \n",
    "                 X_train_down, y_train_down, X_valid, y_valid)\n",
    "\n",
    "# Random forest - on data where the majority class was undersampled\n",
    "rf = RandomForestClassifier(n_estimators=2500, min_samples_split=5, max_depth=4, min_samples_leaf=50, \n",
    "                            max_features='auto', bootstrap=False, n_jobs = -1)\n",
    "\n",
    "model_evaluation(\"Random Forest\", rf, \n",
    "                 X_train_down, y_train_down, X_valid, y_valid) # NEW: not X_train_res and y_train_res"
   ]
  },
  {
   "cell_type": "markdown",
   "metadata": {},
   "source": [
    "Conclusion: the results are very similar (but I did not tune model parameters, however I suppose that it is not worth the investment the time)... "
   ]
  },
  {
   "cell_type": "markdown",
   "metadata": {},
   "source": [
    "### Trying if the Models are Better at Classifying Pesticides Violations\n",
    "\n",
    "The previous outcome variable *had_violation* might be hard to classify or predict because the causes of violations are very diverse and not well explained by the variables in SDWIS. Maybe one could focus the classification on a subset of violations that are better explainable by the available features in SDWIS or other external data added.   \n",
    "\n",
    "I added one external feature: the estimated pesticide use per county. I will try to classify the water systems that are more likely to see pesticides violations."
   ]
  },
  {
   "cell_type": "code",
   "execution_count": 151,
   "metadata": {},
   "outputs": [],
   "source": [
    "data_std_pest = data_std.drop(['had_violation', 'had_violation_lastyear'], axis=1) # remove previous outcome\n",
    "\n",
    "# let's train to test data on 2013-2017 and predict 2017:\n",
    "data_pest_train = data_std_pest[data_std_pest.year < 0.75] # 2013, 2014, 2015\n",
    "data_pest_valid = data_std_pest[data_std_pest.year == 0.75] # 2016\n",
    "data_pest_test = data_std_pest[data_std_pest.year > 0.75] # 2017\n",
    "\n",
    "X_pest_train = data_pest_train.drop('had_pesticide_violation', axis=1) # outcome is now had_pesticide_violation\n",
    "X_pest_valid = data_pest_valid.drop('had_pesticide_violation', axis=1)\n",
    "X_pest_test = data_pest_test.drop('had_pesticide_violation', axis=1)\n",
    "\n",
    "y_pest_train = data_pest_train.had_pesticide_violation\n",
    "y_pest_valid = data_pest_valid.had_pesticide_violation\n",
    "y_pest_test = data_pest_test.had_pesticide_violation\n"
   ]
  },
  {
   "cell_type": "code",
   "execution_count": 189,
   "metadata": {},
   "outputs": [
    {
     "name": "stdout",
     "output_type": "stream",
     "text": [
      "Logistic regression with ridge regularization\n",
      "\n",
      "Accuracy on train set: 0.5857129214019673\n",
      "AUROC on train set: 0.8514437992883793\n",
      "recall on train set: 0.9464285714285714\n",
      "\n",
      "Accuracy on validation set: 0.5850444083659632\n",
      "AUROC on validation set: 0.7908515473990527\n",
      "recall on validation set: 1.0\n",
      "\n",
      "\n",
      "\n",
      "Random Forest\n",
      "\n",
      "Accuracy on train set: 0.7106611912265622\n",
      "AUROC on train set: 0.9238490266470463\n",
      "recall on train set: 0.9642857142857143\n",
      "\n",
      "Accuracy on validation set: 0.6980231114506733\n",
      "AUROC on validation set: 0.8014135814269632\n",
      "recall on validation set: 0.6666666666666666\n",
      "\n",
      "\n",
      "\n"
     ]
    }
   ],
   "source": [
    "# Logistic Regression with Ridge Regularization - ON PESTICIDE VIOLATIONS ONLY\n",
    "log_pest = LogisticRegression(solver='liblinear', C=1e-14, penalty='l2',\n",
    "                        class_weight='balanced') # handling class imbalance\n",
    "model_evaluation(\"Logistic regression with ridge regularization\", log_pest, \n",
    "                 X_pest_train, y_pest_train, X_pest_valid, y_pest_valid)\n",
    "\n",
    "# Random Forest - ON PESTICIDE VIOLATIONS ONLY\n",
    "rf_pest = RandomForestClassifier(n_estimators=2500, min_samples_split=5, max_depth=4, min_samples_leaf=50, \n",
    "                            max_features='auto', bootstrap=False, n_jobs = -1,\n",
    "                           class_weight='balanced') # handling class imbalance\n",
    "model_evaluation(\"Random Forest\", rf_pest, \n",
    "                 X_pest_train, y_pest_train, X_pest_valid, y_pest_valid) \n",
    "\n",
    "# no Gradient Boosting for now, as no \"class_weight='balanced'\" available."
   ]
  },
  {
   "cell_type": "markdown",
   "metadata": {},
   "source": [
    "This looks quite promising, I will give it a real try. Before, I verify that the lower estimate of pesticide use (average across all pesticides) in kg, per year and county is useful for the classification:"
   ]
  },
  {
   "cell_type": "code",
   "execution_count": 153,
   "metadata": {
    "scrolled": false
   },
   "outputs": [
    {
     "name": "stdout",
     "output_type": "stream",
     "text": [
      "Warning: Maximum number of iterations has been exceeded.\n",
      "         Current function value: 0.010888\n",
      "         Iterations: 35\n",
      "                              Logit Regression Results                             \n",
      "===================================================================================\n",
      "Dep. Variable:     had_pesticide_violation   No. Observations:                31413\n",
      "Model:                               Logit   Df Residuals:                    31389\n",
      "Method:                                MLE   Df Model:                           23\n",
      "Date:                     Mon, 15 Jul 2019   Pseudo R-squ.:                  0.1666\n",
      "Time:                             15:13:48   Log-Likelihood:                -342.02\n",
      "converged:                           False   LL-Null:                       -410.41\n",
      "Covariance Type:                 nonrobust   LLR p-value:                 3.638e-18\n",
      "====================================================================================================\n",
      "                                       coef    std err          z      P>|z|      [0.025      0.975]\n",
      "----------------------------------------------------------------------------------------------------\n",
      "population_served_count             -3.1886     18.832     -0.169      0.866     -40.099      33.722\n",
      "year                                -0.0050      0.658     -0.008      0.994      -1.294       1.284\n",
      "had_pesticide_violation_lastyear     2.1008      0.626      3.357      0.001       0.874       3.327\n",
      "EPEST_LOW_KG                         4.0748      1.558      2.616      0.009       1.021       7.128\n",
      "primacy_agency_code_CT               0.8878   1.93e+07    4.6e-08      1.000   -3.79e+07    3.79e+07\n",
      "primacy_agency_code_MA              -0.0219   1.93e+07  -1.13e-09      1.000   -3.79e+07    3.79e+07\n",
      "primacy_agency_code_ME              -1.4962    1.9e+07  -7.86e-08      1.000   -3.73e+07    3.73e+07\n",
      "primacy_agency_code_NH              -0.9465   1.93e+07  -4.91e-08      1.000   -3.78e+07    3.78e+07\n",
      "primacy_agency_code_RI             -18.7147   1.93e+07  -9.69e-07      1.000   -3.79e+07    3.79e+07\n",
      "primacy_agency_code_VT               0.1306   1.91e+07   6.83e-09      1.000   -3.75e+07    3.75e+07\n",
      "pws_type_code_CWS                   -5.4609   6.44e+06  -8.48e-07      1.000   -1.26e+07    1.26e+07\n",
      "pws_type_code_NTNCWS                -5.6228   6.57e+06  -8.56e-07      1.000   -1.29e+07    1.29e+07\n",
      "pws_type_code_TNCWS                 -9.0772   6.34e+06  -1.43e-06      1.000   -1.24e+07    1.24e+07\n",
      "owner_type_code_F                   -9.1823        nan        nan        nan         nan         nan\n",
      "owner_type_code_L                    5.8157        nan        nan        nan         nan         nan\n",
      "owner_type_code_M                   -7.9810        nan        nan        nan         nan         nan\n",
      "owner_type_code_N                   -3.3090        nan        nan        nan         nan         nan\n",
      "owner_type_code_P                    6.0676        nan        nan        nan         nan         nan\n",
      "owner_type_code_S                  -11.5719        nan        nan        nan         nan         nan\n",
      "primary_source_code_GU              15.4529   1.08e+07   1.43e-06      1.000   -2.12e+07    2.12e+07\n",
      "primary_source_code_GUP            -49.2928   2.66e+14  -1.85e-13      1.000   -5.22e+14    5.22e+14\n",
      "primary_source_code_GW              13.9745   1.08e+07   1.29e-06      1.000   -2.12e+07    2.12e+07\n",
      "primary_source_code_GWP             -0.6666   1.08e+07  -6.15e-08      1.000   -2.12e+07    2.12e+07\n",
      "primary_source_code_SW              14.6865   1.08e+07   1.36e-06      1.000   -2.12e+07    2.12e+07\n",
      "primary_source_code_SWP            -14.3154   1.09e+07  -1.32e-06      1.000   -2.13e+07    2.13e+07\n",
      "is_wholesaler_ind_Y                 -9.1940    168.851     -0.054      0.957    -340.137     321.749\n",
      "is_school_or_daycare_ind_Y          -0.1760      0.448     -0.393      0.694      -1.053       0.701\n",
      "intercept                          -20.1609        nan        nan        nan         nan         nan\n",
      "====================================================================================================\n",
      "\n",
      "Possibly complete quasi-separation: A fraction 0.35 of observations can be\n",
      "perfectly predicted. This might indicate that there is complete\n",
      "quasi-separation. In this case some parameters will not be identified.\n"
     ]
    },
    {
     "name": "stderr",
     "output_type": "stream",
     "text": [
      "/usr/local/lib/python3.7/site-packages/statsmodels/base/model.py:512: ConvergenceWarning: Maximum Likelihood optimization failed to converge. Check mle_retvals\n",
      "  \"Check mle_retvals\", ConvergenceWarning)\n",
      "/usr/local/lib/python3.7/site-packages/statsmodels/base/model.py:1286: RuntimeWarning: invalid value encountered in sqrt\n",
      "  bse_ = np.sqrt(np.diag(self.cov_params()))\n",
      "/usr/local/lib/python3.7/site-packages/scipy/stats/_distn_infrastructure.py:901: RuntimeWarning: invalid value encountered in greater\n",
      "  return (a < x) & (x < b)\n",
      "/usr/local/lib/python3.7/site-packages/scipy/stats/_distn_infrastructure.py:901: RuntimeWarning: invalid value encountered in less\n",
      "  return (a < x) & (x < b)\n",
      "/usr/local/lib/python3.7/site-packages/scipy/stats/_distn_infrastructure.py:1892: RuntimeWarning: invalid value encountered in less_equal\n",
      "  cond2 = cond0 & (x <= _a)\n"
     ]
    }
   ],
   "source": [
    "## NO L2 Regularization currently implemented in Statsmodels...\n",
    "\n",
    "# # from scipy.misc import factorial\n",
    "from statsmodels.discrete.discrete_model import Logit\n",
    "\n",
    "# Declare predictors.\n",
    "X_statsmod = X_pest_train.copy()\n",
    "\n",
    "# The Statsmodels formulation requires a column with constant value 1 that\n",
    "# will act as the intercept.\n",
    "X_statsmod['intercept'] = 1 \n",
    "\n",
    "# Declare and fit the model.\n",
    "logit = Logit(y_pest_train, X_statsmod)\n",
    "result = logit.fit()\n",
    "\n",
    "# Lots of information about the model and its coefficients, but the\n",
    "# accuracy rate for predictions is missing.\n",
    "print(result.summary())\n"
   ]
  },
  {
   "cell_type": "markdown",
   "metadata": {},
   "source": [
    "Yes it is. However, a clear issue to this task is the **very large class imbalance**! There is probably not enough data for a classification to perform well (and be evaluated well)"
   ]
  },
  {
   "cell_type": "code",
   "execution_count": 190,
   "metadata": {},
   "outputs": [
    {
     "name": "stdout",
     "output_type": "stream",
     "text": [
      "0.0    31357\n",
      "1.0       56\n",
      "Name: had_pesticide_violation, dtype: int64\n",
      "0.0    10462\n",
      "1.0        9\n",
      "Name: had_pesticide_violation, dtype: int64\n",
      "0.0    10458\n",
      "1.0       13\n",
      "Name: had_pesticide_violation, dtype: int64\n"
     ]
    }
   ],
   "source": [
    "print(y_pest_train.value_counts())\n",
    "print(y_pest_valid.value_counts())\n",
    "print(y_pest_test.value_counts())"
   ]
  },
  {
   "cell_type": "markdown",
   "metadata": {},
   "source": [
    "### Classification of Pestide Violations: Training\n",
    "\n",
    "Let's try it anyway, despite the too few pesticide violations, just to have a look."
   ]
  },
  {
   "cell_type": "markdown",
   "metadata": {},
   "source": [
    "#### Logistic Regression with Ridge Regularization"
   ]
  },
  {
   "cell_type": "code",
   "execution_count": 159,
   "metadata": {
    "scrolled": true
   },
   "outputs": [
    {
     "name": "stdout",
     "output_type": "stream",
     "text": [
      "Best C: 0.0001\n",
      "The mean cross-validated score of the best_estimator on X_train: 0.7771765639479659\n",
      "AUROC on (full) X_train: 0.8549381204470179\n",
      "Running time: 0.8128907680511475\n"
     ]
    }
   ],
   "source": [
    "t0 = time.time()\n",
    "# find the desired parameter (C = 1/lambda)\n",
    "logistic = LogisticRegression(solver='liblinear', penalty='l2',\n",
    "                        class_weight='balanced') # TO COMPENSATE CLASS IMBALANCE\n",
    "parameters_grid = {'C':[1e-20, 1e-15, 1e-10, 1e-5, 1e-4, 1e-3, 1, 10]}\n",
    "logistic_search = GridSearchCV(estimator=logistic, scoring='roc_auc', # SCORE = AUROC and not accuracy !\n",
    "                               param_grid=parameters_grid, cv=3)\n",
    "logistic_search.fit(X_pest_train, y_pest_train)\n",
    "\n",
    "print('Best C:',logistic_search.best_estimator_.C)\n",
    "print('The mean cross-validated score of the best_estimator on X_train:', logistic_search.best_score_)\n",
    "print('AUROC on (full) X_train: ' + str(logistic_search.score(X_pest_train, y_pest_train)))\n",
    "print('Running time: ' + str(time.time() - t0))"
   ]
  },
  {
   "cell_type": "code",
   "execution_count": 181,
   "metadata": {
    "scrolled": false
   },
   "outputs": [
    {
     "name": "stdout",
     "output_type": "stream",
     "text": [
      "Logistic regression with ridge regularization\n",
      "\n",
      "Accuracy on train set: 0.6045586222264667\n",
      "AUROC on train set: 0.8549381204470179\n",
      "recall on train set: 0.9464285714285714\n",
      "\n",
      "Accuracy on validation set: 0.6036672715117944\n",
      "AUROC on validation set: 0.7947439410352811\n",
      "recall on validation set: 0.8888888888888888\n",
      "\n",
      "\n",
      "\n"
     ]
    }
   ],
   "source": [
    "# evaluation on validation set\n",
    "# Logistic Regression with Ridge Regularization - ON PESTICIDE VIOLATIONS ONLY\n",
    "log_pest = LogisticRegression(solver='liblinear', C=0.0001, penalty='l2',\n",
    "                        class_weight='balanced')\n",
    "model_evaluation(\"Logistic regression with ridge regularization\", log_pest, \n",
    "                 X_pest_train, y_pest_train, X_pest_valid, y_pest_valid)\n"
   ]
  },
  {
   "cell_type": "code",
   "execution_count": 182,
   "metadata": {},
   "outputs": [
    {
     "name": "stdout",
     "output_type": "stream",
     "text": [
      "              precision    recall  f1-score   support\n",
      "\n",
      "         0.0       1.00      0.60      0.75     10462\n",
      "         1.0       0.00      0.89      0.00         9\n",
      "\n",
      "    accuracy                           0.60     10471\n",
      "   macro avg       0.50      0.75      0.38     10471\n",
      "weighted avg       1.00      0.60      0.75     10471\n",
      "\n",
      "Confusion matrix, without normalization\n",
      "[[6313 4149]\n",
      " [   1    8]]\n",
      "Normalized confusion matrix\n",
      "[[0.60342191 0.39657809]\n",
      " [0.11111111 0.88888889]]\n"
     ]
    },
    {
     "data": {
      "text/plain": [
       "<matplotlib.axes._subplots.AxesSubplot at 0x13042c310>"
      ]
     },
     "execution_count": 182,
     "metadata": {},
     "output_type": "execute_result"
    },
    {
     "data": {
      "image/png": "[encoded data removed]",
      "text/plain": [
       "<Figure size 432x288 with 2 Axes>"
      ]
     },
     "metadata": {
      "needs_background": "light"
     },
     "output_type": "display_data"
    },
    {
     "data": {
      "image/png": "[encoded data removed]",
      "text/plain": [
       "<Figure size 432x288 with 2 Axes>"
      ]
     },
     "metadata": {
      "needs_background": "light"
     },
     "output_type": "display_data"
    }
   ],
   "source": [
    "# Evaluating the model on validation set:\n",
    "y_pred_valid = log_pest.predict(X_pest_valid)\n",
    "print(classification_report(y_pest_valid, y_pred_valid))\n",
    "\n",
    "plot_confusion_matrix(y_pest_valid, y_pred_valid, normalize=False,\n",
    "                      title='Confusion matrix, without normalization')\n",
    "\n",
    "plot_confusion_matrix(y_pest_valid, y_pred_valid, normalize=True,\n",
    "                      title='Confusion matrix, with normalization')"
   ]
  },
  {
   "cell_type": "markdown",
   "metadata": {},
   "source": [
    "#### Gradient Boosting\n",
    "\n",
    "I first start with a _RandomizedSearchCV_ to locate a good range, then will use _GridSearchCV_ to fine tune."
   ]
  },
  {
   "cell_type": "code",
   "execution_count": 165,
   "metadata": {},
   "outputs": [
    {
     "name": "stdout",
     "output_type": "stream",
     "text": [
      "time needed: 4.952953100204468\n",
      "Best n_estimators: {'n_estimators': 20, 'min_samples_split': 200, 'max_depth': 15}\n",
      "The mean cross-validated score of the best_estimator on X_train: 0.7580795056977194\n",
      "AUROC on (full) X_train: 0.9751781329299906\n"
     ]
    }
   ],
   "source": [
    "t0 = time.time()\n",
    "# define parameters grid:\n",
    "param_grid = {'n_estimators': range(10,100,10),\n",
    "              'max_depth':range(12,18,3), \n",
    "              'min_samples_split':range(100,300,100)\n",
    "             }\n",
    "\n",
    "# Initialize and fit the model. # NOTE: no handling of class imbalance other than using roc_auc:\n",
    "# Gradient Boosting - on data where the majority class was undersampled\n",
    "grad_boost = GradientBoostingClassifier(learning_rate=0.075, min_samples_leaf=80,\n",
    "                                max_features='sqrt', subsample=0.6, \n",
    "                                random_state = 51)\n",
    "search_grad_boost = RandomizedSearchCV(grad_boost, param_grid, cv=3,\n",
    "                                scoring='roc_auc', n_jobs = -1) # AND NOT THE ACCURACY!\n",
    "\n",
    "search_grad_boost.fit(X_pest_train, y_pest_train)\n",
    "\n",
    "print(\"time needed: \" + str(time.time() - t0))\n",
    "\n",
    "print('Best n_estimators:', search_grad_boost.best_params_)\n",
    "print('The mean cross-validated score of the best_estimator on X_train:', search_grad_boost.best_score_)\n",
    "print('AUROC on (full) X_train: ' + str(search_grad_boost.score(X_pest_train, y_pest_train)))"
   ]
  },
  {
   "cell_type": "code",
   "execution_count": 166,
   "metadata": {},
   "outputs": [
    {
     "name": "stdout",
     "output_type": "stream",
     "text": [
      "time needed: 48.68494701385498\n",
      "Best n_estimators: {'max_depth': 14, 'min_samples_split': 200, 'n_estimators': 15}\n",
      "The mean cross-validated score of the best_estimator on X_train: 0.7680361123661179\n",
      "AUROC on (full) X_train: 0.9673768445414329\n"
     ]
    }
   ],
   "source": [
    "# fine tuning:\n",
    "\n",
    "t0 = time.time()\n",
    "# define parameters grid:\n",
    "param_grid = {'n_estimators': range(10,30,5),\n",
    "              'max_depth':range(12,18, 2), \n",
    "              'min_samples_split':range(150, 300, 25)\n",
    "             }\n",
    "\n",
    "# Initialize and fit the model. # NOTE: no handling of class imbalance other than using roc_auc:\n",
    "# Gradient Boosting - on data where the majority class was undersampled\n",
    "grad_boost = GradientBoostingClassifier(learning_rate=0.075, min_samples_leaf=80,\n",
    "                                max_features='sqrt', subsample=0.6, \n",
    "                                random_state = 51)\n",
    "search_grad_boost = GridSearchCV(grad_boost, param_grid, cv=3,\n",
    "                                scoring='roc_auc') # AND NOT THE ACCURACY!\n",
    "\n",
    "search_grad_boost.fit(X_pest_train, y_pest_train)\n",
    "\n",
    "print(\"time needed: \" + str(time.time() - t0))\n",
    "\n",
    "print('Best n_estimators:', search_grad_boost.best_params_)\n",
    "print('The mean cross-validated score of the best_estimator on X_train:', search_grad_boost.best_score_)\n",
    "print('AUROC on (full) X_train: ' + str(search_grad_boost.score(X_pest_train, y_pest_train)))"
   ]
  },
  {
   "cell_type": "code",
   "execution_count": 168,
   "metadata": {
    "scrolled": true
   },
   "outputs": [
    {
     "name": "stdout",
     "output_type": "stream",
     "text": [
      "Gradient Boosting\n",
      "\n",
      "Accuracy on train set: 0.9982172985706554\n",
      "AUROC on train set: 0.9673768445414329\n",
      "recall on train set: 0.0\n",
      "\n",
      "Accuracy on validation set: 0.9991404832394232\n",
      "AUROC on validation set: 0.8331687164128381\n",
      "recall on validation set: 0.0\n",
      "\n",
      "\n",
      "\n"
     ]
    }
   ],
   "source": [
    "# evaluation on validation set:\n",
    "gb = GradientBoostingClassifier(n_estimators = 15, max_depth=14, min_samples_split=200,\n",
    "                                learning_rate=0.075, min_samples_leaf=80,\n",
    "                                max_features='sqrt', subsample=0.6, \n",
    "                                random_state = 51)\n",
    "model_evaluation(\"Gradient Boosting\", gb, \n",
    "                 X_pest_train, y_pest_train, X_pest_valid, y_pest_valid)\n"
   ]
  },
  {
   "cell_type": "code",
   "execution_count": 171,
   "metadata": {
    "scrolled": false
   },
   "outputs": [
    {
     "name": "stdout",
     "output_type": "stream",
     "text": [
      "              precision    recall  f1-score   support\n",
      "\n",
      "         0.0       1.00      0.71      0.83     10462\n",
      "         1.0       0.00      0.89      0.01         9\n",
      "\n",
      "    accuracy                           0.71     10471\n",
      "   macro avg       0.50      0.80      0.42     10471\n",
      "weighted avg       1.00      0.71      0.83     10471\n",
      "\n",
      "Confusion matrix, without normalization\n",
      "[[7440 3022]\n",
      " [   1    8]]\n",
      "Normalized confusion matrix\n",
      "[[0.7111451  0.2888549 ]\n",
      " [0.11111111 0.88888889]]\n"
     ]
    },
    {
     "data": {
      "text/plain": [
       "<matplotlib.axes._subplots.AxesSubplot at 0x12f9ad550>"
      ]
     },
     "execution_count": 171,
     "metadata": {},
     "output_type": "execute_result"
    },
    {
     "data": {
      "image/png": "[encoded data removed]",
      "text/plain": [
       "<Figure size 432x288 with 2 Axes>"
      ]
     },
     "metadata": {
      "needs_background": "light"
     },
     "output_type": "display_data"
    },
    {
     "data": {
      "image/png": "[encoded data removed]",
      "text/plain": [
       "<Figure size 432x288 with 2 Axes>"
      ]
     },
     "metadata": {
      "needs_background": "light"
     },
     "output_type": "display_data"
    }
   ],
   "source": [
    "gb = GradientBoostingClassifier(n_estimators = 15, max_depth=14, min_samples_split=200,\n",
    "                                learning_rate=0.075, min_samples_leaf=80,\n",
    "                                max_features='sqrt', subsample=0.6, \n",
    "                                random_state = 51)\n",
    "gb.fit(X_pest_train, y_pest_train) # training\n",
    "\n",
    "# Evaluating the model on validation set:\n",
    "y_pred_valid = grad_boost_train.predict(X_pest_valid)\n",
    "print(classification_report(y_pest_valid, y_pred_valid))\n",
    "\n",
    "plot_confusion_matrix(y_pest_valid, y_pred_valid, normalize=False,\n",
    "                      title='Confusion matrix, without normalization')\n",
    "\n",
    "plot_confusion_matrix(y_pest_valid, y_pred_valid, normalize=True,\n",
    "                      title='Confusion matrix, with normalization')"
   ]
  },
  {
   "cell_type": "markdown",
   "metadata": {},
   "source": [
    "#### Random Forest\n",
    "\n",
    "I first start with a _RandomizedSearchCV_ to locate a good range, then will use _GridSearchCV_ to fine tune."
   ]
  },
  {
   "cell_type": "code",
   "execution_count": 175,
   "metadata": {},
   "outputs": [
    {
     "name": "stdout",
     "output_type": "stream",
     "text": [
      "{'n_estimators': range(1000, 3000, 500), 'max_depth': range(2, 12, 4), 'min_samples_split': [2, 5, 10], 'min_samples_leaf': [1, 2, 10, 50]}\n",
      "Fitting 3 folds for each of 10 candidates, totalling 30 fits\n"
     ]
    },
    {
     "name": "stderr",
     "output_type": "stream",
     "text": [
      "[Parallel(n_jobs=-1)]: Using backend LokyBackend with 12 concurrent workers.\n",
      "[Parallel(n_jobs=-1)]: Done  23 out of  30 | elapsed:   39.3s remaining:   12.0s\n",
      "[Parallel(n_jobs=-1)]: Done  30 out of  30 | elapsed:   47.0s finished\n"
     ]
    },
    {
     "name": "stdout",
     "output_type": "stream",
     "text": [
      "tuned in 51.27570581436157seconds\n",
      "best params: {'n_estimators': 2000, 'min_samples_split': 10, 'min_samples_leaf': 10, 'max_depth': 6}\n",
      "The mean cross-validated AUROC of the best_estimator on X_train: 0.7718104087771578\n",
      "AUROC on (full) X_train: 0.9582663246757388\n"
     ]
    }
   ],
   "source": [
    "# Use the randomized grid to search for best hyperparameters\n",
    "\n",
    "# Number of trees in random forest\n",
    "n_estimators = range(1000, 3000, 500)\n",
    "# Number of features to consider at every split\n",
    "max_depth = range(2, 12, 4)\n",
    "# max_depth.append(None) # need to avoid overfitting.\n",
    "# Minimum number of samples required to split a node\n",
    "min_samples_split = [2, 5, 10]\n",
    "# Minimum number of samples required at each leaf node\n",
    "min_samples_leaf = [1, 2, 10, 50]\n",
    "\n",
    "# Create the random grid\n",
    "random_grid = {'n_estimators': n_estimators,\n",
    "               'max_depth': max_depth,\n",
    "               'min_samples_split': min_samples_split,\n",
    "               'min_samples_leaf': min_samples_leaf}\n",
    "print(random_grid)\n",
    "\n",
    "\n",
    "t0 = time.time()\n",
    "\n",
    "# Random Forest - adjusting the class weight in the classifier\n",
    "rf = RandomForestClassifier(max_features='auto', bootstrap=False, \n",
    "                            n_jobs = -1,\n",
    "                            class_weight='balanced')\n",
    "\n",
    "rf_random = RandomizedSearchCV(estimator = rf, param_distributions = random_grid, \n",
    "                               cv = 3, verbose=2, random_state=42, n_jobs = -1,\n",
    "                               scoring='roc_auc')\n",
    "\n",
    "# Fit the random search model\n",
    "rf_random.fit(X_pest_train, y_pest_train)\n",
    "\n",
    "print(\"tuned in \" + str(time.time() - t0) + 'seconds')\n",
    "\n",
    "print('best params: ' + str(rf_random.best_params_))\n",
    "print('The mean cross-validated AUROC of the best_estimator on X_train:', rf_random.best_score_)\n",
    "print('AUROC on (full) X_train: ' + str(rf_random.score(X_pest_train, y_pest_train)))"
   ]
  },
  {
   "cell_type": "code",
   "execution_count": 183,
   "metadata": {
    "scrolled": true
   },
   "outputs": [
    {
     "name": "stdout",
     "output_type": "stream",
     "text": [
      "Random Forest\n",
      "\n",
      "Accuracy on train set: 0.807627415401267\n",
      "AUROC on train set: 0.9574525396471054\n",
      "recall on train set: 0.9821428571428571\n",
      "\n",
      "Accuracy on validation set: 0.808136758666794\n",
      "AUROC on validation set: 0.8113490091123431\n",
      "recall on validation set: 0.6666666666666666\n",
      "\n",
      "\n",
      "\n"
     ]
    }
   ],
   "source": [
    "# Evaluation on validation set\n",
    "rf = RandomForestClassifier(n_estimators=2000, min_samples_split=10, max_depth=6, min_samples_leaf=10, \n",
    "                            max_features='auto', bootstrap=False, n_jobs = -1,\n",
    "                            class_weight='balanced')\n",
    "\n",
    "model_evaluation(\"Random Forest\", rf, \n",
    "                 X_pest_train, y_pest_train, X_pest_valid, y_pest_valid) \n",
    "\n",
    "\n"
   ]
  },
  {
   "cell_type": "code",
   "execution_count": 184,
   "metadata": {
    "scrolled": false
   },
   "outputs": [
    {
     "name": "stdout",
     "output_type": "stream",
     "text": [
      "              precision    recall  f1-score   support\n",
      "\n",
      "         0.0       1.00      0.81      0.89     10462\n",
      "         1.0       0.00      0.67      0.01         9\n",
      "\n",
      "    accuracy                           0.81     10471\n",
      "   macro avg       0.50      0.74      0.45     10471\n",
      "weighted avg       1.00      0.81      0.89     10471\n",
      "\n",
      "Confusion matrix, without normalization\n",
      "[[8446 2016]\n",
      " [   3    6]]\n",
      "Normalized confusion matrix\n",
      "[[0.80730262 0.19269738]\n",
      " [0.33333333 0.66666667]]\n"
     ]
    },
    {
     "data": {
      "text/plain": [
       "<matplotlib.axes._subplots.AxesSubplot at 0x12f97e1d0>"
      ]
     },
     "execution_count": 184,
     "metadata": {},
     "output_type": "execute_result"
    },
    {
     "data": {
      "image/png": "[encoded data removed]",
      "text/plain": [
       "<Figure size 432x288 with 2 Axes>"
      ]
     },
     "metadata": {
      "needs_background": "light"
     },
     "output_type": "display_data"
    },
    {
     "data": {
      "image/png": "[encoded data removed]",
      "text/plain": [
       "<Figure size 432x288 with 2 Axes>"
      ]
     },
     "metadata": {
      "needs_background": "light"
     },
     "output_type": "display_data"
    }
   ],
   "source": [
    "rf.fit(X_pest_train, y_pest_train) # training\n",
    "\n",
    "# Evaluating the model on validation set:\n",
    "y_pred_valid = rf.predict(X_pest_valid)\n",
    "print(classification_report(y_pest_valid, y_pred_valid))\n",
    "\n",
    "plot_confusion_matrix(y_pest_valid, y_pred_valid, normalize=False,\n",
    "                      title='Confusion matrix, without normalization')\n",
    "\n",
    "plot_confusion_matrix(y_pest_valid, y_pred_valid, normalize=True,\n",
    "                      title='Confusion matrix, with normalization')"
   ]
  },
  {
   "cell_type": "markdown",
   "metadata": {},
   "source": [
    "### Conclusion\n",
    "\n",
    "It is quite meaningless to try to classifiy on so few violations by pesticides. However, such a model might be promising for another region in the US, where pesticides contamination is a larger issue, as the estimate of pesticide use seem to be a valuable feature."
   ]
  },
  {
   "cell_type": "markdown",
   "metadata": {},
   "source": [
    "## Model Selection\n",
    "\n",
    "Right below, I re-run the evaluation on the validation set of the models trying to classify water systems that had violations, so the the results are visible.  \n",
    "\n",
    "I decide to choose the logistic regression, because:\n",
    "\n",
    "1. It achieves a similar AUROC than the gradient boosting and random forest while having a larger recall. That interest us, as we want to be sure to identify water systems at risk.\n",
    "2. This while being simpler and faster to run.\n",
    "3. And it is an explanatory approach.\n"
   ]
  },
  {
   "cell_type": "code",
   "execution_count": 191,
   "metadata": {},
   "outputs": [
    {
     "name": "stdout",
     "output_type": "stream",
     "text": [
      "Logistic regression with ridge regularization\n",
      "\n",
      "Accuracy on train set: 0.702002355712603\n",
      "AUROC on train set: 0.7295544166278747\n",
      "recall on train set: 0.632729364394593\n",
      "\n",
      "Accuracy on validation set: 0.7074777958170184\n",
      "AUROC on validation set: 0.700995318499094\n",
      "recall on validation set: 0.6083650190114068\n",
      "\n",
      "\n",
      "\n",
      "Gradient Boosting\n",
      "\n",
      "Accuracy on train set: 0.7001725625539258\n",
      "AUROC on train set: 0.7523483338350071\n",
      "recall on train set: 0.5130859936727064\n",
      "\n",
      "Accuracy on validation set: 0.8402253843949957\n",
      "AUROC on validation set: 0.7053637639638672\n",
      "recall on validation set: 0.4600760456273764\n",
      "\n",
      "\n",
      "\n",
      "Random Forest\n",
      "\n",
      "Accuracy on train set: 0.8331900805399038\n",
      "AUROC on train set: 0.7482828782234819\n",
      "recall on train set: 0.5234397469082542\n",
      "\n",
      "Accuracy on validation set: 0.8384108490115557\n",
      "AUROC on validation set: 0.7052449805162853\n",
      "recall on validation set: 0.46387832699619774\n",
      "\n",
      "\n",
      "\n"
     ]
    }
   ],
   "source": [
    "# Logistic Regression with Ridge Regularization \n",
    "log = LogisticRegression(solver='liblinear', C=1e-14, penalty='l2', class_weight='balanced')\n",
    "model_evaluation(\"Logistic regression with ridge regularization\", log,\n",
    "                 X_train, y_train, X_valid, y_valid)\n",
    "\n",
    "# Gradient Boosting - on data where the majority class was undersampled\n",
    "gb = GradientBoostingClassifier(n_estimators = 20,\n",
    "                                max_depth=8, \n",
    "                                learning_rate=0.075, min_samples_split=700, min_samples_leaf=80,\n",
    "                                max_features='sqrt', subsample=0.6, \n",
    "                                random_state = 51)\n",
    "model_evaluation(\"Gradient Boosting\", gb, \n",
    "                 X_train_down, y_train_down, X_valid, y_valid) # undersampling for the gradient boosting\n",
    "\n",
    "# Random forest - on data where the majority class was undersampled\n",
    "rf = RandomForestClassifier(n_estimators=2500, min_samples_split=5, max_depth=4, min_samples_leaf=50, \n",
    "                            max_features='auto', bootstrap=False, n_jobs = -1,\n",
    "                            class_weight='balanced')\n",
    "\n",
    "model_evaluation(\"Random Forest\", rf, \n",
    "                 X_train, y_train, X_valid, y_valid) # NEW: not X_train_res and y_train_res"
   ]
  },
  {
   "cell_type": "markdown",
   "metadata": {},
   "source": [
    "## Testing on Test Set"
   ]
  },
  {
   "cell_type": "code",
   "execution_count": 192,
   "metadata": {},
   "outputs": [
    {
     "name": "stdout",
     "output_type": "stream",
     "text": [
      "Logistic regression with ridge regularization\n",
      "\n",
      "Accuracy on train set: 0.702002355712603\n",
      "AUROC on train set: 0.7295544166278747\n",
      "recall on train set: 0.632729364394593\n",
      "\n",
      "Accuracy on validation set: 0.7399484289943654\n",
      "AUROC on validation set: 0.6712054264863319\n",
      "recall on validation set: 0.54178145087236\n",
      "\n",
      "\n",
      "\n"
     ]
    }
   ],
   "source": [
    "# Logistic Regression with Ridge Regularization \n",
    "log = LogisticRegression(solver='liblinear', C=1e-14, penalty='l2', class_weight='balanced')\n",
    "model_evaluation(\"Logistic regression with ridge regularization\", log,\n",
    "                 X_train, y_train, X_test, y_test)\n",
    "# Read TEST instead of VALIDATION below:"
   ]
  },
  {
   "cell_type": "code",
   "execution_count": 216,
   "metadata": {},
   "outputs": [
    {
     "name": "stdout",
     "output_type": "stream",
     "text": [
      "              precision    recall  f1-score   support\n",
      "\n",
      "         0.0       0.93      0.76      0.84      9382\n",
      "         1.0       0.21      0.54      0.30      1089\n",
      "\n",
      "    accuracy                           0.74     10471\n",
      "   macro avg       0.57      0.65      0.57     10471\n",
      "weighted avg       0.86      0.74      0.78     10471\n",
      "\n",
      "Confusion matrix, without normalization\n",
      "[[7158 2224]\n",
      " [ 499  590]]\n",
      "Normalized confusion matrix\n",
      "[[0.76295033 0.23704967]\n",
      " [0.45821855 0.54178145]]\n"
     ]
    },
    {
     "data": {
      "image/png": "[encoded data removed]",
      "text/plain": [
       "<Figure size 432x288 with 2 Axes>"
      ]
     },
     "metadata": {
      "needs_background": "light"
     },
     "output_type": "display_data"
    },
    {
     "data": {
      "image/png": "[encoded data removed]",
      "text/plain": [
       "<Figure size 432x288 with 2 Axes>"
      ]
     },
     "metadata": {
      "needs_background": "light"
     },
     "output_type": "display_data"
    }
   ],
   "source": [
    "model = log.fit(X_train, y_train) # training\n",
    "\n",
    "# Evaluating the model on TEST set:\n",
    "y_pred = model.predict(X_test)\n",
    "print(classification_report(y_test, y_pred))\n",
    "\n",
    "plot_confusion_matrix(y_test, y_pred, normalize=False,\n",
    "                      title='Confusion matrix, without normalization')\n",
    "\n",
    "plot_confusion_matrix(y_test, y_pred, normalize=True,\n",
    "                      title='Confusion matrix, with normalization')\n",
    "plt.show()"
   ]
  },
  {
   "cell_type": "code",
   "execution_count": 231,
   "metadata": {},
   "outputs": [
    {
     "data": {
      "image/png": "[encoded data removed]",
      "text/plain": [
       "<Figure size 800x800 with 1 Axes>"
      ]
     },
     "metadata": {},
     "output_type": "display_data"
    }
   ],
   "source": [
    "# PLOT ROC:\n",
    "\n",
    "# calculate the fpr and tpr for all thresholds of the classification\n",
    "probs = model.predict_proba(X_test)\n",
    "preds = probs[:,1]\n",
    "fpr, tpr, threshold = roc_curve(y_test, preds)\n",
    "roc_auc = auc(fpr, tpr)\n",
    "\n",
    "plt.figure(num=None, figsize=(4, 4), dpi=200, facecolor='w')\n",
    "plt.title('ROC - L2 logistic regression on test set')\n",
    "plt.plot(fpr, tpr, 'b', label = 'ROC (area: ' + str(round(roc_auc, 2)) + ')')\n",
    "plt.legend(loc = 'lower right')\n",
    "plt.plot([0, 1], [0, 1],'k--')\n",
    "plt.xlim([0, 1])\n",
    "plt.ylim([0, 1])\n",
    "plt.ylabel('True Positive Rate')\n",
    "plt.xlabel('False Positive Rate')\n",
    "plt.show()"
   ]
  },
  {
   "cell_type": "code",
   "execution_count": null,
   "metadata": {},
   "outputs": [],
   "source": []
  }
 ],
 "metadata": {
  "kernelspec": {
   "display_name": "Python 3",
   "language": "python",
   "name": "python3"
  },
  "language_info": {
   "codemirror_mode": {
    "name": "ipython",
    "version": 3
   },
   "file_extension": ".py",
   "mimetype": "text/x-python",
   "name": "python",
   "nbconvert_exporter": "python",
   "pygments_lexer": "ipython3",
   "version": "3.7.4"
  }
 },
 "nbformat": 4,
 "nbformat_minor": 2
}
