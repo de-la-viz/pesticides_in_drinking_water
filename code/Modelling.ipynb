{
 "cells": [
  {
   "cell_type": "markdown",
   "metadata": {},
   "source": [
    "# Modelling"
   ]
  },
  {
   "cell_type": "code",
   "execution_count": 244,
   "metadata": {},
   "outputs": [
    {
     "ename": "AttributeError",
     "evalue": "type object 'sklearn.manifold._barnes_hut_tsne.array' has no attribute '__reduce_cython__'",
     "output_type": "error",
     "traceback": [
      "\u001b[0;31m---------------------------------------------------------------------------\u001b[0m",
      "\u001b[0;31mAttributeError\u001b[0m                            Traceback (most recent call last)",
      "\u001b[0;32m<ipython-input-244-f3212f0660d3>\u001b[0m in \u001b[0;36m<module>\u001b[0;34m\u001b[0m\n\u001b[1;32m     18\u001b[0m \u001b[0;34m\u001b[0m\u001b[0m\n\u001b[1;32m     19\u001b[0m \u001b[0;31m# from imblearn.over_sampling import SMOTE # to handle class imbalance NOT WORKING\u001b[0m\u001b[0;34m\u001b[0m\u001b[0;34m\u001b[0m\u001b[0;34m\u001b[0m\u001b[0m\n\u001b[0;32m---> 20\u001b[0;31m \u001b[0;32mimport\u001b[0m \u001b[0msklearn\u001b[0m\u001b[0;34m.\u001b[0m\u001b[0mcluster\u001b[0m\u001b[0;34m\u001b[0m\u001b[0;34m\u001b[0m\u001b[0m\n\u001b[0m\u001b[1;32m     21\u001b[0m \u001b[0;32mimport\u001b[0m \u001b[0msklearn\u001b[0m\u001b[0;34m.\u001b[0m\u001b[0mmanifold\u001b[0m\u001b[0;34m\u001b[0m\u001b[0;34m\u001b[0m\u001b[0m\n\u001b[1;32m     22\u001b[0m \u001b[0;34m\u001b[0m\u001b[0m\n",
      "\u001b[0;32m/usr/local/lib/python3.7/site-packages/sklearn/cluster/__init__.py\u001b[0m in \u001b[0;36m<module>\u001b[0;34m\u001b[0m\n\u001b[1;32m      4\u001b[0m \"\"\"\n\u001b[1;32m      5\u001b[0m \u001b[0;34m\u001b[0m\u001b[0m\n\u001b[0;32m----> 6\u001b[0;31m \u001b[0;32mfrom\u001b[0m \u001b[0;34m.\u001b[0m\u001b[0mspectral\u001b[0m \u001b[0;32mimport\u001b[0m \u001b[0mspectral_clustering\u001b[0m\u001b[0;34m,\u001b[0m \u001b[0mSpectralClustering\u001b[0m\u001b[0;34m\u001b[0m\u001b[0;34m\u001b[0m\u001b[0m\n\u001b[0m\u001b[1;32m      7\u001b[0m from .mean_shift_ import (mean_shift, MeanShift,\n\u001b[1;32m      8\u001b[0m                           estimate_bandwidth, get_bin_seeds)\n",
      "\u001b[0;32m/usr/local/lib/python3.7/site-packages/sklearn/cluster/spectral.py\u001b[0m in \u001b[0;36m<module>\u001b[0;34m\u001b[0m\n\u001b[1;32m     15\u001b[0m \u001b[0;32mfrom\u001b[0m \u001b[0;34m.\u001b[0m\u001b[0;34m.\u001b[0m\u001b[0mmetrics\u001b[0m\u001b[0;34m.\u001b[0m\u001b[0mpairwise\u001b[0m \u001b[0;32mimport\u001b[0m \u001b[0mpairwise_kernels\u001b[0m\u001b[0;34m\u001b[0m\u001b[0;34m\u001b[0m\u001b[0m\n\u001b[1;32m     16\u001b[0m \u001b[0;32mfrom\u001b[0m \u001b[0;34m.\u001b[0m\u001b[0;34m.\u001b[0m\u001b[0mneighbors\u001b[0m \u001b[0;32mimport\u001b[0m \u001b[0mkneighbors_graph\u001b[0m\u001b[0;34m\u001b[0m\u001b[0;34m\u001b[0m\u001b[0m\n\u001b[0;32m---> 17\u001b[0;31m \u001b[0;32mfrom\u001b[0m \u001b[0;34m.\u001b[0m\u001b[0;34m.\u001b[0m\u001b[0mmanifold\u001b[0m \u001b[0;32mimport\u001b[0m \u001b[0mspectral_embedding\u001b[0m\u001b[0;34m\u001b[0m\u001b[0;34m\u001b[0m\u001b[0m\n\u001b[0m\u001b[1;32m     18\u001b[0m \u001b[0;32mfrom\u001b[0m \u001b[0;34m.\u001b[0m\u001b[0mk_means_\u001b[0m \u001b[0;32mimport\u001b[0m \u001b[0mk_means\u001b[0m\u001b[0;34m\u001b[0m\u001b[0;34m\u001b[0m\u001b[0m\n\u001b[1;32m     19\u001b[0m \u001b[0;34m\u001b[0m\u001b[0m\n",
      "\u001b[0;32m/usr/local/lib/python3.7/site-packages/sklearn/manifold/__init__.py\u001b[0m in \u001b[0;36m<module>\u001b[0;34m\u001b[0m\n\u001b[1;32m      7\u001b[0m \u001b[0;32mfrom\u001b[0m \u001b[0;34m.\u001b[0m\u001b[0mmds\u001b[0m \u001b[0;32mimport\u001b[0m \u001b[0mMDS\u001b[0m\u001b[0;34m,\u001b[0m \u001b[0msmacof\u001b[0m\u001b[0;34m\u001b[0m\u001b[0;34m\u001b[0m\u001b[0m\n\u001b[1;32m      8\u001b[0m \u001b[0;32mfrom\u001b[0m \u001b[0;34m.\u001b[0m\u001b[0mspectral_embedding_\u001b[0m \u001b[0;32mimport\u001b[0m \u001b[0mSpectralEmbedding\u001b[0m\u001b[0;34m,\u001b[0m \u001b[0mspectral_embedding\u001b[0m\u001b[0;34m\u001b[0m\u001b[0;34m\u001b[0m\u001b[0m\n\u001b[0;32m----> 9\u001b[0;31m \u001b[0;32mfrom\u001b[0m \u001b[0;34m.\u001b[0m\u001b[0mt_sne\u001b[0m \u001b[0;32mimport\u001b[0m \u001b[0mTSNE\u001b[0m\u001b[0;34m\u001b[0m\u001b[0;34m\u001b[0m\u001b[0m\n\u001b[0m\u001b[1;32m     10\u001b[0m \u001b[0;34m\u001b[0m\u001b[0m\n\u001b[1;32m     11\u001b[0m __all__ = ['locally_linear_embedding', 'LocallyLinearEmbedding', 'Isomap',\n",
      "\u001b[0;32m/usr/local/lib/python3.7/site-packages/sklearn/manifold/t_sne.py\u001b[0m in \u001b[0;36m<module>\u001b[0;34m\u001b[0m\n\u001b[1;32m     24\u001b[0m \u001b[0;32mfrom\u001b[0m \u001b[0;34m.\u001b[0m\u001b[0;34m.\u001b[0m\u001b[0mmetrics\u001b[0m\u001b[0;34m.\u001b[0m\u001b[0mpairwise\u001b[0m \u001b[0;32mimport\u001b[0m \u001b[0mpairwise_distances\u001b[0m\u001b[0;34m\u001b[0m\u001b[0;34m\u001b[0m\u001b[0m\n\u001b[1;32m     25\u001b[0m \u001b[0;32mfrom\u001b[0m \u001b[0;34m.\u001b[0m \u001b[0;32mimport\u001b[0m \u001b[0m_utils\u001b[0m\u001b[0;34m\u001b[0m\u001b[0;34m\u001b[0m\u001b[0m\n\u001b[0;32m---> 26\u001b[0;31m \u001b[0;32mfrom\u001b[0m \u001b[0;34m.\u001b[0m \u001b[0;32mimport\u001b[0m \u001b[0m_barnes_hut_tsne\u001b[0m\u001b[0;34m\u001b[0m\u001b[0;34m\u001b[0m\u001b[0m\n\u001b[0m\u001b[1;32m     27\u001b[0m \u001b[0;34m\u001b[0m\u001b[0m\n\u001b[1;32m     28\u001b[0m \u001b[0;34m\u001b[0m\u001b[0m\n",
      "\u001b[0;32m/usr/local/lib/python3.7/site-packages/sklearn/manifold/_barnes_hut_tsne.cpython-37m-darwin.so\u001b[0m in \u001b[0;36minit sklearn.manifold._barnes_hut_tsne\u001b[0;34m()\u001b[0m\n",
      "\u001b[0;31mAttributeError\u001b[0m: type object 'sklearn.manifold._barnes_hut_tsne.array' has no attribute '__reduce_cython__'"
     ]
    }
   ],
   "source": [
    "import pandas as pd\n",
    "import numpy as np\n",
    "import datetime\n",
    "import time\n",
    "\n",
    "%matplotlib inline\n",
    "# %matplotlib notebook\n",
    "import matplotlib.pyplot as plt\n",
    "import seaborn as sns\n",
    "\n",
    "import statsmodels.api as sm\n",
    "import sklearn\n",
    "from sklearn.linear_model import LogisticRegression\n",
    "from sklearn.metrics import roc_curve, roc_auc_score\n",
    "from sklearn.preprocessing import MinMaxScaler, LabelBinarizer\n",
    "from sklearn.model_selection import GridSearchCV, cross_val_score\n",
    "from sklearn.metrics import confusion_matrix, classification_report\n",
    "\n",
    "# from imblearn.over_sampling import SMOTE # to handle class imbalance NOT WORKING\n",
    "import sklearn.cluster\n",
    "import sklearn.manifold\n",
    "\n",
    "# from imblearn.over_sampling import SMOTE\n"
   ]
  },
  {
   "cell_type": "code",
   "execution_count": 90,
   "metadata": {},
   "outputs": [
    {
     "data": {
      "text/html": [
       "<div>\n",
       "<style scoped>\n",
       "    .dataframe tbody tr th:only-of-type {\n",
       "        vertical-align: middle;\n",
       "    }\n",
       "\n",
       "    .dataframe tbody tr th {\n",
       "        vertical-align: top;\n",
       "    }\n",
       "\n",
       "    .dataframe thead th {\n",
       "        text-align: right;\n",
       "    }\n",
       "</style>\n",
       "<table border=\"1\" class=\"dataframe\">\n",
       "  <thead>\n",
       "    <tr style=\"text-align: right;\">\n",
       "      <th></th>\n",
       "      <th>1</th>\n",
       "      <th>2</th>\n",
       "      <th>3</th>\n",
       "      <th>4</th>\n",
       "      <th>5</th>\n",
       "    </tr>\n",
       "  </thead>\n",
       "  <tbody>\n",
       "    <tr>\n",
       "      <th>pwsid</th>\n",
       "      <td>CT0010024</td>\n",
       "      <td>CT0010024</td>\n",
       "      <td>CT0010024</td>\n",
       "      <td>CT0010024</td>\n",
       "      <td>CT0010024</td>\n",
       "    </tr>\n",
       "    <tr>\n",
       "      <th>pws_name</th>\n",
       "      <td>ANDOVER TOWN HALL &amp; FIRE DEPARTMENT</td>\n",
       "      <td>ANDOVER TOWN HALL &amp; FIRE DEPARTMENT</td>\n",
       "      <td>ANDOVER TOWN HALL &amp; FIRE DEPARTMENT</td>\n",
       "      <td>ANDOVER TOWN HALL &amp; FIRE DEPARTMENT</td>\n",
       "      <td>ANDOVER TOWN HALL &amp; FIRE DEPARTMENT</td>\n",
       "    </tr>\n",
       "    <tr>\n",
       "      <th>primacy_agency_code</th>\n",
       "      <td>CT</td>\n",
       "      <td>CT</td>\n",
       "      <td>CT</td>\n",
       "      <td>CT</td>\n",
       "      <td>CT</td>\n",
       "    </tr>\n",
       "    <tr>\n",
       "      <th>pws_type_code</th>\n",
       "      <td>TNCWS</td>\n",
       "      <td>TNCWS</td>\n",
       "      <td>TNCWS</td>\n",
       "      <td>TNCWS</td>\n",
       "      <td>TNCWS</td>\n",
       "    </tr>\n",
       "    <tr>\n",
       "      <th>gw_sw_code</th>\n",
       "      <td>GW</td>\n",
       "      <td>GW</td>\n",
       "      <td>GW</td>\n",
       "      <td>GW</td>\n",
       "      <td>GW</td>\n",
       "    </tr>\n",
       "    <tr>\n",
       "      <th>owner_type_code</th>\n",
       "      <td>P</td>\n",
       "      <td>P</td>\n",
       "      <td>P</td>\n",
       "      <td>P</td>\n",
       "      <td>P</td>\n",
       "    </tr>\n",
       "    <tr>\n",
       "      <th>population_served_count</th>\n",
       "      <td>25</td>\n",
       "      <td>25</td>\n",
       "      <td>25</td>\n",
       "      <td>25</td>\n",
       "      <td>25</td>\n",
       "    </tr>\n",
       "    <tr>\n",
       "      <th>primary_source_code</th>\n",
       "      <td>GW</td>\n",
       "      <td>GW</td>\n",
       "      <td>GW</td>\n",
       "      <td>GW</td>\n",
       "      <td>GW</td>\n",
       "    </tr>\n",
       "    <tr>\n",
       "      <th>is_wholesaler_ind</th>\n",
       "      <td>N</td>\n",
       "      <td>N</td>\n",
       "      <td>N</td>\n",
       "      <td>N</td>\n",
       "      <td>N</td>\n",
       "    </tr>\n",
       "    <tr>\n",
       "      <th>is_school_or_daycare_ind</th>\n",
       "      <td>N</td>\n",
       "      <td>N</td>\n",
       "      <td>N</td>\n",
       "      <td>N</td>\n",
       "      <td>N</td>\n",
       "    </tr>\n",
       "    <tr>\n",
       "      <th>service_connections_count</th>\n",
       "      <td>2</td>\n",
       "      <td>2</td>\n",
       "      <td>2</td>\n",
       "      <td>2</td>\n",
       "      <td>2</td>\n",
       "    </tr>\n",
       "    <tr>\n",
       "      <th>cities_served</th>\n",
       "      <td>ANDOVER</td>\n",
       "      <td>ANDOVER</td>\n",
       "      <td>ANDOVER</td>\n",
       "      <td>ANDOVER</td>\n",
       "      <td>ANDOVER</td>\n",
       "    </tr>\n",
       "    <tr>\n",
       "      <th>counties_served</th>\n",
       "      <td>Tolland</td>\n",
       "      <td>Tolland</td>\n",
       "      <td>Tolland</td>\n",
       "      <td>Tolland</td>\n",
       "      <td>Tolland</td>\n",
       "    </tr>\n",
       "    <tr>\n",
       "      <th>ansi_entity_code</th>\n",
       "      <td>13</td>\n",
       "      <td>13</td>\n",
       "      <td>13</td>\n",
       "      <td>13</td>\n",
       "      <td>13</td>\n",
       "    </tr>\n",
       "    <tr>\n",
       "      <th>year</th>\n",
       "      <td>2013</td>\n",
       "      <td>2014</td>\n",
       "      <td>2015</td>\n",
       "      <td>2016</td>\n",
       "      <td>2017</td>\n",
       "    </tr>\n",
       "    <tr>\n",
       "      <th>n_viol</th>\n",
       "      <td>0</td>\n",
       "      <td>0</td>\n",
       "      <td>0</td>\n",
       "      <td>0</td>\n",
       "      <td>0</td>\n",
       "    </tr>\n",
       "    <tr>\n",
       "      <th>n_pesticide_viol</th>\n",
       "      <td>0</td>\n",
       "      <td>0</td>\n",
       "      <td>0</td>\n",
       "      <td>0</td>\n",
       "      <td>0</td>\n",
       "    </tr>\n",
       "    <tr>\n",
       "      <th>had_violation</th>\n",
       "      <td>0</td>\n",
       "      <td>0</td>\n",
       "      <td>0</td>\n",
       "      <td>0</td>\n",
       "      <td>0</td>\n",
       "    </tr>\n",
       "    <tr>\n",
       "      <th>had_pesticide_violation</th>\n",
       "      <td>0</td>\n",
       "      <td>0</td>\n",
       "      <td>0</td>\n",
       "      <td>0</td>\n",
       "      <td>0</td>\n",
       "    </tr>\n",
       "    <tr>\n",
       "      <th>had_violation_lastyear</th>\n",
       "      <td>0</td>\n",
       "      <td>0</td>\n",
       "      <td>0</td>\n",
       "      <td>0</td>\n",
       "      <td>0</td>\n",
       "    </tr>\n",
       "    <tr>\n",
       "      <th>had_pesticide_violation_lastyear</th>\n",
       "      <td>0</td>\n",
       "      <td>0</td>\n",
       "      <td>0</td>\n",
       "      <td>0</td>\n",
       "      <td>0</td>\n",
       "    </tr>\n",
       "  </tbody>\n",
       "</table>\n",
       "</div>"
      ],
      "text/plain": [
       "                                                                    1  \\\n",
       "pwsid                                                       CT0010024   \n",
       "pws_name                          ANDOVER TOWN HALL & FIRE DEPARTMENT   \n",
       "primacy_agency_code                                                CT   \n",
       "pws_type_code                                                   TNCWS   \n",
       "gw_sw_code                                                         GW   \n",
       "owner_type_code                                                     P   \n",
       "population_served_count                                            25   \n",
       "primary_source_code                                                GW   \n",
       "is_wholesaler_ind                                                   N   \n",
       "is_school_or_daycare_ind                                            N   \n",
       "service_connections_count                                           2   \n",
       "cities_served                                                 ANDOVER   \n",
       "counties_served                                               Tolland   \n",
       "ansi_entity_code                                                   13   \n",
       "year                                                             2013   \n",
       "n_viol                                                              0   \n",
       "n_pesticide_viol                                                    0   \n",
       "had_violation                                                       0   \n",
       "had_pesticide_violation                                             0   \n",
       "had_violation_lastyear                                              0   \n",
       "had_pesticide_violation_lastyear                                    0   \n",
       "\n",
       "                                                                    2  \\\n",
       "pwsid                                                       CT0010024   \n",
       "pws_name                          ANDOVER TOWN HALL & FIRE DEPARTMENT   \n",
       "primacy_agency_code                                                CT   \n",
       "pws_type_code                                                   TNCWS   \n",
       "gw_sw_code                                                         GW   \n",
       "owner_type_code                                                     P   \n",
       "population_served_count                                            25   \n",
       "primary_source_code                                                GW   \n",
       "is_wholesaler_ind                                                   N   \n",
       "is_school_or_daycare_ind                                            N   \n",
       "service_connections_count                                           2   \n",
       "cities_served                                                 ANDOVER   \n",
       "counties_served                                               Tolland   \n",
       "ansi_entity_code                                                   13   \n",
       "year                                                             2014   \n",
       "n_viol                                                              0   \n",
       "n_pesticide_viol                                                    0   \n",
       "had_violation                                                       0   \n",
       "had_pesticide_violation                                             0   \n",
       "had_violation_lastyear                                              0   \n",
       "had_pesticide_violation_lastyear                                    0   \n",
       "\n",
       "                                                                    3  \\\n",
       "pwsid                                                       CT0010024   \n",
       "pws_name                          ANDOVER TOWN HALL & FIRE DEPARTMENT   \n",
       "primacy_agency_code                                                CT   \n",
       "pws_type_code                                                   TNCWS   \n",
       "gw_sw_code                                                         GW   \n",
       "owner_type_code                                                     P   \n",
       "population_served_count                                            25   \n",
       "primary_source_code                                                GW   \n",
       "is_wholesaler_ind                                                   N   \n",
       "is_school_or_daycare_ind                                            N   \n",
       "service_connections_count                                           2   \n",
       "cities_served                                                 ANDOVER   \n",
       "counties_served                                               Tolland   \n",
       "ansi_entity_code                                                   13   \n",
       "year                                                             2015   \n",
       "n_viol                                                              0   \n",
       "n_pesticide_viol                                                    0   \n",
       "had_violation                                                       0   \n",
       "had_pesticide_violation                                             0   \n",
       "had_violation_lastyear                                              0   \n",
       "had_pesticide_violation_lastyear                                    0   \n",
       "\n",
       "                                                                    4  \\\n",
       "pwsid                                                       CT0010024   \n",
       "pws_name                          ANDOVER TOWN HALL & FIRE DEPARTMENT   \n",
       "primacy_agency_code                                                CT   \n",
       "pws_type_code                                                   TNCWS   \n",
       "gw_sw_code                                                         GW   \n",
       "owner_type_code                                                     P   \n",
       "population_served_count                                            25   \n",
       "primary_source_code                                                GW   \n",
       "is_wholesaler_ind                                                   N   \n",
       "is_school_or_daycare_ind                                            N   \n",
       "service_connections_count                                           2   \n",
       "cities_served                                                 ANDOVER   \n",
       "counties_served                                               Tolland   \n",
       "ansi_entity_code                                                   13   \n",
       "year                                                             2016   \n",
       "n_viol                                                              0   \n",
       "n_pesticide_viol                                                    0   \n",
       "had_violation                                                       0   \n",
       "had_pesticide_violation                                             0   \n",
       "had_violation_lastyear                                              0   \n",
       "had_pesticide_violation_lastyear                                    0   \n",
       "\n",
       "                                                                    5  \n",
       "pwsid                                                       CT0010024  \n",
       "pws_name                          ANDOVER TOWN HALL & FIRE DEPARTMENT  \n",
       "primacy_agency_code                                                CT  \n",
       "pws_type_code                                                   TNCWS  \n",
       "gw_sw_code                                                         GW  \n",
       "owner_type_code                                                     P  \n",
       "population_served_count                                            25  \n",
       "primary_source_code                                                GW  \n",
       "is_wholesaler_ind                                                   N  \n",
       "is_school_or_daycare_ind                                            N  \n",
       "service_connections_count                                           2  \n",
       "cities_served                                                 ANDOVER  \n",
       "counties_served                                               Tolland  \n",
       "ansi_entity_code                                                   13  \n",
       "year                                                             2017  \n",
       "n_viol                                                              0  \n",
       "n_pesticide_viol                                                    0  \n",
       "had_violation                                                       0  \n",
       "had_pesticide_violation                                             0  \n",
       "had_violation_lastyear                                              0  \n",
       "had_pesticide_violation_lastyear                                    0  "
      ]
     },
     "execution_count": 90,
     "metadata": {},
     "output_type": "execute_result"
    }
   ],
   "source": [
    "fulldata = pd.read_csv(\"../data/data_input_for_model.csv\")\n",
    "# fulldata.drop('Unnamed: 0', axis=1, inplace=True)\n",
    "\n",
    "# lets remove 2012, as it is the first year, it has no \"had_violation_lastyear\"\n",
    "fulldata = fulldata[fulldata.year > 2012]\n",
    "\n",
    "fulldata.head().T"
   ]
  },
  {
   "cell_type": "code",
   "execution_count": 95,
   "metadata": {},
   "outputs": [],
   "source": [
    "# select features for modelling\n",
    "features = ['primacy_agency_code', 'pws_type_code',\n",
    "           'gw_sw_code', 'owner_type_code', 'population_served_count',\n",
    "           'primary_source_code', 'is_wholesaler_ind', 'is_school_or_daycare_ind',\n",
    "           'service_connections_count',\n",
    "           'year', \n",
    "            'had_violation_lastyear', \n",
    "            'had_violation', \n",
    "           'had_pesticide_violation',\n",
    "           'had_pesticide_violation_lastyear']\n",
    "data = fulldata[features]"
   ]
  },
  {
   "cell_type": "code",
   "execution_count": 96,
   "metadata": {},
   "outputs": [],
   "source": [
    "# get dummies:\n",
    "# (on the contrary to R, this is needed in python as it is not done automatically by the fitting function)\n",
    "data = pd.get_dummies(data)"
   ]
  },
  {
   "cell_type": "markdown",
   "metadata": {},
   "source": [
    "Only three variables seem to have a some correlation with the outcome (*had_violation* or *had_pesticide_violation*): *pws_type_code*, *year* and especially *had_violation_lastyear*."
   ]
  },
  {
   "cell_type": "code",
   "execution_count": 97,
   "metadata": {
    "scrolled": false
   },
   "outputs": [
    {
     "data": {
      "image/png": "[encoded data removed]",
      "text/plain": [
       "<Figure size 792x648 with 2 Axes>"
      ]
     },
     "metadata": {
      "needs_background": "light"
     },
     "output_type": "display_data"
    }
   ],
   "source": [
    "corr = data.corr() \n",
    "\n",
    "# heatmap of correlations:\n",
    "f, ax = plt.subplots(figsize=(11, 9))\n",
    "cmap = sns.diverging_palette(220, 10, as_cmap=True) # Generate a custom diverging colormap\n",
    "# Draw the heatmap with the correct aspect ratio:\n",
    "sns.heatmap(corr, cmap=cmap, vmax=1, center=0,\n",
    "            square=True, linewidths=.5, cbar_kws={\"shrink\": .5})\n",
    "plt.show()"
   ]
  },
  {
   "cell_type": "markdown",
   "metadata": {},
   "source": [
    "We can get rid of some variables that are autocorrelated:"
   ]
  },
  {
   "cell_type": "code",
   "execution_count": 169,
   "metadata": {},
   "outputs": [],
   "source": [
    "# gw_sw_code_GW and gw_sw_code_SW, as they are highly correlated with primary_source_code and less precise,\n",
    "# and is_wholesaler_ind_N and is_school_or_daycare_ind_N, as they are binary and thus\n",
    "# highly correlated with their Y complement.\n",
    "\n",
    "data.drop(['gw_sw_code_GW', 'gw_sw_code_SW', 'is_wholesaler_ind_N', 'is_school_or_daycare_ind_N'], \n",
    "          axis=1, inplace=True)\n"
   ]
  },
  {
   "cell_type": "markdown",
   "metadata": {},
   "source": [
    "## Standardizing the Data\n",
    "\n",
    "We will do a _0-1 scaling_: 0-1 scaling: (Value - min Value)/(max Value - min Value).\n"
   ]
  },
  {
   "cell_type": "code",
   "execution_count": 174,
   "metadata": {},
   "outputs": [],
   "source": [
    "data_std = (data - data.min(axis=0)) / (data.max(axis=0) - data.min(axis=0))"
   ]
  },
  {
   "cell_type": "code",
   "execution_count": 175,
   "metadata": {},
   "outputs": [
    {
     "data": {
      "text/plain": [
       "array([0. , 0.2, 0.4, 0.6, 0.8, 1. ])"
      ]
     },
     "execution_count": 175,
     "metadata": {},
     "output_type": "execute_result"
    }
   ],
   "source": [
    "data_std.year.unique()"
   ]
  },
  {
   "cell_type": "markdown",
   "metadata": {},
   "source": [
    "## Trying First a Model to Predict All Violations (no focus on pesticides)\n",
    "\n",
    "Using *had_violation* as outcome variable."
   ]
  },
  {
   "cell_type": "markdown",
   "metadata": {},
   "source": [
    "### Splitting in Train, Validation and Test Sets\n",
    "We use the years 2013 to 2016 as train set, the year 2017 as validation set and the year 2018 as test set."
   ]
  },
  {
   "cell_type": "code",
   "execution_count": 176,
   "metadata": {},
   "outputs": [],
   "source": [
    "# SPLITTING IN TRAIN AND TEST:\n",
    "\n",
    "# let's train to test data on 2013-2017 and predict 2017:\n",
    "data_train = data_std[data_std.year < 0.8] # 2013, 2014, 2015, 2016\n",
    "data_valid = data_std[data_std.year == 0.8] # 2017\n",
    "data_test = data_std[data_std.year > 1.] # 2018\n",
    "\n",
    "X_train = data_train.drop('had_violation', axis=1)\n",
    "X_valid = data_valid.drop('had_violation', axis=1)\n",
    "X_test = data_test.drop('had_violation', axis=1)\n",
    "\n",
    "y_train = data_train.had_violation\n",
    "y_valid = data_valid.had_violation\n",
    "y_test = data_test.had_violation\n"
   ]
  },
  {
   "cell_type": "markdown",
   "metadata": {},
   "source": [
    "### Training a Vanilla Logistic Regression\n",
    "\n",
    "I would like to use _statsmodels_ to fit a logistic regression, as I want to learn about the importance of the different features, but I can not make it converge..."
   ]
  },
  {
   "cell_type": "code",
   "execution_count": 180,
   "metadata": {
    "scrolled": false
   },
   "outputs": [],
   "source": [
    "# ISSUE: CANNOT MAKE STATSMODELS CONVERGE...\n",
    "\n",
    "# logit_model = sm.Logit(y_train, X_train)\n",
    "# result = logit_model.fit_regularized() # even when changing fitting method='newton', 'bfgs', 'nm'\n",
    "# print(result.summary2())"
   ]
  },
  {
   "cell_type": "markdown",
   "metadata": {},
   "source": [
    "### First Training a Logistic Regression with Ridge Regularization (L2)\n",
    "\n",
    "This is a first try to evaluate if the model has some accuracy and what are the potential issues and important features."
   ]
  },
  {
   "cell_type": "code",
   "execution_count": 181,
   "metadata": {},
   "outputs": [
    {
     "name": "stdout",
     "output_type": "stream",
     "text": [
      "Best C: 0.1\n",
      "The mean cross-validated score of the best_estimator on X_train: 0.891772514564034\n",
      "Accuracy on (full) X_train: 0.8925842803934677\n"
     ]
    }
   ],
   "source": [
    "# first grid search to optimize C (lambda)\n",
    "ridge = LogisticRegression(penalty='l2', solver='liblinear') # liblinear is good for small datasets\n",
    "parameter = {'C':[0.1, 1, 10, 100, 1000, 10000]} \n",
    "# 5-fold CV and grid search to find the best C:\n",
    "ridge_f = GridSearchCV(estimator=ridge, scoring='accuracy', param_grid=parameter, cv=5)\n",
    "ridge_f.fit(X_train, y_train) # this is done -implicitely- with the best_estimator_ found with GridSearchCV\n",
    "print('Best C:',ridge_f.best_estimator_.C) \n",
    "print('The mean cross-validated score of the best_estimator on X_train:', ridge_f.best_score_)\n",
    "print('Accuracy on (full) X_train: ' + str(ridge_f.score(X_train, y_train)))\n"
   ]
  },
  {
   "cell_type": "code",
   "execution_count": 182,
   "metadata": {},
   "outputs": [
    {
     "name": "stdout",
     "output_type": "stream",
     "text": [
      "Best C: 0.001\n",
      "The mean cross-validated score of the best_estimator on X_train: 0.8918680164263203\n",
      "Accuracy on (full) X_train: 0.8918680164263203\n"
     ]
    }
   ],
   "source": [
    "# second grid search based on previous best C:\n",
    "parameter = {'C':[0.001, 0.01, 0.1, 0.5]} \n",
    "# 5-fold CV and grid search to find the best C:\n",
    "ridge_f = GridSearchCV(estimator=ridge, scoring='accuracy', param_grid=parameter, cv=5)\n",
    "ridge_f.fit(X_train, y_train) # this is done -implicitely- with the best_estimator_ found with GridSearchCV\n",
    "print('Best C:',ridge_f.best_estimator_.C) \n",
    "print('The mean cross-validated score of the best_estimator on X_train:', ridge_f.best_score_)\n",
    "print('Accuracy on (full) X_train: ' + str(ridge_f.score(X_train, y_train)))\n"
   ]
  },
  {
   "cell_type": "code",
   "execution_count": 183,
   "metadata": {
    "scrolled": true
   },
   "outputs": [
    {
     "name": "stdout",
     "output_type": "stream",
     "text": [
      "Best C: 0.05\n",
      "The mean cross-validated score of the best_estimator on X_train: 0.8923694012033234\n",
      "Accuracy on (full) X_train: 0.8924410276000382\n",
      "SD of mean test score (1 per parameter:) [0.00417732 0.00444578 0.01826906]\n"
     ]
    }
   ],
   "source": [
    "# final gridsearch, to refine a bit C:\n",
    "parameter = {'C':[0.05, 0.1, 0.15]} \n",
    "# 5-fold CV and grid search to find the best C:\n",
    "ridge_f = GridSearchCV(estimator=ridge, scoring='accuracy', param_grid=parameter, cv=5)\n",
    "ridge_f.fit(X_train, y_train) # this is done -implicitely- with the best_estimator_ found with GridSearchCV\n",
    "print('Best C:',ridge_f.best_estimator_.C) \n",
    "print('The mean cross-validated score of the best_estimator on X_train:', ridge_f.best_score_)\n",
    "print('Accuracy on (full) X_train: ' + str(ridge_f.score(X_train, y_train)))\n",
    "print('SD of mean test score (1 per parameter:) ' + str(ridge_f.cv_results_['std_test_score']))\n",
    "# ridge_f.cv_results_ # to see more results"
   ]
  },
  {
   "cell_type": "markdown",
   "metadata": {},
   "source": [
    "Overfitting seems to be ok. Let's evaluate this model a bit more in detail:  "
   ]
  },
  {
   "cell_type": "code",
   "execution_count": 201,
   "metadata": {
    "scrolled": true
   },
   "outputs": [
    {
     "name": "stdout",
     "output_type": "stream",
     "text": [
      "[[0.99949306 0.99807062 0.92770937 2.05417693 1.09780444 1.00242941\n",
      "  0.92885852 0.8977913  0.98320752 0.84361258 0.92277176 0.99313971\n",
      "  0.91037885 0.81854474 0.74927566 0.9584949  0.84747386 0.99390964\n",
      "  1.0018217  0.87249161 0.9682501  1.00478694 0.99809499 0.95696316\n",
      "  0.93908557 0.96896288 0.94518642 0.9947742  1.00365646]]\n"
     ]
    }
   ],
   "source": [
    "# Fitting the model with the chosen regularization:\n",
    "logit_ridge = LogisticRegression(penalty='l2', solver='liblinear', C=0.1)\n",
    "logit_ridge.fit(X_train, y_train)\n",
    "\n",
    "# A way to estimate the most important features:\n",
    "print(np.exp([np.std(X_train, 0)]*logit_ridge.coef_)) # \"standardized\" odds ratios. \n",
    "# They are around 1, but there is not confidence interval\n",
    "# The fourth is high and is likely a very important feature.\n",
    "# Without surprise, it is: had_violation_lastyear"
   ]
  },
  {
   "cell_type": "markdown",
   "metadata": {},
   "source": [
    "#### Model Evaluation\n",
    "\n",
    "Is the model overfitting? Is the accuracy obtained any good? What are the precision and recall?"
   ]
  },
  {
   "cell_type": "code",
   "execution_count": 197,
   "metadata": {},
   "outputs": [
    {
     "data": {
      "text/plain": [
       "array([0.89066603, 0.89353068, 0.89400812, 0.89257579, 0.88374314,\n",
       "       0.8930277 , 0.89207259, 0.89183381, 0.89040115, 0.86792453])"
      ]
     },
     "execution_count": 197,
     "metadata": {},
     "output_type": "execute_result"
    }
   ],
   "source": [
    "# Overfitting:\n",
    "cross_val_score(logit_ridge, X_train, y_train, cv=10) # looks not too bad."
   ]
  },
  {
   "cell_type": "code",
   "execution_count": 205,
   "metadata": {
    "scrolled": false
   },
   "outputs": [
    {
     "name": "stdout",
     "output_type": "stream",
     "text": [
      "              precision    recall  f1-score   support\n",
      "\n",
      "         0.0       0.90      0.99      0.94     37355\n",
      "         1.0       0.53      0.06      0.11      4529\n",
      "\n",
      "   micro avg       0.89      0.89      0.89     41884\n",
      "   macro avg       0.71      0.53      0.53     41884\n",
      "weighted avg       0.86      0.89      0.85     41884\n",
      "\n"
     ]
    }
   ],
   "source": [
    "print(classification_report(y_train, y_pred))\n",
    "# precision: the ability of the classifier not to label as positive a sample that is negative\n",
    "# recall: the ability of the classifier to find all the positive samples"
   ]
  },
  {
   "cell_type": "markdown",
   "metadata": {},
   "source": [
    "We can see that the classifier is good at identifying water systems that did not have any violations, but is bad at identifying water systems that had violations (recall = 0.06, should be ideally close to 1).  \n",
    "Is an accuracy around 89% impressive in this case?"
   ]
  },
  {
   "cell_type": "code",
   "execution_count": 213,
   "metadata": {
    "scrolled": true
   },
   "outputs": [
    {
     "name": "stdout",
     "output_type": "stream",
     "text": [
      "0.0    56697\n",
      "1.0     6129\n",
      "Name: had_violation, dtype: int64\n",
      "baseline performance (across years) = percentage of WS without violations: 0.9024448476745297%\n"
     ]
    }
   ],
   "source": [
    "n = data_std.had_violation.value_counts()\n",
    "print(n)\n",
    "print('baseline performance (across years) = percentage of WS without violations: ' + str(n[0]/(n[0]+n[1])) + '%')\n"
   ]
  },
  {
   "cell_type": "markdown",
   "metadata": {},
   "source": [
    "Not at all! As around 10% of the samples never had any violations, thus it is expected that the baseline performance of any classification algorithm is around 90% (not on one year, but all the years).  \n",
    "\n",
    "The model is bad at identifying the \"new\" water systems that will have a violation in the current year (except for those that add a violation in previous year)."
   ]
  },
  {
   "cell_type": "code",
   "execution_count": 218,
   "metadata": {},
   "outputs": [
    {
     "data": {
      "image/png": "[encoded data removed]",
      "text/plain": [
       "<Figure size 432x288 with 1 Axes>"
      ]
     },
     "metadata": {
      "needs_background": "light"
     },
     "output_type": "display_data"
    }
   ],
   "source": [
    "# one more way of evaluating the model, the ROC curve:\n",
    "\n",
    "\n",
    "y_scores = logit_ridge.decision_function(X_train)\n",
    "fpr, tpr, thresholds = roc_curve(y_train, y_scores)\n",
    "\n",
    "def plot_roc_curve(fpr, tpr, label=None):\n",
    "    plt.plot(fpr, tpr, linewidth=2, label=label)\n",
    "    plt.plot([0, 1], [0, 1], 'k--')\n",
    "    plt.axis([0, 1, 0, 1])\n",
    "    plt.xlabel('False Positive Rate')\n",
    "    plt.ylabel('True Positive Rate')\n",
    "    \n",
    "plot_roc_curve(fpr, tpr)\n",
    "plt.show()"
   ]
  },
  {
   "cell_type": "code",
   "execution_count": 219,
   "metadata": {},
   "outputs": [
    {
     "data": {
      "text/plain": [
       "0.7266191413747641"
      ]
     },
     "execution_count": 219,
     "metadata": {},
     "output_type": "execute_result"
    }
   ],
   "source": [
    "# Area Under the Receiver Operating Characteristic Curve (ROC AUC) from prediction scores:\n",
    "roc_auc_score(y_train, y_scores) \n"
   ]
  },
  {
   "cell_type": "markdown",
   "metadata": {},
   "source": [
    "## Handling Class Imbalance\n",
    "\n",
    "Before trying different models and select one and trying to perfect our prediction (especially recall), we have to handle the large class imbalance in the data. It has to be done before, as it can have a different influence on the model that we will test after.  \n",
    "\n",
    "We will try SMOTE to balance the data. Oversampling has to be done on training data alone ([see comment])(https://beckernick.github.io/oversampling-modeling). Oversampling can lead to bad generalization, that is why we will test the generalizibility on a validation set."
   ]
  },
  {
   "cell_type": "code",
   "execution_count": 245,
   "metadata": {},
   "outputs": [],
   "source": [
    "# adapt this: https://www.kaggle.com/qianchao/smote-with-imbalance-data"
   ]
  },
  {
   "cell_type": "code",
   "execution_count": null,
   "metadata": {},
   "outputs": [],
   "source": []
  },
  {
   "cell_type": "markdown",
   "metadata": {},
   "source": [
    "# TO DO\n",
    "\n",
    "1. handle class imbalance\n",
    "2. try a few model, evaluate, compare, select then fit on test set.\n",
    "3. Discuss why the prediction is not so great, propose potential solutions\n",
    "3. eventually try with had_pesticides and add pesticide use by county in the model."
   ]
  }
 ],
 "metadata": {
  "kernelspec": {
   "display_name": "Python 3",
   "language": "python",
   "name": "python3"
  },
  "language_info": {
   "codemirror_mode": {
    "name": "ipython",
    "version": 3
   },
   "file_extension": ".py",
   "mimetype": "text/x-python",
   "name": "python",
   "nbconvert_exporter": "python",
   "pygments_lexer": "ipython3",
   "version": "3.7.3"
  }
 },
 "nbformat": 4,
 "nbformat_minor": 2
}
